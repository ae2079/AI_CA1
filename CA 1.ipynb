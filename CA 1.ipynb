{
 "cells": [
  {
   "cell_type": "markdown",
   "id": "73456fac",
   "metadata": {},
   "source": [
    "## پروژه اول درس هوش مصنوعی با موضوع الگوریتم های جستجوی آگاهانه و ناآگاهانه"
   ]
  },
  {
   "cell_type": "markdown",
   "id": "89406161",
   "metadata": {},
   "source": [
    "### در این پروژه سعی میکنیم با استفاده از الگوریتم های زیر مساله ی یافتن راهی برای جمع آوری معجون ها از معبدی با شکل شطرنجی را حل کنیم"
   ]
  },
  {
   "cell_type": "markdown",
   "id": "fec1c5f7",
   "metadata": {},
   "source": [
    "## BFS , IDS & A*"
   ]
  },
  {
   "cell_type": "markdown",
   "id": "c6fef698",
   "metadata": {},
   "source": [
    "# Imports"
   ]
  },
  {
   "cell_type": "code",
   "execution_count": 17,
   "id": "2bef7f63",
   "metadata": {},
   "outputs": [],
   "source": [
    "import numpy as np\n",
    "import time\n",
    "from copy import deepcopy\n",
    "import queue as qu"
   ]
  },
  {
   "cell_type": "markdown",
   "id": "12509f30",
   "metadata": {},
   "source": [
    "# Body"
   ]
  },
  {
   "cell_type": "markdown",
   "id": "7c7f3233",
   "metadata": {},
   "source": [
    "## Load tests data"
   ]
  },
  {
   "cell_type": "code",
   "execution_count": 18,
   "id": "8137c96e",
   "metadata": {},
   "outputs": [],
   "source": [
    "tests = []\n",
    "file = open(\"test1.in\")\n",
    "tests.append(file.readlines())\n",
    "file.close()\n",
    "file = open(\"test2.in\")\n",
    "tests.append(file.readlines())\n",
    "file.close()\n",
    "file = open(\"test3.in\")\n",
    "tests.append(file.readlines())\n",
    "file.close()"
   ]
  },
  {
   "cell_type": "markdown",
   "id": "98cfb176",
   "metadata": {},
   "source": [
    "#### داده های تست ها را از فایل هایی که در پوشه پروژه قرار دارند برای تست برنامه لود می کنیم\n",
    "#### با توجه به تست های موجود فرض می شود که تعداد سطر ها و ستون ها اعداد تک رقمی می باشند "
   ]
  },
  {
   "cell_type": "markdown",
   "id": "e7e2a441",
   "metadata": {},
   "source": [
    "## Create tests maps"
   ]
  },
  {
   "cell_type": "code",
   "execution_count": 19,
   "id": "65671ca9",
   "metadata": {},
   "outputs": [],
   "source": [
    "maps = []\n",
    "#C = []\n",
    "#K = []\n",
    "for test in tests:\n",
    "    num_of_row = int(test[0][0])\n",
    "    num_of_col = int(test[0][2])\n",
    "    curr_map = np.array([['e'] * num_of_col for i in range(num_of_row)])\n",
    "    #maps.append(temp_map)\n",
    "    curr_c = int(test[1][0])\n",
    "    #C.append(curr_c)\n",
    "    curr_k = int(test[1][2])\n",
    "    #K.append(curr_k)\n",
    "    for i in range(0, curr_c):\n",
    "        curr_map[int(test[2+i][0])][int(test[2+i][2])] = 'c'\n",
    "    for i in range(0, curr_k):\n",
    "        curr_map[int(test[2+curr_c+i][0])][int(test[2+curr_c+i][2])] = 'k'\n",
    "    curr_d = int(test[2+curr_c+curr_k])\n",
    "    for i in range(0, curr_d):\n",
    "        curr_map[int(test[3+curr_c+curr_k+i][0])][int(test[3+curr_c+curr_k+i][2])] = 'd'\n",
    "    maps.append(curr_map)\n"
   ]
  },
  {
   "cell_type": "code",
   "execution_count": 20,
   "id": "cfe253e6",
   "metadata": {},
   "outputs": [
    {
     "data": {
      "text/plain": [
       "[array([['e', 'k', 'c', 'e'],\n",
       "        ['e', 'e', 'd', 'e'],\n",
       "        ['c', 'e', 'e', 'e'],\n",
       "        ['e', 'e', 'e', 'e']], dtype='<U1'),\n",
       " array([['k', 'e', 'e', 'd'],\n",
       "        ['e', 'k', 'c', 'd'],\n",
       "        ['c', 'c', 'e', 'e'],\n",
       "        ['e', 'k', 'e', 'e']], dtype='<U1'),\n",
       " array([['e', 'e', 'd', 'e', 'e', 'e'],\n",
       "        ['e', 'd', 'c', 'e', 'e', 'c'],\n",
       "        ['e', 'e', 'k', 'e', 'e', 'e'],\n",
       "        ['d', 'e', 'e', 'e', 'e', 'c'],\n",
       "        ['e', 'd', 'k', 'c', 'e', 'e'],\n",
       "        ['e', 'c', 'e', 'e', 'e', 'e']], dtype='<U1')]"
      ]
     },
     "execution_count": 20,
     "metadata": {},
     "output_type": "execute_result"
    }
   ],
   "source": [
    "maps"
   ]
  },
  {
   "cell_type": "markdown",
   "id": "410807b6",
   "metadata": {},
   "source": [
    "#### مشاهده می شود که نقشه های تست به درستی  لود شده اند"
   ]
  },
  {
   "cell_type": "markdown",
   "id": "69134301",
   "metadata": {},
   "source": [
    "## Model Description"
   ]
  },
  {
   "cell_type": "markdown",
   "id": "de72a0a0",
   "metadata": {},
   "source": [
    "### Actions : Di up, Di down, Di right, Di left (for i in range num of doctors)"
   ]
  },
  {
   "cell_type": "markdown",
   "id": "cc16b71c",
   "metadata": {},
   "source": [
    "### Initial State : A doctor in (0, 0) and the map looks like the test files"
   ]
  },
  {
   "cell_type": "markdown",
   "id": "4ea70874",
   "metadata": {},
   "source": [
    "### Goal State : Every doctor in (n-1, m-1) and no 'c' remain in the map"
   ]
  },
  {
   "cell_type": "markdown",
   "id": "12f4234d",
   "metadata": {},
   "source": [
    "### Path cost : sum of moves (Actions) of all doctors (from Initial state to Goal state)"
   ]
  },
  {
   "cell_type": "markdown",
   "id": "7c029aab",
   "metadata": {},
   "source": [
    "### State : position of elements in the map in a node represents the current state for this node"
   ]
  },
  {
   "cell_type": "markdown",
   "id": "44c7d6c4",
   "metadata": {},
   "source": [
    "### Transition Model : اگر دکتری به خانه ای که دارای دارو است وارد شود آن خانه تبدیل به خانه ی خالی شده و یک دکتر در خانه ی پایین سمت چپ جدول ایجاد می شود . اگر دکتری وارد خانه ای دارای معجون شود آن خانه به خانه ی خالی تبدیل می شود . برای حرکت دکتر ها هم تنها در صورتی که خانه ی مورد نظر مجاز باشد و قابل رفتن باشد به آنجا می رود"
   ]
  },
  {
   "cell_type": "markdown",
   "id": "ff87cb99",
   "metadata": {},
   "source": [
    "## Data Structures"
   ]
  },
  {
   "cell_type": "code",
   "execution_count": 40,
   "id": "752fe6cf",
   "metadata": {},
   "outputs": [],
   "source": [
    "class Node:\n",
    "    def __init__(self, curr_map, path_until_there, path_cost_until_there, curr_Drs):\n",
    "        self.state = curr_map\n",
    "        self.path = path_until_there\n",
    "        self.path_cost = path_cost_until_there\n",
    "        self.Drs = curr_Drs\n",
    "        self.m = len(curr_map)\n",
    "        self.n = len(curr_map[0])\n",
    "    \n",
    "    def Goal_test(self):\n",
    "        for row in self.state:\n",
    "            if 'c' in row:\n",
    "                return False\n",
    "        for dr in self.Drs:\n",
    "            if dr[1] != self.m-1 or dr[2] != self.n-1:\n",
    "                return False\n",
    "        return True\n",
    "    \n",
    "    def expand(self, fifo):\n",
    "        for dr in self.Drs:\n",
    "            if dr[1] == self.m-1 and dr[2] == self.n-1:\n",
    "                continue\n",
    "            if dr[1]+1 < self.m:\n",
    "                if self.state[dr[1]+1][dr[2]] != 'd':\n",
    "                    temp_state = deepcopy(self.state)\n",
    "                    temp_drs = deepcopy(self.Drs)\n",
    "                    temp_drs[dr[0]][1] = dr[1]+1\n",
    "                    if temp_state[dr[1]+1][dr[2]] == 'k':\n",
    "                        temp_drs.append([len(self.Drs), self.m-1, 0])\n",
    "                    temp_state[dr[1]+1][dr[2]] = 'e'\n",
    "                    temp_path = deepcopy(self.path)\n",
    "                    temp_path.append([dr[0], \"Down\"])\n",
    "                    temp_node = Node(temp_state, temp_path, self.path_cost+1, temp_drs)\n",
    "                    if temp_node.Goal_test():\n",
    "                        return temp_node\n",
    "                    fifo.put(temp_node)\n",
    "            if dr[1] > 0:\n",
    "                if self.state[dr[1]-1][dr[2]] != 'd':\n",
    "                    temp_state = deepcopy(self.state)\n",
    "                    temp_drs = deepcopy(self.Drs)\n",
    "                    temp_drs[dr[0]][1] = dr[1]-1\n",
    "                    if temp_state[dr[1]-1][dr[2]] == 'k':\n",
    "                        temp_drs.append([len(self.Drs), self.m-1, 0])\n",
    "                    temp_state[dr[1]-1][dr[2]] = 'e'\n",
    "                    temp_path = deepcopy(self.path)\n",
    "                    temp_path.append([dr[0], \"Up\"])\n",
    "                    temp_node = Node(temp_state, temp_path, self.path_cost+1, temp_drs)\n",
    "                    if temp_node.Goal_test():\n",
    "                        return temp_node\n",
    "                    fifo.put(temp_node)\n",
    "            if dr[2]+1 < self.n:\n",
    "                if self.state[dr[1]][dr[2]+1] != 'd':\n",
    "                    temp_state = deepcopy(self.state)\n",
    "                    temp_drs = deepcopy(self.Drs)\n",
    "                    temp_drs[dr[0]][2] = dr[2]+1\n",
    "                    if temp_state[dr[1]][dr[2]+1] == 'k':\n",
    "                        temp_drs.append([len(self.Drs), self.m-1, 0])\n",
    "                    temp_state[dr[1]][dr[2]+1] = 'e'\n",
    "                    temp_path = deepcopy(self.path)\n",
    "                    temp_path.append([dr[0], \"Right\"])\n",
    "                    temp_node = Node(temp_state, temp_path, self.path_cost+1, temp_drs)\n",
    "                    if temp_node.Goal_test():\n",
    "                        return temp_node\n",
    "                    fifo.put(temp_node)\n",
    "            if dr[2] > 0:\n",
    "                if self.state[dr[1]][dr[2]-1] != 'd':\n",
    "                    temp_state = deepcopy(self.state)\n",
    "                    temp_drs = deepcopy(self.Drs)\n",
    "                    temp_drs[dr[0]][2] = dr[2]-1\n",
    "                    if temp_state[dr[1]][dr[2]-1] == 'k':\n",
    "                        temp_drs.append([len(self.Drs), self.m-1, 0])\n",
    "                    temp_state[dr[1]][dr[2]-1] = 'e'\n",
    "                    temp_path = deepcopy(self.path)\n",
    "                    temp_path.append([dr[0], \"Left\"])\n",
    "                    temp_node = Node(temp_state, temp_path, self.path_cost+1, temp_drs)\n",
    "                    if temp_node.Goal_test():\n",
    "                        return temp_node\n",
    "                    fifo.put(temp_node)\n",
    "                    \n",
    "        return None"
   ]
  },
  {
   "cell_type": "markdown",
   "id": "982f32db",
   "metadata": {},
   "source": [
    "## Common Functions"
   ]
  },
  {
   "cell_type": "code",
   "execution_count": 41,
   "id": "b13db364",
   "metadata": {},
   "outputs": [],
   "source": [
    "##def Goal_test(node):\n",
    "    "
   ]
  },
  {
   "cell_type": "markdown",
   "id": "30b152f0",
   "metadata": {},
   "source": [
    "## Implementation with BFS"
   ]
  },
  {
   "cell_type": "markdown",
   "id": "27700e40",
   "metadata": {},
   "source": [
    "### این الگوریتم کامل است و همواره جواب بهینه را به دست می آورد ولی از نظر تعداد استیت های دیده شده و زمان اجرا بهینه نیست "
   ]
  },
  {
   "cell_type": "markdown",
   "id": "882e6c8f",
   "metadata": {},
   "source": [
    "### در این پیاده سازی برای راحتی پیاده سازی از مدیریت استیت های تکراری صرف نظر شده است"
   ]
  },
  {
   "cell_type": "code",
   "execution_count": 51,
   "id": "2b725774",
   "metadata": {},
   "outputs": [],
   "source": [
    "maps_copy = deepcopy(maps)"
   ]
  },
  {
   "cell_type": "code",
   "execution_count": 56,
   "id": "62c10ee4",
   "metadata": {},
   "outputs": [
    {
     "data": {
      "text/plain": [
       "array([['e', 'k', 'c', 'e'],\n",
       "       ['e', 'e', 'd', 'e'],\n",
       "       ['e', 'e', 'e', 'e'],\n",
       "       ['e', 'e', 'e', 'e']], dtype='<U1')"
      ]
     },
     "execution_count": 56,
     "metadata": {},
     "output_type": "execute_result"
    }
   ],
   "source": [
    "maps_copy[0]"
   ]
  },
  {
   "cell_type": "code",
   "execution_count": 53,
   "id": "2449d547",
   "metadata": {},
   "outputs": [],
   "source": [
    "maps_copy[0][2][0] = 'e'"
   ]
  },
  {
   "cell_type": "code",
   "execution_count": 55,
   "id": "74216a5a",
   "metadata": {},
   "outputs": [
    {
     "data": {
      "text/plain": [
       "array([['e', 'k', 'c', 'e'],\n",
       "       ['e', 'e', 'd', 'e'],\n",
       "       ['e', 'e', 'e', 'e'],\n",
       "       ['e', 'e', 'e', 'e']], dtype='<U1')"
      ]
     },
     "execution_count": 55,
     "metadata": {},
     "output_type": "execute_result"
    }
   ],
   "source": [
    "maps_copy[0]"
   ]
  },
  {
   "cell_type": "code",
   "execution_count": 46,
   "id": "7606f130",
   "metadata": {},
   "outputs": [],
   "source": [
    "fifo = qu.Queue()"
   ]
  },
  {
   "cell_type": "code",
   "execution_count": 47,
   "id": "d91cf6ab",
   "metadata": {},
   "outputs": [],
   "source": [
    "fifo.put(Node(maps_copy[0], [], 0, [[0, 0, 0]]))"
   ]
  },
  {
   "cell_type": "code",
   "execution_count": 48,
   "id": "0d5f40d2",
   "metadata": {},
   "outputs": [
    {
     "name": "stdout",
     "output_type": "stream",
     "text": [
      "answer found\n",
      "[[0, 'Right'], [0, 'Right'], [0, 'Right'], [0, 'Down'], [0, 'Down'], [0, 'Down'], [1, 'Right'], [1, 'Right'], [1, 'Right']]\n"
     ]
    }
   ],
   "source": [
    "first_time = time.time()\n",
    "while not fifo.empty():\n",
    "    curr_node = fifo.get()\n",
    "    answer = curr_node.expand(fifo)\n",
    "    if answer != None:\n",
    "        print(\"answer found\")\n",
    "        print(answer.path)\n",
    "        break\n",
    "last_time = time.time()"
   ]
  },
  {
   "cell_type": "code",
   "execution_count": 49,
   "id": "b4e8f97c",
   "metadata": {},
   "outputs": [],
   "source": [
    "bfs_time = last_time - first_time"
   ]
  },
  {
   "cell_type": "code",
   "execution_count": 50,
   "id": "bcc28013",
   "metadata": {},
   "outputs": [
    {
     "data": {
      "text/plain": [
       "12.38840937614441"
      ]
     },
     "execution_count": 50,
     "metadata": {},
     "output_type": "execute_result"
    }
   ],
   "source": [
    "bfs_time"
   ]
  },
  {
   "cell_type": "code",
   "execution_count": null,
   "id": "1d4e9863",
   "metadata": {},
   "outputs": [],
   "source": []
  },
  {
   "cell_type": "code",
   "execution_count": null,
   "id": "0e321c3b",
   "metadata": {},
   "outputs": [],
   "source": []
  },
  {
   "cell_type": "markdown",
   "id": "3de50c52",
   "metadata": {},
   "source": [
    "## Implementation with IDS"
   ]
  },
  {
   "cell_type": "markdown",
   "id": "afb9f05b",
   "metadata": {},
   "source": [
    "### این الگوریتم کامل .......... و همواره جواب بهینه را .............. ولی از نظر تعداد استیت ها و زمان اجرا بهینه نیست "
   ]
  },
  {
   "cell_type": "code",
   "execution_count": null,
   "id": "ee481f67",
   "metadata": {},
   "outputs": [],
   "source": []
  },
  {
   "cell_type": "code",
   "execution_count": null,
   "id": "1d308104",
   "metadata": {},
   "outputs": [],
   "source": []
  },
  {
   "cell_type": "code",
   "execution_count": 185,
   "id": "a17aee12",
   "metadata": {},
   "outputs": [],
   "source": [
    "maps_copy = deepcopy(maps)"
   ]
  },
  {
   "cell_type": "code",
   "execution_count": null,
   "id": "03705ac6",
   "metadata": {},
   "outputs": [],
   "source": []
  },
  {
   "cell_type": "code",
   "execution_count": null,
   "id": "ee82eed5",
   "metadata": {},
   "outputs": [],
   "source": []
  },
  {
   "cell_type": "code",
   "execution_count": null,
   "id": "accc3c2e",
   "metadata": {},
   "outputs": [],
   "source": []
  },
  {
   "cell_type": "code",
   "execution_count": null,
   "id": "2a2626c4",
   "metadata": {},
   "outputs": [],
   "source": []
  },
  {
   "cell_type": "code",
   "execution_count": null,
   "id": "a3accafa",
   "metadata": {},
   "outputs": [],
   "source": []
  },
  {
   "cell_type": "code",
   "execution_count": null,
   "id": "8ccfd926",
   "metadata": {},
   "outputs": [],
   "source": []
  },
  {
   "cell_type": "code",
   "execution_count": null,
   "id": "16c3388e",
   "metadata": {},
   "outputs": [],
   "source": []
  },
  {
   "cell_type": "markdown",
   "id": "34cca8a7",
   "metadata": {},
   "source": [
    "## Implementation with A* with consistent heuristic"
   ]
  },
  {
   "cell_type": "markdown",
   "id": "92c137c8",
   "metadata": {},
   "source": [
    "### این الگوریتم کامل .......... و همواره جواب بهینه را .............. ولی از نظر تعداد استیت ها و زمان اجرا بهینه نیست "
   ]
  },
  {
   "cell_type": "code",
   "execution_count": 186,
   "id": "ada71928",
   "metadata": {},
   "outputs": [],
   "source": [
    "maps_copy = deepcopy(maps)"
   ]
  },
  {
   "cell_type": "code",
   "execution_count": null,
   "id": "22d9577d",
   "metadata": {},
   "outputs": [],
   "source": []
  },
  {
   "cell_type": "code",
   "execution_count": null,
   "id": "3f8d7d84",
   "metadata": {},
   "outputs": [],
   "source": []
  },
  {
   "cell_type": "code",
   "execution_count": null,
   "id": "c9b9a80e",
   "metadata": {},
   "outputs": [],
   "source": []
  },
  {
   "cell_type": "code",
   "execution_count": null,
   "id": "b7452aba",
   "metadata": {},
   "outputs": [],
   "source": []
  },
  {
   "cell_type": "code",
   "execution_count": null,
   "id": "e6ed3109",
   "metadata": {},
   "outputs": [],
   "source": []
  },
  {
   "cell_type": "code",
   "execution_count": null,
   "id": "5cce693d",
   "metadata": {},
   "outputs": [],
   "source": []
  },
  {
   "cell_type": "code",
   "execution_count": null,
   "id": "f4c9d1e1",
   "metadata": {},
   "outputs": [],
   "source": []
  },
  {
   "cell_type": "code",
   "execution_count": null,
   "id": "5b5977c5",
   "metadata": {},
   "outputs": [],
   "source": []
  },
  {
   "cell_type": "code",
   "execution_count": null,
   "id": "fda38474",
   "metadata": {},
   "outputs": [],
   "source": []
  },
  {
   "cell_type": "markdown",
   "id": "ac0823ea",
   "metadata": {},
   "source": [
    "## Implementation with weighted A* with Alfa = 1.3 "
   ]
  },
  {
   "cell_type": "markdown",
   "id": "6b3aa65b",
   "metadata": {},
   "source": [
    "### این الگوریتم کامل .......... و همواره جواب بهینه را .............. ولی از نظر تعداد استیت ها و زمان اجرا بهینه نیست "
   ]
  },
  {
   "cell_type": "code",
   "execution_count": null,
   "id": "f92bd18c",
   "metadata": {},
   "outputs": [],
   "source": []
  },
  {
   "cell_type": "code",
   "execution_count": null,
   "id": "e72589ce",
   "metadata": {},
   "outputs": [],
   "source": []
  },
  {
   "cell_type": "code",
   "execution_count": 187,
   "id": "779b6360",
   "metadata": {},
   "outputs": [],
   "source": [
    "maps_copy = deepcopy(maps)"
   ]
  },
  {
   "cell_type": "code",
   "execution_count": null,
   "id": "c8b34328",
   "metadata": {},
   "outputs": [],
   "source": []
  },
  {
   "cell_type": "code",
   "execution_count": null,
   "id": "039d94cb",
   "metadata": {},
   "outputs": [],
   "source": []
  },
  {
   "cell_type": "code",
   "execution_count": null,
   "id": "b96af661",
   "metadata": {},
   "outputs": [],
   "source": []
  },
  {
   "cell_type": "code",
   "execution_count": null,
   "id": "354c556d",
   "metadata": {},
   "outputs": [],
   "source": []
  },
  {
   "cell_type": "code",
   "execution_count": null,
   "id": "6fb54af8",
   "metadata": {},
   "outputs": [],
   "source": []
  },
  {
   "cell_type": "code",
   "execution_count": null,
   "id": "90d04746",
   "metadata": {},
   "outputs": [],
   "source": []
  },
  {
   "cell_type": "code",
   "execution_count": null,
   "id": "50c5cc99",
   "metadata": {},
   "outputs": [],
   "source": []
  },
  {
   "cell_type": "code",
   "execution_count": null,
   "id": "3ed43c36",
   "metadata": {},
   "outputs": [],
   "source": []
  },
  {
   "cell_type": "markdown",
   "id": "73dbbf22",
   "metadata": {},
   "source": [
    "## Implementation with weighted A* with Alfa = 1.5"
   ]
  },
  {
   "cell_type": "markdown",
   "id": "2c8da4a7",
   "metadata": {},
   "source": [
    "### این الگوریتم کامل .......... و همواره جواب بهینه را .............. ولی از نظر تعداد استیت ها و زمان اجرا بهینه نیست "
   ]
  },
  {
   "cell_type": "code",
   "execution_count": null,
   "id": "4c7f9ca4",
   "metadata": {},
   "outputs": [],
   "source": []
  },
  {
   "cell_type": "code",
   "execution_count": null,
   "id": "6d9804cb",
   "metadata": {},
   "outputs": [],
   "source": []
  },
  {
   "cell_type": "code",
   "execution_count": 188,
   "id": "44bd7f5c",
   "metadata": {},
   "outputs": [],
   "source": [
    "maps_copy = deepcopy(maps)"
   ]
  },
  {
   "cell_type": "code",
   "execution_count": null,
   "id": "8f46bad4",
   "metadata": {},
   "outputs": [],
   "source": []
  },
  {
   "cell_type": "code",
   "execution_count": null,
   "id": "e8402ce5",
   "metadata": {},
   "outputs": [],
   "source": []
  },
  {
   "cell_type": "code",
   "execution_count": null,
   "id": "b68ed89c",
   "metadata": {},
   "outputs": [],
   "source": []
  },
  {
   "cell_type": "code",
   "execution_count": null,
   "id": "216df105",
   "metadata": {},
   "outputs": [],
   "source": []
  },
  {
   "cell_type": "code",
   "execution_count": null,
   "id": "6adfda7c",
   "metadata": {},
   "outputs": [],
   "source": []
  },
  {
   "cell_type": "code",
   "execution_count": null,
   "id": "44eaead0",
   "metadata": {},
   "outputs": [],
   "source": []
  }
 ],
 "metadata": {
  "kernelspec": {
   "display_name": "Python 3 (ipykernel)",
   "language": "python",
   "name": "python3"
  },
  "language_info": {
   "codemirror_mode": {
    "name": "ipython",
    "version": 3
   },
   "file_extension": ".py",
   "mimetype": "text/x-python",
   "name": "python",
   "nbconvert_exporter": "python",
   "pygments_lexer": "ipython3",
   "version": "3.8.10"
  }
 },
 "nbformat": 4,
 "nbformat_minor": 5
}
