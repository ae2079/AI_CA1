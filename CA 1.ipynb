{
 "cells": [
  {
   "cell_type": "markdown",
   "id": "73456fac",
   "metadata": {},
   "source": [
    "## پروژه اول درس هوش مصنوعی با موضوع الگوریتم های جستجوی آگاهانه و ناآگاهانه"
   ]
  },
  {
   "cell_type": "markdown",
   "id": "89406161",
   "metadata": {},
   "source": [
    "### در این پروژه سعی میکنیم با استفاده از الگوریتم های زیر مساله ی یافتن راهی برای جمع آوری معجون ها از معبدی با شکل شطرنجی را حل کنیم"
   ]
  },
  {
   "cell_type": "markdown",
   "id": "fec1c5f7",
   "metadata": {},
   "source": [
    "## BFS , IDS & A*"
   ]
  },
  {
   "cell_type": "markdown",
   "id": "c6fef698",
   "metadata": {},
   "source": [
    "# Imports"
   ]
  },
  {
   "cell_type": "code",
   "execution_count": 302,
   "id": "2bef7f63",
   "metadata": {},
   "outputs": [],
   "source": [
    "import numpy as np\n",
    "import time\n",
    "from copy import deepcopy\n",
    "import queue as qu"
   ]
  },
  {
   "cell_type": "markdown",
   "id": "12509f30",
   "metadata": {},
   "source": [
    "# Body"
   ]
  },
  {
   "cell_type": "markdown",
   "id": "7c7f3233",
   "metadata": {},
   "source": [
    "## Load tests data"
   ]
  },
  {
   "cell_type": "code",
   "execution_count": 57,
   "id": "8137c96e",
   "metadata": {},
   "outputs": [],
   "source": [
    "tests = []\n",
    "file = open(\"test1.in\")\n",
    "tests.append(file.readlines())\n",
    "file.close()\n",
    "file = open(\"test2.in\")\n",
    "tests.append(file.readlines())\n",
    "file.close()\n",
    "file = open(\"test3.in\")\n",
    "tests.append(file.readlines())\n",
    "file.close()"
   ]
  },
  {
   "cell_type": "markdown",
   "id": "98cfb176",
   "metadata": {},
   "source": [
    "#### داده های تست ها را از فایل هایی که در پوشه پروژه قرار دارند برای تست برنامه لود می کنیم\n",
    "#### با توجه به تست های موجود فرض می شود که تعداد سطر ها و ستون ها اعداد تک رقمی می باشند "
   ]
  },
  {
   "cell_type": "markdown",
   "id": "e7e2a441",
   "metadata": {},
   "source": [
    "## Create tests maps"
   ]
  },
  {
   "cell_type": "code",
   "execution_count": 58,
   "id": "65671ca9",
   "metadata": {},
   "outputs": [],
   "source": [
    "maps = []\n",
    "Cs = []\n",
    "Ks = []\n",
    "for test in tests:\n",
    "    num_of_row = int(test[0][0])\n",
    "    num_of_col = int(test[0][2])\n",
    "    curr_map = [['e'] * num_of_col for i in range(num_of_row)]\n",
    "    curr_c = int(test[1][0])\n",
    "    curr_k = int(test[1][2])\n",
    "    curr_Cs = []\n",
    "    curr_Ks = []\n",
    "    for i in range(0, curr_c):\n",
    "        curr_Cs.append([int(test[2+i][0]), int(test[2+i][2]), False])\n",
    "        curr_map[int(test[2+i][0])][int(test[2+i][2])] = 'c'\n",
    "    for i in range(0, curr_k):\n",
    "        curr_Ks.append([int(test[2+curr_c+i][0]), int(test[2+curr_c+i][2]), False])\n",
    "        curr_map[int(test[2+curr_c+i][0])][int(test[2+curr_c+i][2])] = 'k'\n",
    "    curr_d = int(test[2+curr_c+curr_k])\n",
    "    for i in range(0, curr_d):\n",
    "        curr_map[int(test[3+curr_c+curr_k+i][0])][int(test[3+curr_c+curr_k+i][2])] = 'd'\n",
    "    maps.append(curr_map)\n",
    "    Cs.append(curr_Cs)\n",
    "    Ks.append(curr_Ks)\n"
   ]
  },
  {
   "cell_type": "code",
   "execution_count": 59,
   "id": "cfe253e6",
   "metadata": {},
   "outputs": [
    {
     "data": {
      "text/plain": [
       "[[['e', 'k', 'c', 'e'],\n",
       "  ['e', 'e', 'd', 'e'],\n",
       "  ['c', 'e', 'e', 'e'],\n",
       "  ['e', 'e', 'e', 'e']],\n",
       " [['k', 'e', 'e', 'd'],\n",
       "  ['e', 'k', 'c', 'd'],\n",
       "  ['c', 'c', 'e', 'e'],\n",
       "  ['e', 'k', 'e', 'e']],\n",
       " [['e', 'e', 'd', 'e', 'e', 'e'],\n",
       "  ['e', 'd', 'c', 'e', 'e', 'c'],\n",
       "  ['e', 'e', 'k', 'e', 'e', 'e'],\n",
       "  ['d', 'e', 'e', 'e', 'e', 'c'],\n",
       "  ['e', 'd', 'k', 'c', 'e', 'e'],\n",
       "  ['e', 'c', 'e', 'e', 'e', 'e']]]"
      ]
     },
     "execution_count": 59,
     "metadata": {},
     "output_type": "execute_result"
    }
   ],
   "source": [
    "maps"
   ]
  },
  {
   "cell_type": "markdown",
   "id": "410807b6",
   "metadata": {},
   "source": [
    "#### مشاهده می شود که نقشه های تست به درستی  لود شده اند"
   ]
  },
  {
   "cell_type": "markdown",
   "id": "69134301",
   "metadata": {},
   "source": [
    "## Model Description"
   ]
  },
  {
   "cell_type": "markdown",
   "id": "de72a0a0",
   "metadata": {},
   "source": [
    "### Actions : Di up, Di down, Di right, Di left (for i in range num of doctors)"
   ]
  },
  {
   "cell_type": "markdown",
   "id": "cc16b71c",
   "metadata": {},
   "source": [
    "### Initial State : A doctor in (0, 0) and the map looks like the test files"
   ]
  },
  {
   "cell_type": "markdown",
   "id": "4ea70874",
   "metadata": {},
   "source": [
    "### Goal State : Every doctor in (n-1, m-1) and no 'c' remain in the map"
   ]
  },
  {
   "cell_type": "markdown",
   "id": "12f4234d",
   "metadata": {},
   "source": [
    "### Path cost : sum of moves (Actions) of all doctors (from Initial state to Goal state)"
   ]
  },
  {
   "cell_type": "markdown",
   "id": "7c029aab",
   "metadata": {},
   "source": [
    "### State : position of elements in the map in a node represents the current state for this node"
   ]
  },
  {
   "cell_type": "markdown",
   "id": "44c7d6c4",
   "metadata": {},
   "source": [
    "### Transition Model : اگر دکتری به خانه ای که دارای دارو است وارد شود آن خانه تبدیل به خانه ی خالی شده و یک دکتر در خانه ی پایین سمت چپ جدول ایجاد می شود . اگر دکتری وارد خانه ای دارای معجون شود آن خانه به خانه ی خالی تبدیل می شود . برای حرکت دکتر ها هم تنها در صورتی که خانه ی مورد نظر مجاز باشد و قابل رفتن باشد به آنجا می رود"
   ]
  },
  {
   "cell_type": "markdown",
   "id": "f7c4684d",
   "metadata": {},
   "source": [
    "## Common Functions"
   ]
  },
  {
   "cell_type": "code",
   "execution_count": 326,
   "id": "c12f4f01",
   "metadata": {},
   "outputs": [],
   "source": [
    "def is_in_expanded(node, expanded):\n",
    "    #result = np.where(node.is_same(expanded), True, False)\n",
    "    #if True in result:\n",
    "    #    return True\n",
    "    #return False\n",
    "    ##############\n",
    "    for nd in expanded:\n",
    "        if nd.is_same(node):\n",
    "            return True\n",
    "    return False\n",
    "    ############\n",
    "    #node_list = [node]*len(expanded)\n",
    "    #result = map(is_same, node_list, expanded)\n",
    "    #if True in result:\n",
    "    #    return True\n",
    "    #return False\n",
    "    \n",
    "def eat_drug(Ks, x, y):\n",
    "    for k in Ks:\n",
    "        if k[0] == x and k[1] == y:\n",
    "            if k[2]:\n",
    "                return False\n",
    "            else:\n",
    "                k[2] = True\n",
    "                return True\n",
    "            \n",
    "def pick_confection(Cs, x, y):\n",
    "    for c in Cs:\n",
    "        if c[0] == x and c[1] == y:\n",
    "            c[2] = True\n",
    "            return\n",
    "        \n",
    "def is_dr_in_list(dr, drs):\n",
    "    for d in drs:\n",
    "        if d[1] == dr[1] and d[2] == dr[2]:\n",
    "            return True\n",
    "    return False"
   ]
  },
  {
   "cell_type": "markdown",
   "id": "273f0cd3",
   "metadata": {},
   "source": [
    "## Data Structures"
   ]
  },
  {
   "cell_type": "code",
   "execution_count": 327,
   "id": "34d39723",
   "metadata": {},
   "outputs": [],
   "source": [
    "class Node:\n",
    "    def __init__(self, curr_map, curr_Cs, curr_Ks, path_until_there, path_cost_until_there, curr_Drs):\n",
    "        self.map = curr_map\n",
    "        self.Cs = curr_Cs\n",
    "        self.Ks = curr_Ks\n",
    "        self.path = path_until_there\n",
    "        self.path_cost = path_cost_until_there\n",
    "        self.Drs = curr_Drs\n",
    "        self.m = len(curr_map)\n",
    "        self.n = len(curr_map[0])\n",
    "        if self.path == 0:\n",
    "            if self.map[0][0] == 'k':\n",
    "                eat_drug(self.Ks, 0, 0)\n",
    "                self.Drs.append([1, self.m-1, 0])\n",
    "    \n",
    "    def Goal_test(self):\n",
    "        for c in self.Cs:\n",
    "            if c[2] is False:\n",
    "                return False\n",
    "        for dr in self.Drs:\n",
    "            if dr[1] != self.m-1 or dr[2] != self.n-1:\n",
    "                return False\n",
    "        return True\n",
    "    \n",
    "    def expand(self, fifo, expanded):\n",
    "        ##if expanded:\n",
    "        ##    if expanded[-1].path_cost < self.path_cost:\n",
    "        ##        expanded = []\n",
    "        expanded.append(self)\n",
    "        for dr in self.Drs:\n",
    "            if dr[1] == self.m-1 and dr[2] == self.n-1:\n",
    "                continue\n",
    "            if dr[1]+1 < self.m:\n",
    "                if self.map[dr[1]+1][dr[2]] != 'd':\n",
    "                    #temp_state = deepcopy(self.state)\n",
    "                    temp_drs = deepcopy(self.Drs)\n",
    "                    temp_drs[dr[0]][1] = dr[1]+1\n",
    "                    temp_Ks = deepcopy(self.Ks)\n",
    "                    temp_Cs = deepcopy(self.Cs)\n",
    "                    if self.map[dr[1]+1][dr[2]] == 'k':\n",
    "                        if eat_drug(temp_Ks, dr[1]+1, dr[2]):\n",
    "                            temp_drs.append([len(self.Drs), self.m-1, 0])\n",
    "                    if self.map[dr[1]+1][dr[2]] == 'c':\n",
    "                        pick_confection(temp_Cs, dr[1]+1, dr[2])\n",
    "                    #temp_state[dr[1]+1][dr[2]] = 'e'\n",
    "                    temp_path = deepcopy(self.path)\n",
    "                    temp_path.append([dr[0], \"D\"])\n",
    "                    temp_node = Node(self.map, temp_Cs, temp_Ks, temp_path, self.path_cost+1, temp_drs)\n",
    "                    if not is_in_expanded(temp_node, expanded):\n",
    "                        if temp_node.Goal_test():\n",
    "                            return temp_node\n",
    "                        fifo.put(temp_node)\n",
    "            if dr[1] > 0:\n",
    "                if self.map[dr[1]-1][dr[2]] != 'd':\n",
    "                    #temp_state = deepcopy(self.state)\n",
    "                    temp_drs = deepcopy(self.Drs)\n",
    "                    temp_drs[dr[0]][1] = dr[1]-1\n",
    "                    temp_Ks = deepcopy(self.Ks)\n",
    "                    temp_Cs = deepcopy(self.Cs)\n",
    "                    if self.map[dr[1]-1][dr[2]] == 'k':\n",
    "                        if eat_drug(temp_Ks, dr[1]-1, dr[2]):\n",
    "                            temp_drs.append([len(self.Drs), self.m-1, 0])\n",
    "                    if self.map[dr[1]-1][dr[2]] == 'c':\n",
    "                        pick_confection(temp_Cs, dr[1]-1, dr[2])\n",
    "                    #temp_state[dr[1]-1][dr[2]] = 'e'\n",
    "                    temp_path = deepcopy(self.path)\n",
    "                    temp_path.append([dr[0], \"U\"])\n",
    "                    temp_node = Node(self.map, temp_Cs, temp_Ks, temp_path, self.path_cost+1, temp_drs)\n",
    "                    if not is_in_expanded(temp_node, expanded):\n",
    "                        if temp_node.Goal_test():\n",
    "                            return temp_node\n",
    "                        fifo.put(temp_node)\n",
    "            if dr[2]+1 < self.n:\n",
    "                if self.map[dr[1]][dr[2]+1] != 'd':\n",
    "                    #temp_state = deepcopy(self.state)\n",
    "                    temp_drs = deepcopy(self.Drs)\n",
    "                    temp_drs[dr[0]][2] = dr[2]+1\n",
    "                    temp_Ks = deepcopy(self.Ks)\n",
    "                    temp_Cs = deepcopy(self.Cs)\n",
    "                    if self.map[dr[1]][dr[2]+1] == 'k':\n",
    "                        if eat_drug(temp_Ks, dr[1], dr[2]+1):\n",
    "                            temp_drs.append([len(self.Drs), self.m-1, 0])\n",
    "                    if self.map[dr[1]][dr[2]+1] == 'c':\n",
    "                        pick_confection(temp_Cs, dr[1], dr[2]+1)\n",
    "                    #temp_state[dr[1]][dr[2]+1] = 'e'\n",
    "                    temp_path = deepcopy(self.path)\n",
    "                    temp_path.append([dr[0], \"R\"])\n",
    "                    temp_node = Node(self.map, temp_Cs, temp_Ks, temp_path, self.path_cost+1, temp_drs)\n",
    "                    if not is_in_expanded(temp_node, expanded):\n",
    "                        if temp_node.Goal_test():\n",
    "                            return temp_node\n",
    "                        fifo.put(temp_node)\n",
    "            if dr[2] > 0:\n",
    "                if self.map[dr[1]][dr[2]-1] != 'd':\n",
    "                    #temp_state = deepcopy(self.state)\n",
    "                    temp_drs = deepcopy(self.Drs)\n",
    "                    temp_drs[dr[0]][2] = dr[2]-1\n",
    "                    temp_Ks = deepcopy(self.Ks)\n",
    "                    temp_Cs = deepcopy(self.Cs)\n",
    "                    if self.map[dr[1]][dr[2]-1] == 'k':\n",
    "                        if eat_drug(temp_Ks, dr[1], dr[2]-1):\n",
    "                            temp_drs.append([len(self.Drs), self.m-1, 0])\n",
    "                    if self.map[dr[1]][dr[2]-1] == 'c':\n",
    "                        pick_confection(temp_Cs, dr[1], dr[2]-1)\n",
    "                    #temp_state[dr[1]][dr[2]-1] = 'e'\n",
    "                    temp_path = deepcopy(self.path)\n",
    "                    temp_path.append([dr[0], \"L\"])\n",
    "                    temp_node = Node(self.map, temp_Cs, temp_Ks, temp_path, self.path_cost+1, temp_drs)\n",
    "                    if not is_in_expanded(temp_node, expanded):\n",
    "                        if temp_node.Goal_test():\n",
    "                            return temp_node\n",
    "                        fifo.put(temp_node)\n",
    "                    \n",
    "        return None\n",
    "    \n",
    "    def is_same(self, node):\n",
    "        #if len(self.Drs) == len(node.Drs):\n",
    "        if self.Cs == node.Cs and self.Ks == node.Ks:\n",
    "            for dr in self.Drs:\n",
    "                if not is_dr_in_list(dr, node.Drs):\n",
    "                    return False\n",
    "            return True\n",
    "        return False"
   ]
  },
  {
   "cell_type": "markdown",
   "id": "30b152f0",
   "metadata": {},
   "source": [
    "## Implementation with BFS"
   ]
  },
  {
   "cell_type": "markdown",
   "id": "27700e40",
   "metadata": {},
   "source": [
    "### این الگوریتم کامل است و همواره جواب بهینه را به دست می آورد ولی از نظر تعداد استیت های دیده شده و زمان اجرا بهینه نیست "
   ]
  },
  {
   "cell_type": "markdown",
   "id": "4199337f",
   "metadata": {},
   "source": [
    "## My Test"
   ]
  },
  {
   "cell_type": "code",
   "execution_count": 328,
   "id": "d9eaa2fc",
   "metadata": {},
   "outputs": [],
   "source": [
    "maps_copy = deepcopy(maps)"
   ]
  },
  {
   "cell_type": "code",
   "execution_count": 329,
   "id": "8ed28ca4",
   "metadata": {},
   "outputs": [],
   "source": [
    "Cs_copy = deepcopy(Cs)"
   ]
  },
  {
   "cell_type": "code",
   "execution_count": 330,
   "id": "634afe10",
   "metadata": {},
   "outputs": [
    {
     "data": {
      "text/plain": [
       "[['e', 'k', 'c', 'e'],\n",
       " ['e', 'e', 'd', 'e'],\n",
       " ['c', 'e', 'e', 'e'],\n",
       " ['e', 'e', 'e', 'e']]"
      ]
     },
     "execution_count": 330,
     "metadata": {},
     "output_type": "execute_result"
    }
   ],
   "source": [
    "maps_copy[0]"
   ]
  },
  {
   "cell_type": "code",
   "execution_count": 331,
   "id": "e257edd7",
   "metadata": {},
   "outputs": [],
   "source": [
    "Cs_copy[0] = [[0, 2, False]]"
   ]
  },
  {
   "cell_type": "code",
   "execution_count": 332,
   "id": "2ef50a3c",
   "metadata": {},
   "outputs": [],
   "source": [
    "maps_copy[0][2][0] = 'e'"
   ]
  },
  {
   "cell_type": "code",
   "execution_count": 333,
   "id": "5334c890",
   "metadata": {},
   "outputs": [
    {
     "data": {
      "text/plain": [
       "[['e', 'k', 'c', 'e'],\n",
       " ['e', 'e', 'd', 'e'],\n",
       " ['e', 'e', 'e', 'e'],\n",
       " ['e', 'e', 'e', 'e']]"
      ]
     },
     "execution_count": 333,
     "metadata": {},
     "output_type": "execute_result"
    }
   ],
   "source": [
    "maps_copy[0]"
   ]
  },
  {
   "cell_type": "code",
   "execution_count": 334,
   "id": "7fdbc35e",
   "metadata": {},
   "outputs": [],
   "source": [
    "fifo = qu.Queue()\n",
    "expanded = []"
   ]
  },
  {
   "cell_type": "code",
   "execution_count": 335,
   "id": "e6eece02",
   "metadata": {},
   "outputs": [],
   "source": [
    "fifo.put(Node(maps_copy[0], Cs_copy[0], Ks[0], [], 0, [[0, 0, 0]]))"
   ]
  },
  {
   "cell_type": "code",
   "execution_count": 336,
   "id": "2dccd712",
   "metadata": {},
   "outputs": [
    {
     "name": "stdout",
     "output_type": "stream",
     "text": [
      "answer found\n",
      "path cost = 9\n",
      "[[0, 'R'], [0, 'R'], [0, 'R'], [0, 'D'], [0, 'D'], [0, 'D'], [1, 'R'], [1, 'R'], [1, 'R']]\n"
     ]
    }
   ],
   "source": [
    "first_time = time.time()\n",
    "while not fifo.empty():\n",
    "    curr_node = fifo.get()\n",
    "    answer = curr_node.expand(fifo, expanded)\n",
    "    if answer != None:\n",
    "        print(\"answer found\")\n",
    "        print(\"path cost =\", answer.path_cost)\n",
    "        print(answer.path)\n",
    "        break\n",
    "last_time = time.time()"
   ]
  },
  {
   "cell_type": "code",
   "execution_count": 337,
   "id": "400f1dd6",
   "metadata": {},
   "outputs": [],
   "source": [
    "bfs_time = last_time - first_time"
   ]
  },
  {
   "cell_type": "code",
   "execution_count": 338,
   "id": "f55afdca",
   "metadata": {},
   "outputs": [
    {
     "data": {
      "text/plain": [
       "1.4813413619995117"
      ]
     },
     "execution_count": 338,
     "metadata": {},
     "output_type": "execute_result"
    }
   ],
   "source": [
    "bfs_time"
   ]
  },
  {
   "cell_type": "code",
   "execution_count": 339,
   "id": "d04692e5",
   "metadata": {},
   "outputs": [
    {
     "data": {
      "text/plain": [
       "1957"
      ]
     },
     "execution_count": 339,
     "metadata": {},
     "output_type": "execute_result"
    }
   ],
   "source": [
    "len(expanded)"
   ]
  },
  {
   "cell_type": "markdown",
   "id": "644ff36b",
   "metadata": {},
   "source": [
    "## Test 1"
   ]
  },
  {
   "cell_type": "code",
   "execution_count": 340,
   "id": "7606f130",
   "metadata": {},
   "outputs": [],
   "source": [
    "fifo = qu.Queue()\n",
    "expanded = []"
   ]
  },
  {
   "cell_type": "code",
   "execution_count": 341,
   "id": "d91cf6ab",
   "metadata": {},
   "outputs": [],
   "source": [
    "fifo.put(Node(maps[0], Cs[0], Ks[0], [], 0, [[0, 0, 0]]))"
   ]
  },
  {
   "cell_type": "code",
   "execution_count": 342,
   "id": "0d5f40d2",
   "metadata": {},
   "outputs": [
    {
     "name": "stdout",
     "output_type": "stream",
     "text": [
      "answer found\n",
      "path cost = 11\n",
      "[[0, 'R'], [0, 'R'], [0, 'R'], [0, 'D'], [0, 'D'], [0, 'D'], [1, 'U'], [1, 'D'], [1, 'R'], [1, 'R'], [1, 'R']]\n"
     ]
    }
   ],
   "source": [
    "first_time = time.time()\n",
    "while not fifo.empty():\n",
    "    curr_node = fifo.get()\n",
    "    answer = curr_node.expand(fifo, expanded)\n",
    "    if answer != None:\n",
    "        print(\"answer found\")\n",
    "        print(\"path cost =\", answer.path_cost)\n",
    "        print(answer.path)\n",
    "        break\n",
    "last_time = time.time()"
   ]
  },
  {
   "cell_type": "code",
   "execution_count": 343,
   "id": "b4e8f97c",
   "metadata": {},
   "outputs": [],
   "source": [
    "bfs_time = last_time - first_time"
   ]
  },
  {
   "cell_type": "code",
   "execution_count": 344,
   "id": "bcc28013",
   "metadata": {},
   "outputs": [
    {
     "data": {
      "text/plain": [
       "11.332806587219238"
      ]
     },
     "execution_count": 344,
     "metadata": {},
     "output_type": "execute_result"
    }
   ],
   "source": [
    "bfs_time"
   ]
  },
  {
   "cell_type": "code",
   "execution_count": 345,
   "id": "1d4e9863",
   "metadata": {},
   "outputs": [
    {
     "data": {
      "text/plain": [
       "6009"
      ]
     },
     "execution_count": 345,
     "metadata": {},
     "output_type": "execute_result"
    }
   ],
   "source": [
    "len(expanded)"
   ]
  },
  {
   "cell_type": "markdown",
   "id": "be023cc3",
   "metadata": {},
   "source": [
    "## Test 2"
   ]
  },
  {
   "cell_type": "code",
   "execution_count": 346,
   "id": "0dfe4153",
   "metadata": {},
   "outputs": [],
   "source": [
    "fifo = qu.Queue()\n",
    "expanded = []"
   ]
  },
  {
   "cell_type": "code",
   "execution_count": 347,
   "id": "6dd5a7b0",
   "metadata": {},
   "outputs": [],
   "source": [
    "fifo.put(Node(maps[1], Cs[1], Ks[1], [], 0, [[0, 0, 0]]))"
   ]
  },
  {
   "cell_type": "code",
   "execution_count": 348,
   "id": "89c266b6",
   "metadata": {},
   "outputs": [
    {
     "name": "stdout",
     "output_type": "stream",
     "text": [
      "answer found\n",
      "path cost = 8\n",
      "[[0, 'D'], [0, 'D'], [0, 'R'], [0, 'R'], [0, 'U'], [0, 'D'], [0, 'D'], [0, 'R']]\n"
     ]
    }
   ],
   "source": [
    "first_time = time.time()\n",
    "while not fifo.empty():\n",
    "    curr_node = fifo.get()\n",
    "    answer = curr_node.expand(fifo, expanded)\n",
    "    if answer != None:\n",
    "        print(\"answer found\")\n",
    "        print(\"path cost =\", answer.path_cost)\n",
    "        print(answer.path)\n",
    "        break\n",
    "last_time = time.time()"
   ]
  },
  {
   "cell_type": "code",
   "execution_count": 349,
   "id": "4bafcf18",
   "metadata": {},
   "outputs": [],
   "source": [
    "bfs_time = last_time - first_time"
   ]
  },
  {
   "cell_type": "code",
   "execution_count": 350,
   "id": "067b7f1e",
   "metadata": {},
   "outputs": [
    {
     "data": {
      "text/plain": [
       "14.015931129455566"
      ]
     },
     "execution_count": 350,
     "metadata": {},
     "output_type": "execute_result"
    }
   ],
   "source": [
    "bfs_time"
   ]
  },
  {
   "cell_type": "code",
   "execution_count": 351,
   "id": "008b3c46",
   "metadata": {},
   "outputs": [
    {
     "data": {
      "text/plain": [
       "4552"
      ]
     },
     "execution_count": 351,
     "metadata": {},
     "output_type": "execute_result"
    }
   ],
   "source": [
    "len(expanded)"
   ]
  },
  {
   "cell_type": "code",
   "execution_count": null,
   "id": "69424ef9",
   "metadata": {},
   "outputs": [],
   "source": []
  },
  {
   "cell_type": "markdown",
   "id": "53c27462",
   "metadata": {},
   "source": [
    "## Test 3"
   ]
  },
  {
   "cell_type": "code",
   "execution_count": 245,
   "id": "568e8261",
   "metadata": {},
   "outputs": [],
   "source": [
    "fifo = qu.Queue()\n",
    "expanded = []"
   ]
  },
  {
   "cell_type": "code",
   "execution_count": 246,
   "id": "4748294e",
   "metadata": {},
   "outputs": [],
   "source": [
    "fifo.put(Node(maps[2], Cs[2], Ks[2], [], 0, [[0, 0, 0]]))"
   ]
  },
  {
   "cell_type": "code",
   "execution_count": 247,
   "id": "b34d1ac0",
   "metadata": {},
   "outputs": [
    {
     "ename": "KeyboardInterrupt",
     "evalue": "",
     "output_type": "error",
     "traceback": [
      "\u001b[0;31m---------------------------------------------------------------------------\u001b[0m",
      "\u001b[0;31mKeyboardInterrupt\u001b[0m                         Traceback (most recent call last)",
      "\u001b[0;32m/tmp/ipykernel_3950/2577662639.py\u001b[0m in \u001b[0;36m<module>\u001b[0;34m\u001b[0m\n\u001b[1;32m      2\u001b[0m \u001b[0;32mwhile\u001b[0m \u001b[0;32mnot\u001b[0m \u001b[0mfifo\u001b[0m\u001b[0;34m.\u001b[0m\u001b[0mempty\u001b[0m\u001b[0;34m(\u001b[0m\u001b[0;34m)\u001b[0m\u001b[0;34m:\u001b[0m\u001b[0;34m\u001b[0m\u001b[0;34m\u001b[0m\u001b[0m\n\u001b[1;32m      3\u001b[0m     \u001b[0mcurr_node\u001b[0m \u001b[0;34m=\u001b[0m \u001b[0mfifo\u001b[0m\u001b[0;34m.\u001b[0m\u001b[0mget\u001b[0m\u001b[0;34m(\u001b[0m\u001b[0;34m)\u001b[0m\u001b[0;34m\u001b[0m\u001b[0;34m\u001b[0m\u001b[0m\n\u001b[0;32m----> 4\u001b[0;31m     \u001b[0manswer\u001b[0m \u001b[0;34m=\u001b[0m \u001b[0mcurr_node\u001b[0m\u001b[0;34m.\u001b[0m\u001b[0mexpand\u001b[0m\u001b[0;34m(\u001b[0m\u001b[0mfifo\u001b[0m\u001b[0;34m,\u001b[0m \u001b[0mexpanded\u001b[0m\u001b[0;34m)\u001b[0m\u001b[0;34m\u001b[0m\u001b[0;34m\u001b[0m\u001b[0m\n\u001b[0m\u001b[1;32m      5\u001b[0m     \u001b[0;32mif\u001b[0m \u001b[0manswer\u001b[0m \u001b[0;34m!=\u001b[0m \u001b[0;32mNone\u001b[0m\u001b[0;34m:\u001b[0m\u001b[0;34m\u001b[0m\u001b[0;34m\u001b[0m\u001b[0m\n\u001b[1;32m      6\u001b[0m         \u001b[0mprint\u001b[0m\u001b[0;34m(\u001b[0m\u001b[0;34m\"answer found\"\u001b[0m\u001b[0;34m)\u001b[0m\u001b[0;34m\u001b[0m\u001b[0;34m\u001b[0m\u001b[0m\n",
      "\u001b[0;32m/tmp/ipykernel_3950/773033793.py\u001b[0m in \u001b[0;36mexpand\u001b[0;34m(self, fifo, expanded)\u001b[0m\n\u001b[1;32m    107\u001b[0m                     \u001b[0mtemp_path\u001b[0m\u001b[0;34m.\u001b[0m\u001b[0mappend\u001b[0m\u001b[0;34m(\u001b[0m\u001b[0;34m[\u001b[0m\u001b[0mdr\u001b[0m\u001b[0;34m[\u001b[0m\u001b[0;36m0\u001b[0m\u001b[0;34m]\u001b[0m\u001b[0;34m,\u001b[0m \u001b[0;34m\"L\"\u001b[0m\u001b[0;34m]\u001b[0m\u001b[0;34m)\u001b[0m\u001b[0;34m\u001b[0m\u001b[0;34m\u001b[0m\u001b[0m\n\u001b[1;32m    108\u001b[0m                     \u001b[0mtemp_node\u001b[0m \u001b[0;34m=\u001b[0m \u001b[0mNode\u001b[0m\u001b[0;34m(\u001b[0m\u001b[0mself\u001b[0m\u001b[0;34m.\u001b[0m\u001b[0mmap\u001b[0m\u001b[0;34m,\u001b[0m \u001b[0mtemp_Cs\u001b[0m\u001b[0;34m,\u001b[0m \u001b[0mtemp_Ks\u001b[0m\u001b[0;34m,\u001b[0m \u001b[0mtemp_path\u001b[0m\u001b[0;34m,\u001b[0m \u001b[0mself\u001b[0m\u001b[0;34m.\u001b[0m\u001b[0mpath_cost\u001b[0m\u001b[0;34m+\u001b[0m\u001b[0;36m1\u001b[0m\u001b[0;34m,\u001b[0m \u001b[0mtemp_drs\u001b[0m\u001b[0;34m)\u001b[0m\u001b[0;34m\u001b[0m\u001b[0;34m\u001b[0m\u001b[0m\n\u001b[0;32m--> 109\u001b[0;31m                     \u001b[0;32mif\u001b[0m \u001b[0;32mnot\u001b[0m \u001b[0mis_in_expanded\u001b[0m\u001b[0;34m(\u001b[0m\u001b[0mtemp_node\u001b[0m\u001b[0;34m,\u001b[0m \u001b[0mexpanded\u001b[0m\u001b[0;34m)\u001b[0m\u001b[0;34m:\u001b[0m\u001b[0;34m\u001b[0m\u001b[0;34m\u001b[0m\u001b[0m\n\u001b[0m\u001b[1;32m    110\u001b[0m                         \u001b[0;32mif\u001b[0m \u001b[0mtemp_node\u001b[0m\u001b[0;34m.\u001b[0m\u001b[0mGoal_test\u001b[0m\u001b[0;34m(\u001b[0m\u001b[0;34m)\u001b[0m\u001b[0;34m:\u001b[0m\u001b[0;34m\u001b[0m\u001b[0;34m\u001b[0m\u001b[0m\n\u001b[1;32m    111\u001b[0m                             \u001b[0;32mreturn\u001b[0m \u001b[0mtemp_node\u001b[0m\u001b[0;34m\u001b[0m\u001b[0;34m\u001b[0m\u001b[0m\n",
      "\u001b[0;32m/tmp/ipykernel_3950/71792376.py\u001b[0m in \u001b[0;36mis_in_expanded\u001b[0;34m(node, expanded)\u001b[0m\n\u001b[1;32m      1\u001b[0m \u001b[0;32mdef\u001b[0m \u001b[0mis_in_expanded\u001b[0m\u001b[0;34m(\u001b[0m\u001b[0mnode\u001b[0m\u001b[0;34m,\u001b[0m \u001b[0mexpanded\u001b[0m\u001b[0;34m)\u001b[0m\u001b[0;34m:\u001b[0m\u001b[0;34m\u001b[0m\u001b[0;34m\u001b[0m\u001b[0m\n\u001b[1;32m      2\u001b[0m     \u001b[0;32mfor\u001b[0m \u001b[0mnd\u001b[0m \u001b[0;32min\u001b[0m \u001b[0mexpanded\u001b[0m\u001b[0;34m:\u001b[0m\u001b[0;34m\u001b[0m\u001b[0;34m\u001b[0m\u001b[0m\n\u001b[0;32m----> 3\u001b[0;31m         \u001b[0;32mif\u001b[0m \u001b[0mnd\u001b[0m\u001b[0;34m.\u001b[0m\u001b[0mis_same\u001b[0m\u001b[0;34m(\u001b[0m\u001b[0mnode\u001b[0m\u001b[0;34m)\u001b[0m\u001b[0;34m:\u001b[0m\u001b[0;34m\u001b[0m\u001b[0;34m\u001b[0m\u001b[0m\n\u001b[0m\u001b[1;32m      4\u001b[0m             \u001b[0;32mreturn\u001b[0m \u001b[0;32mTrue\u001b[0m\u001b[0;34m\u001b[0m\u001b[0;34m\u001b[0m\u001b[0m\n\u001b[1;32m      5\u001b[0m     \u001b[0;32mreturn\u001b[0m \u001b[0;32mFalse\u001b[0m\u001b[0;34m\u001b[0m\u001b[0;34m\u001b[0m\u001b[0m\n",
      "\u001b[0;32m/tmp/ipykernel_3950/773033793.py\u001b[0m in \u001b[0;36mis_same\u001b[0;34m(self, node)\u001b[0m\n\u001b[1;32m    116\u001b[0m     \u001b[0;32mdef\u001b[0m \u001b[0mis_same\u001b[0m\u001b[0;34m(\u001b[0m\u001b[0mself\u001b[0m\u001b[0;34m,\u001b[0m \u001b[0mnode\u001b[0m\u001b[0;34m)\u001b[0m\u001b[0;34m:\u001b[0m\u001b[0;34m\u001b[0m\u001b[0;34m\u001b[0m\u001b[0m\n\u001b[1;32m    117\u001b[0m         \u001b[0;31m#if len(self.Drs) == len(node.Drs):\u001b[0m\u001b[0;34m\u001b[0m\u001b[0;34m\u001b[0m\u001b[0;34m\u001b[0m\u001b[0m\n\u001b[0;32m--> 118\u001b[0;31m         \u001b[0;32mif\u001b[0m \u001b[0mself\u001b[0m\u001b[0;34m.\u001b[0m\u001b[0mCs\u001b[0m \u001b[0;34m==\u001b[0m \u001b[0mnode\u001b[0m\u001b[0;34m.\u001b[0m\u001b[0mCs\u001b[0m \u001b[0;32mand\u001b[0m \u001b[0mself\u001b[0m\u001b[0;34m.\u001b[0m\u001b[0mKs\u001b[0m \u001b[0;34m==\u001b[0m \u001b[0mnode\u001b[0m\u001b[0;34m.\u001b[0m\u001b[0mKs\u001b[0m\u001b[0;34m:\u001b[0m\u001b[0;34m\u001b[0m\u001b[0;34m\u001b[0m\u001b[0m\n\u001b[0m\u001b[1;32m    119\u001b[0m             \u001b[0;32mfor\u001b[0m \u001b[0mdr\u001b[0m \u001b[0;32min\u001b[0m \u001b[0mself\u001b[0m\u001b[0;34m.\u001b[0m\u001b[0mDrs\u001b[0m\u001b[0;34m:\u001b[0m\u001b[0;34m\u001b[0m\u001b[0;34m\u001b[0m\u001b[0m\n\u001b[1;32m    120\u001b[0m                 \u001b[0;32mif\u001b[0m \u001b[0;32mnot\u001b[0m \u001b[0mis_dr_in_list\u001b[0m\u001b[0;34m(\u001b[0m\u001b[0mdr\u001b[0m\u001b[0;34m,\u001b[0m \u001b[0mnode\u001b[0m\u001b[0;34m.\u001b[0m\u001b[0mDrs\u001b[0m\u001b[0;34m)\u001b[0m\u001b[0;34m:\u001b[0m\u001b[0;34m\u001b[0m\u001b[0;34m\u001b[0m\u001b[0m\n",
      "\u001b[0;31mKeyboardInterrupt\u001b[0m: "
     ]
    }
   ],
   "source": [
    "first_time = time.time()\n",
    "while not fifo.empty():\n",
    "    curr_node = fifo.get()\n",
    "    answer = curr_node.expand(fifo, expanded)\n",
    "    if answer != None:\n",
    "        print(\"answer found\")\n",
    "        print(\"path cost =\", answer.path_cost)\n",
    "        print(answer.path)\n",
    "        break\n",
    "last_time = time.time()"
   ]
  },
  {
   "cell_type": "code",
   "execution_count": null,
   "id": "8d7c2d38",
   "metadata": {},
   "outputs": [],
   "source": [
    "bfs_time = last_time - first_time"
   ]
  },
  {
   "cell_type": "code",
   "execution_count": null,
   "id": "632e9954",
   "metadata": {},
   "outputs": [],
   "source": [
    "bfs_time"
   ]
  },
  {
   "cell_type": "code",
   "execution_count": null,
   "id": "745a8fe3",
   "metadata": {},
   "outputs": [],
   "source": [
    "len(expanded)"
   ]
  },
  {
   "cell_type": "code",
   "execution_count": null,
   "id": "962215b7",
   "metadata": {},
   "outputs": [],
   "source": []
  },
  {
   "cell_type": "code",
   "execution_count": null,
   "id": "4f6d5adf",
   "metadata": {},
   "outputs": [],
   "source": []
  },
  {
   "cell_type": "code",
   "execution_count": null,
   "id": "603ffab4",
   "metadata": {},
   "outputs": [],
   "source": []
  },
  {
   "cell_type": "markdown",
   "id": "3de50c52",
   "metadata": {},
   "source": [
    "## Implementation with IDS"
   ]
  },
  {
   "cell_type": "markdown",
   "id": "afb9f05b",
   "metadata": {},
   "source": [
    "### این الگوریتم کامل .......... و همواره جواب بهینه را .............. ولی از نظر تعداد استیت ها و زمان اجرا بهینه نیست "
   ]
  },
  {
   "cell_type": "code",
   "execution_count": null,
   "id": "ee481f67",
   "metadata": {},
   "outputs": [],
   "source": []
  },
  {
   "cell_type": "code",
   "execution_count": null,
   "id": "1d308104",
   "metadata": {},
   "outputs": [],
   "source": []
  },
  {
   "cell_type": "code",
   "execution_count": 185,
   "id": "a17aee12",
   "metadata": {},
   "outputs": [],
   "source": [
    "maps_copy = deepcopy(maps)"
   ]
  },
  {
   "cell_type": "code",
   "execution_count": null,
   "id": "03705ac6",
   "metadata": {},
   "outputs": [],
   "source": []
  },
  {
   "cell_type": "code",
   "execution_count": null,
   "id": "ee82eed5",
   "metadata": {},
   "outputs": [],
   "source": []
  },
  {
   "cell_type": "code",
   "execution_count": null,
   "id": "accc3c2e",
   "metadata": {},
   "outputs": [],
   "source": []
  },
  {
   "cell_type": "code",
   "execution_count": null,
   "id": "2a2626c4",
   "metadata": {},
   "outputs": [],
   "source": []
  },
  {
   "cell_type": "code",
   "execution_count": null,
   "id": "a3accafa",
   "metadata": {},
   "outputs": [],
   "source": []
  },
  {
   "cell_type": "code",
   "execution_count": null,
   "id": "8ccfd926",
   "metadata": {},
   "outputs": [],
   "source": []
  },
  {
   "cell_type": "code",
   "execution_count": null,
   "id": "16c3388e",
   "metadata": {},
   "outputs": [],
   "source": []
  },
  {
   "cell_type": "markdown",
   "id": "34cca8a7",
   "metadata": {},
   "source": [
    "## Implementation with A* with consistent heuristic"
   ]
  },
  {
   "cell_type": "markdown",
   "id": "92c137c8",
   "metadata": {},
   "source": [
    "### این الگوریتم کامل .......... و همواره جواب بهینه را .............. ولی از نظر تعداد استیت ها و زمان اجرا بهینه نیست "
   ]
  },
  {
   "cell_type": "code",
   "execution_count": 186,
   "id": "ada71928",
   "metadata": {},
   "outputs": [],
   "source": [
    "maps_copy = deepcopy(maps)"
   ]
  },
  {
   "cell_type": "code",
   "execution_count": null,
   "id": "22d9577d",
   "metadata": {},
   "outputs": [],
   "source": []
  },
  {
   "cell_type": "code",
   "execution_count": null,
   "id": "3f8d7d84",
   "metadata": {},
   "outputs": [],
   "source": []
  },
  {
   "cell_type": "code",
   "execution_count": null,
   "id": "c9b9a80e",
   "metadata": {},
   "outputs": [],
   "source": []
  },
  {
   "cell_type": "code",
   "execution_count": null,
   "id": "b7452aba",
   "metadata": {},
   "outputs": [],
   "source": []
  },
  {
   "cell_type": "code",
   "execution_count": null,
   "id": "e6ed3109",
   "metadata": {},
   "outputs": [],
   "source": []
  },
  {
   "cell_type": "code",
   "execution_count": null,
   "id": "5cce693d",
   "metadata": {},
   "outputs": [],
   "source": []
  },
  {
   "cell_type": "code",
   "execution_count": null,
   "id": "f4c9d1e1",
   "metadata": {},
   "outputs": [],
   "source": []
  },
  {
   "cell_type": "code",
   "execution_count": null,
   "id": "5b5977c5",
   "metadata": {},
   "outputs": [],
   "source": []
  },
  {
   "cell_type": "code",
   "execution_count": null,
   "id": "fda38474",
   "metadata": {},
   "outputs": [],
   "source": []
  },
  {
   "cell_type": "markdown",
   "id": "ac0823ea",
   "metadata": {},
   "source": [
    "## Implementation with weighted A* with Alfa = 1.3 "
   ]
  },
  {
   "cell_type": "markdown",
   "id": "6b3aa65b",
   "metadata": {},
   "source": [
    "### این الگوریتم کامل .......... و همواره جواب بهینه را .............. ولی از نظر تعداد استیت ها و زمان اجرا بهینه نیست "
   ]
  },
  {
   "cell_type": "code",
   "execution_count": null,
   "id": "f92bd18c",
   "metadata": {},
   "outputs": [],
   "source": []
  },
  {
   "cell_type": "code",
   "execution_count": null,
   "id": "e72589ce",
   "metadata": {},
   "outputs": [],
   "source": []
  },
  {
   "cell_type": "code",
   "execution_count": 187,
   "id": "779b6360",
   "metadata": {},
   "outputs": [],
   "source": [
    "maps_copy = deepcopy(maps)"
   ]
  },
  {
   "cell_type": "code",
   "execution_count": null,
   "id": "c8b34328",
   "metadata": {},
   "outputs": [],
   "source": []
  },
  {
   "cell_type": "code",
   "execution_count": null,
   "id": "039d94cb",
   "metadata": {},
   "outputs": [],
   "source": []
  },
  {
   "cell_type": "code",
   "execution_count": null,
   "id": "b96af661",
   "metadata": {},
   "outputs": [],
   "source": []
  },
  {
   "cell_type": "code",
   "execution_count": null,
   "id": "354c556d",
   "metadata": {},
   "outputs": [],
   "source": []
  },
  {
   "cell_type": "code",
   "execution_count": null,
   "id": "6fb54af8",
   "metadata": {},
   "outputs": [],
   "source": []
  },
  {
   "cell_type": "code",
   "execution_count": null,
   "id": "90d04746",
   "metadata": {},
   "outputs": [],
   "source": []
  },
  {
   "cell_type": "code",
   "execution_count": null,
   "id": "50c5cc99",
   "metadata": {},
   "outputs": [],
   "source": []
  },
  {
   "cell_type": "code",
   "execution_count": null,
   "id": "3ed43c36",
   "metadata": {},
   "outputs": [],
   "source": []
  },
  {
   "cell_type": "markdown",
   "id": "73dbbf22",
   "metadata": {},
   "source": [
    "## Implementation with weighted A* with Alfa = 1.5"
   ]
  },
  {
   "cell_type": "markdown",
   "id": "2c8da4a7",
   "metadata": {},
   "source": [
    "### این الگوریتم کامل .......... و همواره جواب بهینه را .............. ولی از نظر تعداد استیت ها و زمان اجرا بهینه نیست "
   ]
  },
  {
   "cell_type": "code",
   "execution_count": null,
   "id": "4c7f9ca4",
   "metadata": {},
   "outputs": [],
   "source": []
  },
  {
   "cell_type": "code",
   "execution_count": null,
   "id": "6d9804cb",
   "metadata": {},
   "outputs": [],
   "source": []
  },
  {
   "cell_type": "code",
   "execution_count": 188,
   "id": "44bd7f5c",
   "metadata": {},
   "outputs": [],
   "source": [
    "maps_copy = deepcopy(maps)"
   ]
  },
  {
   "cell_type": "code",
   "execution_count": null,
   "id": "8f46bad4",
   "metadata": {},
   "outputs": [],
   "source": []
  },
  {
   "cell_type": "code",
   "execution_count": null,
   "id": "e8402ce5",
   "metadata": {},
   "outputs": [],
   "source": []
  },
  {
   "cell_type": "code",
   "execution_count": null,
   "id": "b68ed89c",
   "metadata": {},
   "outputs": [],
   "source": []
  },
  {
   "cell_type": "code",
   "execution_count": null,
   "id": "216df105",
   "metadata": {},
   "outputs": [],
   "source": []
  },
  {
   "cell_type": "code",
   "execution_count": null,
   "id": "6adfda7c",
   "metadata": {},
   "outputs": [],
   "source": []
  },
  {
   "cell_type": "code",
   "execution_count": null,
   "id": "44eaead0",
   "metadata": {},
   "outputs": [],
   "source": []
  }
 ],
 "metadata": {
  "kernelspec": {
   "display_name": "Python 3 (ipykernel)",
   "language": "python",
   "name": "python3"
  },
  "language_info": {
   "codemirror_mode": {
    "name": "ipython",
    "version": 3
   },
   "file_extension": ".py",
   "mimetype": "text/x-python",
   "name": "python",
   "nbconvert_exporter": "python",
   "pygments_lexer": "ipython3",
   "version": "3.8.10"
  }
 },
 "nbformat": 4,
 "nbformat_minor": 5
}
