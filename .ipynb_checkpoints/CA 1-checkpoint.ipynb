{
 "cells": [
  {
   "cell_type": "markdown",
   "id": "73456fac",
   "metadata": {},
   "source": [
    "## پروژه اول درس هوش مصنوعی با موضوع الگوریتم های جستجوی آگاهانه و ناآگاهانه"
   ]
  },
  {
   "cell_type": "markdown",
   "id": "89406161",
   "metadata": {},
   "source": [
    "### در این پروژه سعی میکنیم با استفاده از الگوریتم های زیر مساله ی یافتن راهی برای جمع آوری معجون ها از معبدی با شکل شطرنجی را حل کنیم"
   ]
  },
  {
   "cell_type": "markdown",
   "id": "fec1c5f7",
   "metadata": {},
   "source": [
    "## BFS , IDS & A*"
   ]
  },
  {
   "cell_type": "markdown",
   "id": "c6fef698",
   "metadata": {},
   "source": [
    "# Imports"
   ]
  },
  {
   "cell_type": "code",
   "execution_count": 1,
   "id": "2bef7f63",
   "metadata": {},
   "outputs": [],
   "source": [
    "#import numpy as np\n",
    "import time\n",
    "from copy import deepcopy\n",
    "import queue as qu"
   ]
  },
  {
   "cell_type": "markdown",
   "id": "12509f30",
   "metadata": {},
   "source": [
    "# Body"
   ]
  },
  {
   "cell_type": "markdown",
   "id": "7c7f3233",
   "metadata": {},
   "source": [
    "## Load tests data"
   ]
  },
  {
   "cell_type": "code",
   "execution_count": 2,
   "id": "8137c96e",
   "metadata": {},
   "outputs": [],
   "source": [
    "tests = []\n",
    "file = open(\"test1.in\")\n",
    "tests.append(file.readlines())\n",
    "file.close()\n",
    "file = open(\"test2.in\")\n",
    "tests.append(file.readlines())\n",
    "file.close()\n",
    "file = open(\"test3.in\")\n",
    "tests.append(file.readlines())\n",
    "file.close()"
   ]
  },
  {
   "cell_type": "markdown",
   "id": "98cfb176",
   "metadata": {},
   "source": [
    "#### داده های تست ها را از فایل هایی که در پوشه پروژه قرار دارند برای تست برنامه لود می کنیم\n",
    "#### با توجه به تست های موجود فرض می شود که تعداد سطر ها و ستون ها اعداد تک رقمی می باشند "
   ]
  },
  {
   "cell_type": "markdown",
   "id": "e7e2a441",
   "metadata": {},
   "source": [
    "## Create tests maps"
   ]
  },
  {
   "cell_type": "code",
   "execution_count": 3,
   "id": "65671ca9",
   "metadata": {},
   "outputs": [],
   "source": [
    "maps = []\n",
    "Cs = []\n",
    "Ks = []\n",
    "for test in tests:\n",
    "    num_of_row = int(test[0][0])\n",
    "    num_of_col = int(test[0][2])\n",
    "    curr_map = [['e'] * num_of_col for i in range(num_of_row)]\n",
    "    curr_c = int(test[1][0])\n",
    "    curr_k = int(test[1][2])\n",
    "    curr_Cs = []\n",
    "    curr_Ks = []\n",
    "    for i in range(0, curr_c):\n",
    "        curr_Cs.append([int(test[2+i][0]), int(test[2+i][2]), False])\n",
    "        curr_map[int(test[2+i][0])][int(test[2+i][2])] = 'c'\n",
    "    for i in range(0, curr_k):\n",
    "        curr_Ks.append([int(test[2+curr_c+i][0]), int(test[2+curr_c+i][2]), False])\n",
    "        curr_map[int(test[2+curr_c+i][0])][int(test[2+curr_c+i][2])] = 'k'\n",
    "    curr_d = int(test[2+curr_c+curr_k])\n",
    "    for i in range(0, curr_d):\n",
    "        curr_map[int(test[3+curr_c+curr_k+i][0])][int(test[3+curr_c+curr_k+i][2])] = 'd'\n",
    "    maps.append(curr_map)\n",
    "    Cs.append(curr_Cs)\n",
    "    Ks.append(curr_Ks)\n"
   ]
  },
  {
   "cell_type": "code",
   "execution_count": 4,
   "id": "cfe253e6",
   "metadata": {},
   "outputs": [
    {
     "data": {
      "text/plain": [
       "[[['e', 'k', 'c', 'e'],\n",
       "  ['e', 'e', 'd', 'e'],\n",
       "  ['c', 'e', 'e', 'e'],\n",
       "  ['e', 'e', 'e', 'e']],\n",
       " [['k', 'e', 'e', 'd'],\n",
       "  ['e', 'k', 'c', 'd'],\n",
       "  ['c', 'c', 'e', 'e'],\n",
       "  ['e', 'k', 'e', 'e']],\n",
       " [['e', 'e', 'd', 'e', 'e', 'e'],\n",
       "  ['e', 'd', 'c', 'e', 'e', 'c'],\n",
       "  ['e', 'e', 'k', 'e', 'e', 'e'],\n",
       "  ['d', 'e', 'e', 'e', 'e', 'c'],\n",
       "  ['e', 'd', 'k', 'c', 'e', 'e'],\n",
       "  ['e', 'c', 'e', 'e', 'e', 'e']]]"
      ]
     },
     "execution_count": 4,
     "metadata": {},
     "output_type": "execute_result"
    }
   ],
   "source": [
    "maps"
   ]
  },
  {
   "cell_type": "markdown",
   "id": "410807b6",
   "metadata": {},
   "source": [
    "#### مشاهده می شود که نقشه های تست به درستی  لود شده اند"
   ]
  },
  {
   "cell_type": "markdown",
   "id": "69134301",
   "metadata": {},
   "source": [
    "## Model Description"
   ]
  },
  {
   "cell_type": "markdown",
   "id": "de72a0a0",
   "metadata": {},
   "source": [
    "### Actions : Di up, Di down, Di right, Di left (for i in range num of doctors)"
   ]
  },
  {
   "cell_type": "markdown",
   "id": "cc16b71c",
   "metadata": {},
   "source": [
    "### Initial State : A doctor in (0, 0) and the map looks like the test files"
   ]
  },
  {
   "cell_type": "markdown",
   "id": "4ea70874",
   "metadata": {},
   "source": [
    "### Goal State : Every doctor in (n-1, m-1) and no 'c' remain in the map"
   ]
  },
  {
   "cell_type": "markdown",
   "id": "12f4234d",
   "metadata": {},
   "source": [
    "### Path cost : sum of moves (Actions) of all doctors (from Initial state to Goal state)"
   ]
  },
  {
   "cell_type": "markdown",
   "id": "7c029aab",
   "metadata": {},
   "source": [
    "### State : position of elements in the map in a node represents the current state for this node"
   ]
  },
  {
   "cell_type": "markdown",
   "id": "44c7d6c4",
   "metadata": {},
   "source": [
    "### Transition Model : اگر دکتری به خانه ای که دارای دارو است وارد شود آن خانه تبدیل به خانه ی خالی شده و یک دکتر در خانه ی پایین سمت چپ جدول ایجاد می شود . اگر دکتری وارد خانه ای دارای معجون شود آن خانه به خانه ی خالی تبدیل می شود . برای حرکت دکتر ها هم تنها در صورتی که خانه ی مورد نظر مجاز باشد و قابل رفتن باشد به آنجا می رود"
   ]
  },
  {
   "cell_type": "markdown",
   "id": "f7c4684d",
   "metadata": {},
   "source": [
    "## Common Functions"
   ]
  },
  {
   "cell_type": "code",
   "execution_count": 553,
   "id": "c12f4f01",
   "metadata": {},
   "outputs": [],
   "source": [
    "def is_in_list(node, ls):\n",
    "    #result = np.where(expanded == curr_state, True, False)\n",
    "    #if True in result:\n",
    "    #    return True\n",
    "    #return False\n",
    "    ##############\n",
    "    for nd in ls:\n",
    "        if nd.is_same(node):\n",
    "            return True\n",
    "    return False\n",
    "    ############\n",
    "    #node_list = [node]*len(expanded)\n",
    "    #result = map(is_same, node_list, expanded)\n",
    "    #if True in result:\n",
    "    #    return True\n",
    "    #return False\n",
    "    \n",
    "def eat_drug(Ks, x, y):\n",
    "    for k in Ks:\n",
    "        if k[0] == x and k[1] == y:\n",
    "            if k[2]:\n",
    "                return False\n",
    "            else:\n",
    "                k[2] = True\n",
    "                return True\n",
    "            \n",
    "def pick_confection(Cs, x, y):\n",
    "    for c in Cs:\n",
    "        if c[0] == x and c[1] == y:\n",
    "            c[2] = True\n",
    "            return\n",
    "        \n",
    "def is_dr_in_list(dr, drs, m, n):\n",
    "    if dr[1] == m-1 and dr[2] == n-1:\n",
    "        return True\n",
    "    for d in drs:\n",
    "        if d[1] == dr[1] and d[2] == dr[2]:\n",
    "            return True\n",
    "    return False"
   ]
  },
  {
   "cell_type": "markdown",
   "id": "273f0cd3",
   "metadata": {},
   "source": [
    "## Data Structures"
   ]
  },
  {
   "cell_type": "code",
   "execution_count": 554,
   "id": "b86abeba",
   "metadata": {},
   "outputs": [],
   "source": [
    "class Fifo:\n",
    "    def __init__(self):\n",
    "        self.ls = []\n",
    "        self.front = 0\n",
    "        self.rear = 0\n",
    "        \n",
    "    def put(self, element):\n",
    "        self.ls.append(element)\n",
    "        self.rear += 1\n",
    "        \n",
    "    def get(self):\n",
    "        self.front += 1\n",
    "        return self.ls[self.front-1]\n",
    "    \n",
    "    def empty(self):\n",
    "        return self.front >= self.rear\n",
    "        "
   ]
  },
  {
   "cell_type": "code",
   "execution_count": 555,
   "id": "8cffcee6",
   "metadata": {},
   "outputs": [],
   "source": [
    "class Lifo:\n",
    "    def __init__(self):\n",
    "        self.ls = []\n",
    "        self.top = 0\n",
    "        \n",
    "    def put(self, element):\n",
    "        self.ls.append(element)\n",
    "        self.top += 1\n",
    "        \n",
    "    def get(self):\n",
    "        self.top -= 1\n",
    "        return self.ls.pop()\n",
    "    \n",
    "    def empty(self):\n",
    "        return self.top <= 0\n",
    "        "
   ]
  },
  {
   "cell_type": "code",
   "execution_count": 570,
   "id": "34d39723",
   "metadata": {},
   "outputs": [],
   "source": [
    "class Node:\n",
    "    def __init__(self, curr_map, curr_Cs, curr_Ks, path_until_there, path_cost_until_there, curr_Drs, row, col):\n",
    "        self.map = curr_map\n",
    "        self.Cs = curr_Cs\n",
    "        self.Ks = curr_Ks\n",
    "        self.path = path_until_there\n",
    "        self.path_cost = path_cost_until_there\n",
    "        self.Drs = curr_Drs\n",
    "        self.m = row\n",
    "        self.n = col\n",
    "        #self.state = self.calculate_state()\n",
    "        if self.path_cost == 0:\n",
    "            if self.map[0][0] == 'k':\n",
    "                eat_drug(self.Ks, 0, 0)\n",
    "                self.Drs.append([1, self.m-1, 0])\n",
    "                \n",
    "    #def calculate_state(self):\n",
    "        #string = \"\"\n",
    "        #for c in self.Cs:\n",
    "            #if c[2]:\n",
    "                #string += '1'\n",
    "            #else:\n",
    "                #string += '0'\n",
    "        #for k in self.Ks:\n",
    "            #if k[2]:\n",
    "                #string += '1'\n",
    "            #else:\n",
    "                #string += '0'\n",
    "        #dr_ls = []\n",
    "        #for dr in self.Drs:\n",
    "            #dr_ls.append(10 * dr[1] + dr[2])\n",
    "        #dr_ls.sort()\n",
    "        #string += str(dr_ls)\n",
    "        #return string\n",
    "    \n",
    "    def Goal_test(self):\n",
    "        for c in self.Cs:\n",
    "            if c[2] is False:\n",
    "                return False\n",
    "        for dr in self.Drs:\n",
    "            if dr[1] != self.m-1 or dr[2] != self.n-1:\n",
    "                return False\n",
    "        return True\n",
    "    \n",
    "    def expand(self, queue, expanded, limit = None):\n",
    "        ##if expanded:\n",
    "        ##    if expanded[-1].path_cost < self.path_cost:\n",
    "        ##        expanded = []\n",
    "        expanded.append(self)\n",
    "        if limit != None:\n",
    "            if self.path_cost == limit:\n",
    "                return None\n",
    "        for dr in self.Drs:\n",
    "            if dr[1] == self.m-1 and dr[2] == self.n-1:\n",
    "                continue\n",
    "            if dr[1]+1 < self.m:\n",
    "                if self.map[dr[1]+1][dr[2]] != 'd':\n",
    "                    #temp_state = deepcopy(self.state)\n",
    "                    temp_drs = deepcopy(self.Drs)\n",
    "                    temp_drs[dr[0]][1] = dr[1]+1\n",
    "                    temp_Ks = deepcopy(self.Ks)\n",
    "                    temp_Cs = deepcopy(self.Cs)\n",
    "                    if self.map[dr[1]+1][dr[2]] == 'k':\n",
    "                        if eat_drug(temp_Ks, dr[1]+1, dr[2]):\n",
    "                            temp_drs.append([len(self.Drs), self.m-1, 0])\n",
    "                    if self.map[dr[1]+1][dr[2]] == 'c':\n",
    "                        pick_confection(temp_Cs, dr[1]+1, dr[2])\n",
    "                    #temp_state[dr[1]+1][dr[2]] = 'e'\n",
    "                    temp_path = deepcopy(self.path)\n",
    "                    temp_path.append([dr[0], \"D\"])\n",
    "                    temp_node = Node(self.map, temp_Cs, temp_Ks, temp_path, self.path_cost+1, temp_drs, self.m, self.n)\n",
    "                    if not is_in_list(temp_node, expanded):\n",
    "                        if temp_node.Goal_test():\n",
    "                            return temp_node\n",
    "                        if limit != None:\n",
    "                            queue.put(temp_node)\n",
    "                        elif not is_in_list(temp_node, queue.ls):\n",
    "                            queue.put(temp_node)\n",
    "            if dr[1] > 0:\n",
    "                if self.map[dr[1]-1][dr[2]] != 'd':\n",
    "                    #temp_state = deepcopy(self.state)\n",
    "                    temp_drs = deepcopy(self.Drs)\n",
    "                    temp_drs[dr[0]][1] = dr[1]-1\n",
    "                    temp_Ks = deepcopy(self.Ks)\n",
    "                    temp_Cs = deepcopy(self.Cs)\n",
    "                    if self.map[dr[1]-1][dr[2]] == 'k':\n",
    "                        if eat_drug(temp_Ks, dr[1]-1, dr[2]):\n",
    "                            temp_drs.append([len(self.Drs), self.m-1, 0])\n",
    "                    if self.map[dr[1]-1][dr[2]] == 'c':\n",
    "                        pick_confection(temp_Cs, dr[1]-1, dr[2])\n",
    "                    #temp_state[dr[1]-1][dr[2]] = 'e'\n",
    "                    temp_path = deepcopy(self.path)\n",
    "                    temp_path.append([dr[0], \"U\"])\n",
    "                    temp_node = Node(self.map, temp_Cs, temp_Ks, temp_path, self.path_cost+1, temp_drs, self.m, self.n)\n",
    "                    if not is_in_list(temp_node, expanded):\n",
    "                        if temp_node.Goal_test():\n",
    "                            return temp_node\n",
    "                        if limit != None:\n",
    "                            queue.put(temp_node)\n",
    "                        elif not is_in_list(temp_node, queue.ls):\n",
    "                            queue.put(temp_node)\n",
    "            if dr[2]+1 < self.n:\n",
    "                if self.map[dr[1]][dr[2]+1] != 'd':\n",
    "                    #temp_state = deepcopy(self.state)\n",
    "                    temp_drs = deepcopy(self.Drs)\n",
    "                    temp_drs[dr[0]][2] = dr[2]+1\n",
    "                    temp_Ks = deepcopy(self.Ks)\n",
    "                    temp_Cs = deepcopy(self.Cs)\n",
    "                    if self.map[dr[1]][dr[2]+1] == 'k':\n",
    "                        if eat_drug(temp_Ks, dr[1], dr[2]+1):\n",
    "                            temp_drs.append([len(self.Drs), self.m-1, 0])\n",
    "                    if self.map[dr[1]][dr[2]+1] == 'c':\n",
    "                        pick_confection(temp_Cs, dr[1], dr[2]+1)\n",
    "                    #temp_state[dr[1]][dr[2]+1] = 'e'\n",
    "                    temp_path = deepcopy(self.path)\n",
    "                    temp_path.append([dr[0], \"R\"])\n",
    "                    temp_node = Node(self.map, temp_Cs, temp_Ks, temp_path, self.path_cost+1, temp_drs, self.m, self.n)\n",
    "                    if not is_in_list(temp_node, expanded):\n",
    "                        if temp_node.Goal_test():\n",
    "                            return temp_node\n",
    "                        if limit != None:\n",
    "                            queue.put(temp_node)\n",
    "                        elif not is_in_list(temp_node, queue.ls):\n",
    "                            queue.put(temp_node)\n",
    "            if dr[2] > 0:\n",
    "                if self.map[dr[1]][dr[2]-1] != 'd':\n",
    "                    #temp_state = deepcopy(self.state)\n",
    "                    temp_drs = deepcopy(self.Drs)\n",
    "                    temp_drs[dr[0]][2] = dr[2]-1\n",
    "                    temp_Ks = deepcopy(self.Ks)\n",
    "                    temp_Cs = deepcopy(self.Cs)\n",
    "                    if self.map[dr[1]][dr[2]-1] == 'k':\n",
    "                        if eat_drug(temp_Ks, dr[1], dr[2]-1):\n",
    "                            temp_drs.append([len(self.Drs), self.m-1, 0])\n",
    "                    if self.map[dr[1]][dr[2]-1] == 'c':\n",
    "                        pick_confection(temp_Cs, dr[1], dr[2]-1)\n",
    "                    #temp_state[dr[1]][dr[2]-1] = 'e'\n",
    "                    temp_path = deepcopy(self.path)\n",
    "                    temp_path.append([dr[0], \"L\"])\n",
    "                    temp_node = Node(self.map, temp_Cs, temp_Ks, temp_path, self.path_cost+1, temp_drs, self.m, self.n)\n",
    "                    if not is_in_list(temp_node, expanded):\n",
    "                        if temp_node.Goal_test():\n",
    "                            return temp_node\n",
    "                        if limit != None:\n",
    "                            queue.put(temp_node)\n",
    "                        elif not is_in_list(temp_node, queue.ls):\n",
    "                            queue.put(temp_node)\n",
    "            if limit == None:\n",
    "                break  \n",
    "        return None\n",
    "    \n",
    "    #Implementation with limited DFS\n",
    "    #def LDFS_expand(self, lifo, expanded, limit):\n",
    "     #   expanded.append(self)\n",
    "       # if self.path_cost == limit:\n",
    "        #    return None\n",
    "     ####################################################################   \n",
    "    def dexpand(self, queue, expanded, limit = None):\n",
    "        ##if expanded:\n",
    "        ##    if expanded[-1].path_cost < self.path_cost:\n",
    "        ##        expanded = []\n",
    "        if self.Goal_test():\n",
    "            return self\n",
    "        expanded.append(self)\n",
    "        if limit != None:\n",
    "            if self.path_cost == limit:\n",
    "                return None\n",
    "        for dr in self.Drs:\n",
    "            if dr[1] == self.m-1 and dr[2] == self.n-1:\n",
    "                continue\n",
    "            if dr[1]+1 < self.m:\n",
    "                if self.map[dr[1]+1][dr[2]] != 'd':\n",
    "                    #temp_state = deepcopy(self.state)\n",
    "                    temp_drs = deepcopy(self.Drs)\n",
    "                    temp_drs[dr[0]][1] = dr[1]+1\n",
    "                    temp_Ks = deepcopy(self.Ks)\n",
    "                    temp_Cs = deepcopy(self.Cs)\n",
    "                    if self.map[dr[1]+1][dr[2]] == 'k':\n",
    "                        if eat_drug(temp_Ks, dr[1]+1, dr[2]):\n",
    "                            temp_drs.append([len(self.Drs), self.m-1, 0])\n",
    "                    if self.map[dr[1]+1][dr[2]] == 'c':\n",
    "                        pick_confection(temp_Cs, dr[1]+1, dr[2])\n",
    "                    #temp_state[dr[1]+1][dr[2]] = 'e'\n",
    "                    temp_path = deepcopy(self.path)\n",
    "                    temp_path.append([dr[0], \"D\"])\n",
    "                    temp_node = Node(self.map, temp_Cs, temp_Ks, temp_path, self.path_cost+1, temp_drs, self.m, self.n)\n",
    "                    if not is_in_list(temp_node, expanded):\n",
    "                        if limit != None:\n",
    "                            queue.put(temp_node)\n",
    "                        elif not is_in_list(temp_node, queue.ls):\n",
    "                            queue.put(temp_node)\n",
    "            if dr[1] > 0:\n",
    "                if self.map[dr[1]-1][dr[2]] != 'd':\n",
    "                    #temp_state = deepcopy(self.state)\n",
    "                    temp_drs = deepcopy(self.Drs)\n",
    "                    temp_drs[dr[0]][1] = dr[1]-1\n",
    "                    temp_Ks = deepcopy(self.Ks)\n",
    "                    temp_Cs = deepcopy(self.Cs)\n",
    "                    if self.map[dr[1]-1][dr[2]] == 'k':\n",
    "                        if eat_drug(temp_Ks, dr[1]-1, dr[2]):\n",
    "                            temp_drs.append([len(self.Drs), self.m-1, 0])\n",
    "                    if self.map[dr[1]-1][dr[2]] == 'c':\n",
    "                        pick_confection(temp_Cs, dr[1]-1, dr[2])\n",
    "                    #temp_state[dr[1]-1][dr[2]] = 'e'\n",
    "                    temp_path = deepcopy(self.path)\n",
    "                    temp_path.append([dr[0], \"U\"])\n",
    "                    temp_node = Node(self.map, temp_Cs, temp_Ks, temp_path, self.path_cost+1, temp_drs, self.m, self.n)\n",
    "                    if not is_in_list(temp_node, expanded):\n",
    "                        if limit != None:\n",
    "                            queue.put(temp_node)\n",
    "                        elif not is_in_list(temp_node, queue.ls):\n",
    "                            queue.put(temp_node)\n",
    "            if dr[2]+1 < self.n:\n",
    "                if self.map[dr[1]][dr[2]+1] != 'd':\n",
    "                    #temp_state = deepcopy(self.state)\n",
    "                    temp_drs = deepcopy(self.Drs)\n",
    "                    temp_drs[dr[0]][2] = dr[2]+1\n",
    "                    temp_Ks = deepcopy(self.Ks)\n",
    "                    temp_Cs = deepcopy(self.Cs)\n",
    "                    if self.map[dr[1]][dr[2]+1] == 'k':\n",
    "                        if eat_drug(temp_Ks, dr[1], dr[2]+1):\n",
    "                            temp_drs.append([len(self.Drs), self.m-1, 0])\n",
    "                    if self.map[dr[1]][dr[2]+1] == 'c':\n",
    "                        pick_confection(temp_Cs, dr[1], dr[2]+1)\n",
    "                    #temp_state[dr[1]][dr[2]+1] = 'e'\n",
    "                    temp_path = deepcopy(self.path)\n",
    "                    temp_path.append([dr[0], \"R\"])\n",
    "                    temp_node = Node(self.map, temp_Cs, temp_Ks, temp_path, self.path_cost+1, temp_drs, self.m, self.n)\n",
    "                    if not is_in_list(temp_node, expanded):\n",
    "                        if limit != None:\n",
    "                            queue.put(temp_node)\n",
    "                        elif not is_in_list(temp_node, queue.ls):\n",
    "                            queue.put(temp_node)\n",
    "            if dr[2] > 0:\n",
    "                if self.map[dr[1]][dr[2]-1] != 'd':\n",
    "                    #temp_state = deepcopy(self.state)\n",
    "                    temp_drs = deepcopy(self.Drs)\n",
    "                    temp_drs[dr[0]][2] = dr[2]-1\n",
    "                    temp_Ks = deepcopy(self.Ks)\n",
    "                    temp_Cs = deepcopy(self.Cs)\n",
    "                    if self.map[dr[1]][dr[2]-1] == 'k':\n",
    "                        if eat_drug(temp_Ks, dr[1], dr[2]-1):\n",
    "                            temp_drs.append([len(self.Drs), self.m-1, 0])\n",
    "                    if self.map[dr[1]][dr[2]-1] == 'c':\n",
    "                        pick_confection(temp_Cs, dr[1], dr[2]-1)\n",
    "                    #temp_state[dr[1]][dr[2]-1] = 'e'\n",
    "                    temp_path = deepcopy(self.path)\n",
    "                    temp_path.append([dr[0], \"L\"])\n",
    "                    temp_node = Node(self.map, temp_Cs, temp_Ks, temp_path, self.path_cost+1, temp_drs, self.m, self.n)\n",
    "                    if not is_in_list(temp_node, expanded):\n",
    "                        if limit != None:\n",
    "                            queue.put(temp_node)\n",
    "                        elif not is_in_list(temp_node, queue.ls):\n",
    "                            queue.put(temp_node)\n",
    "            if limit == None:\n",
    "                break  \n",
    "        return None\n",
    "        ####################################################\n",
    "    def is_same(self, node):\n",
    "        #if len(self.Drs) == len(node.Drs):\n",
    "        if self.Cs == node.Cs and self.Ks == node.Ks:\n",
    "            for dr in self.Drs:\n",
    "                if not is_dr_in_list(dr, node.Drs, self.m, self.n):\n",
    "                    return False\n",
    "            return True\n",
    "        return False"
   ]
  },
  {
   "cell_type": "markdown",
   "id": "bfaab179",
   "metadata": {},
   "source": [
    "#### import inspect\n",
    "src = inspect.getsource(qu)\n"
   ]
  },
  {
   "cell_type": "markdown",
   "id": "9dfa6217",
   "metadata": {},
   "source": [
    "#### print(src)"
   ]
  },
  {
   "cell_type": "code",
   "execution_count": null,
   "id": "9666066b",
   "metadata": {},
   "outputs": [],
   "source": []
  },
  {
   "cell_type": "code",
   "execution_count": null,
   "id": "22d34d29",
   "metadata": {},
   "outputs": [],
   "source": []
  },
  {
   "cell_type": "markdown",
   "id": "30b152f0",
   "metadata": {},
   "source": [
    "## Test Implementation with BFS"
   ]
  },
  {
   "cell_type": "markdown",
   "id": "27700e40",
   "metadata": {},
   "source": [
    "### این الگوریتم کامل است و همواره جواب بهینه را به دست می آورد ولی از نظر تعداد استیت های دیده شده و زمان اجرا بهینه نیست "
   ]
  },
  {
   "cell_type": "markdown",
   "id": "4199337f",
   "metadata": {},
   "source": [
    "## My Test"
   ]
  },
  {
   "cell_type": "code",
   "execution_count": 571,
   "id": "d9eaa2fc",
   "metadata": {},
   "outputs": [],
   "source": [
    "maps_copy = deepcopy(maps)"
   ]
  },
  {
   "cell_type": "code",
   "execution_count": 572,
   "id": "8ed28ca4",
   "metadata": {},
   "outputs": [],
   "source": [
    "Cs_copy = deepcopy(Cs)"
   ]
  },
  {
   "cell_type": "code",
   "execution_count": 573,
   "id": "634afe10",
   "metadata": {},
   "outputs": [
    {
     "data": {
      "text/plain": [
       "[['e', 'k', 'c', 'e'],\n",
       " ['e', 'e', 'd', 'e'],\n",
       " ['c', 'e', 'e', 'e'],\n",
       " ['e', 'e', 'e', 'e']]"
      ]
     },
     "execution_count": 573,
     "metadata": {},
     "output_type": "execute_result"
    }
   ],
   "source": [
    "maps_copy[0]"
   ]
  },
  {
   "cell_type": "code",
   "execution_count": 574,
   "id": "e257edd7",
   "metadata": {},
   "outputs": [],
   "source": [
    "Cs_copy[0] = [[0, 2, False]]"
   ]
  },
  {
   "cell_type": "code",
   "execution_count": 575,
   "id": "2ef50a3c",
   "metadata": {},
   "outputs": [],
   "source": [
    "maps_copy[0][2][0] = 'e'"
   ]
  },
  {
   "cell_type": "code",
   "execution_count": 576,
   "id": "5334c890",
   "metadata": {},
   "outputs": [
    {
     "data": {
      "text/plain": [
       "[['e', 'k', 'c', 'e'],\n",
       " ['e', 'e', 'd', 'e'],\n",
       " ['e', 'e', 'e', 'e'],\n",
       " ['e', 'e', 'e', 'e']]"
      ]
     },
     "execution_count": 576,
     "metadata": {},
     "output_type": "execute_result"
    }
   ],
   "source": [
    "maps_copy[0]"
   ]
  },
  {
   "cell_type": "code",
   "execution_count": 577,
   "id": "7fdbc35e",
   "metadata": {},
   "outputs": [],
   "source": [
    "fifo = Fifo()\n",
    "expanded = []"
   ]
  },
  {
   "cell_type": "code",
   "execution_count": 578,
   "id": "e6eece02",
   "metadata": {},
   "outputs": [],
   "source": [
    "first_node = Node(maps_copy[0], Cs_copy[0], Ks[0], [], 0, [[0, 0, 0]], len(maps_copy[0]), len(maps_copy[0][0]))\n",
    "fifo.put(first_node)\n",
    "#frontier.append(first_node)\n",
    "#index = 0"
   ]
  },
  {
   "cell_type": "code",
   "execution_count": 579,
   "id": "2dccd712",
   "metadata": {},
   "outputs": [
    {
     "name": "stdout",
     "output_type": "stream",
     "text": [
      "answer found\n",
      "path cost = 9\n",
      "[[0, 'R'], [0, 'R'], [0, 'R'], [0, 'D'], [0, 'D'], [0, 'D'], [1, 'R'], [1, 'R'], [1, 'R']]\n"
     ]
    }
   ],
   "source": [
    "first_time = time.time()\n",
    "while not fifo.empty():\n",
    "    curr_node = fifo.get()\n",
    "    answer = curr_node.expand(fifo, expanded)\n",
    "    if answer != None:\n",
    "        print(\"answer found\")\n",
    "        print(\"path cost =\", answer.path_cost)\n",
    "        print(answer.path)\n",
    "        break\n",
    "last_time = time.time()"
   ]
  },
  {
   "cell_type": "code",
   "execution_count": 580,
   "id": "400f1dd6",
   "metadata": {},
   "outputs": [],
   "source": [
    "bfs_time = last_time - first_time"
   ]
  },
  {
   "cell_type": "code",
   "execution_count": 581,
   "id": "f55afdca",
   "metadata": {},
   "outputs": [
    {
     "data": {
      "text/plain": [
       "0.0026082992553710938"
      ]
     },
     "execution_count": 581,
     "metadata": {},
     "output_type": "execute_result"
    }
   ],
   "source": [
    "bfs_time"
   ]
  },
  {
   "cell_type": "code",
   "execution_count": 582,
   "id": "d04692e5",
   "metadata": {},
   "outputs": [
    {
     "data": {
      "text/plain": [
       "36"
      ]
     },
     "execution_count": 582,
     "metadata": {},
     "output_type": "execute_result"
    }
   ],
   "source": [
    "len(expanded)"
   ]
  },
  {
   "cell_type": "markdown",
   "id": "644ff36b",
   "metadata": {},
   "source": [
    "## Test 1"
   ]
  },
  {
   "cell_type": "code",
   "execution_count": 583,
   "id": "7606f130",
   "metadata": {},
   "outputs": [],
   "source": [
    "fifo = Fifo()\n",
    "expanded = []"
   ]
  },
  {
   "cell_type": "code",
   "execution_count": 584,
   "id": "d91cf6ab",
   "metadata": {},
   "outputs": [],
   "source": [
    "fifo.put(Node(maps[0], Cs[0], Ks[0], [], 0, [[0, 0, 0]], len(maps[0]), len(maps[0][0])))"
   ]
  },
  {
   "cell_type": "code",
   "execution_count": 585,
   "id": "0d5f40d2",
   "metadata": {},
   "outputs": [
    {
     "name": "stdout",
     "output_type": "stream",
     "text": [
      "answer found\n",
      "path cost = 11\n",
      "[[0, 'R'], [0, 'R'], [0, 'R'], [0, 'D'], [0, 'D'], [0, 'D'], [1, 'U'], [1, 'R'], [1, 'D'], [1, 'R'], [1, 'R']]\n"
     ]
    }
   ],
   "source": [
    "first_time = time.time()\n",
    "while not fifo.empty():\n",
    "    curr_node = fifo.get()\n",
    "    answer = curr_node.expand(fifo, expanded)\n",
    "    if answer != None:\n",
    "        print(\"answer found\")\n",
    "        print(\"path cost =\", answer.path_cost)\n",
    "        print(answer.path)\n",
    "        break\n",
    "last_time = time.time()"
   ]
  },
  {
   "cell_type": "code",
   "execution_count": 586,
   "id": "b4e8f97c",
   "metadata": {},
   "outputs": [],
   "source": [
    "bfs_time = last_time - first_time"
   ]
  },
  {
   "cell_type": "code",
   "execution_count": 587,
   "id": "bcc28013",
   "metadata": {},
   "outputs": [
    {
     "data": {
      "text/plain": [
       "0.0227508544921875"
      ]
     },
     "execution_count": 587,
     "metadata": {},
     "output_type": "execute_result"
    }
   ],
   "source": [
    "bfs_time"
   ]
  },
  {
   "cell_type": "code",
   "execution_count": 588,
   "id": "1d4e9863",
   "metadata": {},
   "outputs": [
    {
     "data": {
      "text/plain": [
       "63"
      ]
     },
     "execution_count": 588,
     "metadata": {},
     "output_type": "execute_result"
    }
   ],
   "source": [
    "len(expanded)"
   ]
  },
  {
   "cell_type": "markdown",
   "id": "be023cc3",
   "metadata": {},
   "source": [
    "## Test 2"
   ]
  },
  {
   "cell_type": "code",
   "execution_count": 589,
   "id": "0dfe4153",
   "metadata": {},
   "outputs": [],
   "source": [
    "fifo = Fifo()\n",
    "expanded = []"
   ]
  },
  {
   "cell_type": "code",
   "execution_count": 590,
   "id": "6dd5a7b0",
   "metadata": {},
   "outputs": [],
   "source": [
    "fifo.put(Node(maps[1], Cs[1], Ks[1], [], 0, [[0, 0, 0]], len(maps[1]), len(maps[1][0])))"
   ]
  },
  {
   "cell_type": "code",
   "execution_count": 591,
   "id": "89c266b6",
   "metadata": {},
   "outputs": [
    {
     "name": "stdout",
     "output_type": "stream",
     "text": [
      "answer found\n",
      "path cost = 11\n",
      "[[0, 'R'], [0, 'R'], [0, 'D'], [0, 'D'], [0, 'D'], [0, 'R'], [1, 'U'], [1, 'R'], [1, 'R'], [1, 'D'], [1, 'R']]\n"
     ]
    }
   ],
   "source": [
    "first_time = time.time()\n",
    "while not fifo.empty():\n",
    "    curr_node = fifo.get()\n",
    "    answer = curr_node.expand(fifo, expanded)\n",
    "    if answer != None:\n",
    "        print(\"answer found\")\n",
    "        print(\"path cost =\", answer.path_cost)\n",
    "        print(answer.path)\n",
    "        break\n",
    "last_time = time.time()"
   ]
  },
  {
   "cell_type": "code",
   "execution_count": 592,
   "id": "4bafcf18",
   "metadata": {},
   "outputs": [],
   "source": [
    "bfs_time = last_time - first_time"
   ]
  },
  {
   "cell_type": "code",
   "execution_count": 593,
   "id": "067b7f1e",
   "metadata": {},
   "outputs": [
    {
     "data": {
      "text/plain": [
       "0.023622512817382812"
      ]
     },
     "execution_count": 593,
     "metadata": {},
     "output_type": "execute_result"
    }
   ],
   "source": [
    "bfs_time"
   ]
  },
  {
   "cell_type": "code",
   "execution_count": 594,
   "id": "008b3c46",
   "metadata": {},
   "outputs": [
    {
     "data": {
      "text/plain": [
       "157"
      ]
     },
     "execution_count": 594,
     "metadata": {},
     "output_type": "execute_result"
    }
   ],
   "source": [
    "len(expanded)"
   ]
  },
  {
   "cell_type": "code",
   "execution_count": null,
   "id": "69424ef9",
   "metadata": {},
   "outputs": [],
   "source": []
  },
  {
   "cell_type": "markdown",
   "id": "53c27462",
   "metadata": {},
   "source": [
    "## Test 3"
   ]
  },
  {
   "cell_type": "code",
   "execution_count": 595,
   "id": "568e8261",
   "metadata": {},
   "outputs": [],
   "source": [
    "fifo = Fifo()\n",
    "expanded = []"
   ]
  },
  {
   "cell_type": "code",
   "execution_count": 596,
   "id": "4748294e",
   "metadata": {},
   "outputs": [],
   "source": [
    "fifo.put(Node(maps[2], Cs[2], Ks[2], [], 0, [[0, 0, 0]], len(maps[2]), len(maps[2][0])))"
   ]
  },
  {
   "cell_type": "code",
   "execution_count": 597,
   "id": "b34d1ac0",
   "metadata": {},
   "outputs": [
    {
     "name": "stdout",
     "output_type": "stream",
     "text": [
      "answer found\n",
      "path cost = 19\n",
      "[[0, 'D'], [0, 'D'], [0, 'R'], [0, 'R'], [0, 'U'], [0, 'R'], [0, 'R'], [0, 'R'], [0, 'D'], [0, 'D'], [0, 'D'], [0, 'D'], [1, 'R'], [1, 'R'], [1, 'R'], [1, 'U'], [1, 'D'], [1, 'R'], [1, 'R']]\n"
     ]
    }
   ],
   "source": [
    "first_time = time.time()\n",
    "while not fifo.empty():\n",
    "    curr_node = fifo.get()\n",
    "    answer = curr_node.expand(fifo, expanded)\n",
    "    if answer != None:\n",
    "        print(\"answer found\")\n",
    "        print(\"path cost =\", answer.path_cost)\n",
    "        print(answer.path)\n",
    "        break\n",
    "last_time = time.time()"
   ]
  },
  {
   "cell_type": "code",
   "execution_count": 598,
   "id": "8d7c2d38",
   "metadata": {},
   "outputs": [],
   "source": [
    "bfs_time = last_time - first_time"
   ]
  },
  {
   "cell_type": "code",
   "execution_count": 599,
   "id": "632e9954",
   "metadata": {},
   "outputs": [
    {
     "data": {
      "text/plain": [
       "0.45151567459106445"
      ]
     },
     "execution_count": 599,
     "metadata": {},
     "output_type": "execute_result"
    }
   ],
   "source": [
    "bfs_time"
   ]
  },
  {
   "cell_type": "code",
   "execution_count": 600,
   "id": "745a8fe3",
   "metadata": {},
   "outputs": [
    {
     "data": {
      "text/plain": [
       "1010"
      ]
     },
     "execution_count": 600,
     "metadata": {},
     "output_type": "execute_result"
    }
   ],
   "source": [
    "len(expanded)"
   ]
  },
  {
   "cell_type": "code",
   "execution_count": null,
   "id": "962215b7",
   "metadata": {},
   "outputs": [],
   "source": []
  },
  {
   "cell_type": "code",
   "execution_count": null,
   "id": "4f6d5adf",
   "metadata": {},
   "outputs": [],
   "source": []
  },
  {
   "cell_type": "code",
   "execution_count": null,
   "id": "603ffab4",
   "metadata": {},
   "outputs": [],
   "source": []
  },
  {
   "cell_type": "markdown",
   "id": "3de50c52",
   "metadata": {},
   "source": [
    "## Tese Implementation with IDS"
   ]
  },
  {
   "cell_type": "markdown",
   "id": "afb9f05b",
   "metadata": {},
   "source": [
    "### این الگوریتم کامل است و همواره جواب بهینه را می دهد ولی از نظر تعداد استیت ها و زمان اجرا بهینه نیست "
   ]
  },
  {
   "cell_type": "markdown",
   "id": "f4cca60d",
   "metadata": {},
   "source": [
    "### زمان اجرای این الگوریتم از بی اف اس نیز بیشتر است چرا که به ازای هر بار که لیمیت افزایش پیدا می کند تمام نود ها با ارتفاع کمتر که در مرحله ی قبل دیده شده اند باز بررسی می شوند"
   ]
  },
  {
   "cell_type": "markdown",
   "id": "92256130",
   "metadata": {},
   "source": [
    "## My Test"
   ]
  },
  {
   "cell_type": "code",
   "execution_count": 601,
   "id": "32de25d4",
   "metadata": {},
   "outputs": [],
   "source": [
    "maps_copy = deepcopy(maps)"
   ]
  },
  {
   "cell_type": "code",
   "execution_count": 602,
   "id": "ae295c32",
   "metadata": {},
   "outputs": [],
   "source": [
    "Cs_copy = deepcopy(Cs)"
   ]
  },
  {
   "cell_type": "code",
   "execution_count": 603,
   "id": "2a67c277",
   "metadata": {},
   "outputs": [
    {
     "data": {
      "text/plain": [
       "[['e', 'k', 'c', 'e'],\n",
       " ['e', 'e', 'd', 'e'],\n",
       " ['c', 'e', 'e', 'e'],\n",
       " ['e', 'e', 'e', 'e']]"
      ]
     },
     "execution_count": 603,
     "metadata": {},
     "output_type": "execute_result"
    }
   ],
   "source": [
    "maps_copy[0]"
   ]
  },
  {
   "cell_type": "code",
   "execution_count": 604,
   "id": "cf4f3b57",
   "metadata": {},
   "outputs": [],
   "source": [
    "Cs_copy[0] = [[0, 2, False]]"
   ]
  },
  {
   "cell_type": "code",
   "execution_count": 605,
   "id": "c3a79b4e",
   "metadata": {},
   "outputs": [],
   "source": [
    "maps_copy[0][2][0] = 'e'"
   ]
  },
  {
   "cell_type": "code",
   "execution_count": 606,
   "id": "2b12df12",
   "metadata": {},
   "outputs": [
    {
     "data": {
      "text/plain": [
       "[['e', 'k', 'c', 'e'],\n",
       " ['e', 'e', 'd', 'e'],\n",
       " ['e', 'e', 'e', 'e'],\n",
       " ['e', 'e', 'e', 'e']]"
      ]
     },
     "execution_count": 606,
     "metadata": {},
     "output_type": "execute_result"
    }
   ],
   "source": [
    "maps_copy[0]"
   ]
  },
  {
   "cell_type": "code",
   "execution_count": 607,
   "id": "980dc68f",
   "metadata": {},
   "outputs": [],
   "source": [
    "lifo = Lifo()\n",
    "expanded = []"
   ]
  },
  {
   "cell_type": "code",
   "execution_count": 608,
   "id": "966f8a7f",
   "metadata": {},
   "outputs": [],
   "source": [
    "first_node = Node(maps_copy[0], Cs_copy[0], Ks[0], [], 0, [[0, 0, 0]], len(maps_copy[0]), len(maps_copy[0][0]))\n",
    "lifo.put(first_node)\n",
    "#frontier.append(first_node)\n",
    "#index = 0"
   ]
  },
  {
   "cell_type": "code",
   "execution_count": 609,
   "id": "88131d97",
   "metadata": {},
   "outputs": [
    {
     "name": "stdout",
     "output_type": "stream",
     "text": [
      "answer found\n",
      "path cost = 9\n",
      "[[0, 'R'], [1, 'R'], [1, 'R'], [1, 'R'], [0, 'R'], [0, 'R'], [0, 'D'], [0, 'D'], [0, 'D']]\n"
     ]
    }
   ],
   "source": [
    "first_time = time.time()\n",
    "while not lifo.empty():\n",
    "    curr_node = lifo.get()\n",
    "    answer = curr_node.dexpand(lifo, expanded, 9)\n",
    "    if answer != None:\n",
    "        print(\"answer found\")\n",
    "        print(\"path cost =\", answer.path_cost)\n",
    "        print(answer.path)\n",
    "        break\n",
    "last_time = time.time()"
   ]
  },
  {
   "cell_type": "code",
   "execution_count": 610,
   "id": "9deb9a97",
   "metadata": {},
   "outputs": [],
   "source": [
    "bfs_time = last_time - first_time"
   ]
  },
  {
   "cell_type": "code",
   "execution_count": 611,
   "id": "cd20fc52",
   "metadata": {},
   "outputs": [
    {
     "data": {
      "text/plain": [
       "0.0020606517791748047"
      ]
     },
     "execution_count": 611,
     "metadata": {},
     "output_type": "execute_result"
    }
   ],
   "source": [
    "bfs_time"
   ]
  },
  {
   "cell_type": "code",
   "execution_count": 612,
   "id": "bdedfbe8",
   "metadata": {},
   "outputs": [
    {
     "data": {
      "text/plain": [
       "27"
      ]
     },
     "execution_count": 612,
     "metadata": {},
     "output_type": "execute_result"
    }
   ],
   "source": [
    "len(expanded)"
   ]
  },
  {
   "cell_type": "code",
   "execution_count": 613,
   "id": "d48c1645",
   "metadata": {},
   "outputs": [
    {
     "name": "stdout",
     "output_type": "stream",
     "text": [
      "[]\n",
      "[[0, 'R']]\n",
      "[[0, 'R'], [1, 'R']]\n",
      "[[0, 'R'], [1, 'R'], [1, 'R']]\n",
      "[[0, 'R'], [1, 'R'], [1, 'R'], [1, 'R']]\n",
      "[[0, 'R'], [1, 'R'], [1, 'R'], [1, 'R'], [0, 'L']]\n",
      "[[0, 'R'], [1, 'R'], [1, 'R'], [1, 'R'], [0, 'L'], [0, 'D']]\n",
      "[[0, 'R'], [1, 'R'], [1, 'R'], [1, 'R'], [0, 'L'], [0, 'D'], [0, 'R']]\n",
      "[[0, 'R'], [1, 'R'], [1, 'R'], [1, 'R'], [0, 'L'], [0, 'D'], [0, 'R'], [0, 'D']]\n",
      "[[0, 'R'], [1, 'R'], [1, 'R'], [1, 'R'], [0, 'L'], [0, 'D'], [0, 'R'], [0, 'D'], [0, 'L']]\n",
      "[[0, 'R'], [1, 'R'], [1, 'R'], [1, 'R'], [0, 'L'], [0, 'D'], [0, 'R'], [0, 'D'], [0, 'R']]\n",
      "[[0, 'R'], [1, 'R'], [1, 'R'], [1, 'R'], [0, 'L'], [0, 'D'], [0, 'R'], [0, 'D'], [0, 'D']]\n",
      "[[0, 'R'], [1, 'R'], [1, 'R'], [1, 'R'], [0, 'L'], [0, 'D'], [0, 'D']]\n",
      "[[0, 'R'], [1, 'R'], [1, 'R'], [1, 'R'], [0, 'L'], [0, 'D'], [0, 'D'], [0, 'D']]\n",
      "[[0, 'R'], [1, 'R'], [1, 'R'], [1, 'R'], [0, 'R']]\n",
      "[[0, 'R'], [1, 'R'], [1, 'R'], [1, 'R'], [0, 'R'], [0, 'L']]\n",
      "[[0, 'R'], [1, 'R'], [1, 'R'], [1, 'R'], [0, 'R'], [0, 'L'], [0, 'L']]\n",
      "[[0, 'R'], [1, 'R'], [1, 'R'], [1, 'R'], [0, 'R'], [0, 'L'], [0, 'L'], [0, 'D']]\n",
      "[[0, 'R'], [1, 'R'], [1, 'R'], [1, 'R'], [0, 'R'], [0, 'L'], [0, 'L'], [0, 'D'], [0, 'R']]\n",
      "[[0, 'R'], [1, 'R'], [1, 'R'], [1, 'R'], [0, 'R'], [0, 'L'], [0, 'L'], [0, 'D'], [0, 'D']]\n",
      "[[0, 'R'], [1, 'R'], [1, 'R'], [1, 'R'], [0, 'R'], [0, 'L'], [0, 'D']]\n",
      "[[0, 'R'], [1, 'R'], [1, 'R'], [1, 'R'], [0, 'R'], [0, 'L'], [0, 'D'], [0, 'D']]\n",
      "[[0, 'R'], [1, 'R'], [1, 'R'], [1, 'R'], [0, 'R'], [0, 'L'], [0, 'D'], [0, 'D'], [0, 'R']]\n",
      "[[0, 'R'], [1, 'R'], [1, 'R'], [1, 'R'], [0, 'R'], [0, 'L'], [0, 'D'], [0, 'D'], [0, 'D']]\n",
      "[[0, 'R'], [1, 'R'], [1, 'R'], [1, 'R'], [0, 'R'], [0, 'R']]\n",
      "[[0, 'R'], [1, 'R'], [1, 'R'], [1, 'R'], [0, 'R'], [0, 'R'], [0, 'D']]\n",
      "[[0, 'R'], [1, 'R'], [1, 'R'], [1, 'R'], [0, 'R'], [0, 'R'], [0, 'D'], [0, 'D']]\n"
     ]
    }
   ],
   "source": [
    "for e in expanded:\n",
    "    print(e.path)"
   ]
  },
  {
   "cell_type": "markdown",
   "id": "0d7bfa5a",
   "metadata": {},
   "source": [
    "## Test 1"
   ]
  },
  {
   "cell_type": "code",
   "execution_count": 619,
   "id": "9e980366",
   "metadata": {},
   "outputs": [
    {
     "name": "stdout",
     "output_type": "stream",
     "text": [
      "answer found\n",
      "path cost = 14\n",
      "[[0, 'D'], [0, 'R'], [0, 'D'], [0, 'L'], [0, 'R'], [0, 'R'], [0, 'R'], [0, 'U'], [0, 'U'], [0, 'L'], [0, 'R'], [0, 'D'], [0, 'D'], [0, 'D']]\n"
     ]
    }
   ],
   "source": [
    "first_time = time.time() \n",
    "answer = None\n",
    "all_expanded = []\n",
    "limit = 1\n",
    "\n",
    "while answer == None:\n",
    "    lifo = Lifo()\n",
    "    all_expanded.extend(expanded)\n",
    "    expanded = []\n",
    "    lifo.put(Node(maps[0], Cs[0], Ks[0], [], 0, [[0, 0, 0]], len(maps[0]), len(maps[0][0])))\n",
    "    while not lifo.empty():\n",
    "        curr_node = lifo.get()\n",
    "        answer = curr_node.dexpand(lifo, expanded, limit)\n",
    "        if answer != None:\n",
    "            print(\"answer found\")\n",
    "            print(\"path cost =\", answer.path_cost)\n",
    "            print(answer.path)\n",
    "            break\n",
    "    limit += 1\n",
    "last_time = time.time()"
   ]
  },
  {
   "cell_type": "code",
   "execution_count": 620,
   "id": "6a0897fc",
   "metadata": {},
   "outputs": [],
   "source": [
    "bfs_time = last_time - first_time"
   ]
  },
  {
   "cell_type": "code",
   "execution_count": 621,
   "id": "97bc72ab",
   "metadata": {},
   "outputs": [
    {
     "data": {
      "text/plain": [
       "0.08157157897949219"
      ]
     },
     "execution_count": 621,
     "metadata": {},
     "output_type": "execute_result"
    }
   ],
   "source": [
    "bfs_time"
   ]
  },
  {
   "cell_type": "code",
   "execution_count": 622,
   "id": "f474848e",
   "metadata": {},
   "outputs": [
    {
     "data": {
      "text/plain": [
       "1029"
      ]
     },
     "execution_count": 622,
     "metadata": {},
     "output_type": "execute_result"
    }
   ],
   "source": [
    "len(all_expanded)"
   ]
  },
  {
   "cell_type": "code",
   "execution_count": 623,
   "id": "8d6b7290",
   "metadata": {},
   "outputs": [
    {
     "name": "stdout",
     "output_type": "stream",
     "text": [
      "[]\n",
      "[[0, 'R']]\n",
      "[[0, 'R'], [1, 'R']]\n",
      "[[0, 'R'], [1, 'R'], [1, 'R']]\n",
      "[[0, 'R'], [1, 'R'], [1, 'R'], [1, 'R']]\n",
      "[[0, 'R'], [1, 'R'], [1, 'R'], [1, 'R'], [0, 'L']]\n",
      "[[0, 'R'], [1, 'R'], [1, 'R'], [1, 'R'], [0, 'L'], [0, 'D']]\n",
      "[[0, 'R'], [1, 'R'], [1, 'R'], [1, 'R'], [0, 'L'], [0, 'D'], [0, 'R']]\n",
      "[[0, 'R'], [1, 'R'], [1, 'R'], [1, 'R'], [0, 'L'], [0, 'D'], [0, 'R'], [0, 'D']]\n",
      "[[0, 'R'], [1, 'R'], [1, 'R'], [1, 'R'], [0, 'L'], [0, 'D'], [0, 'R'], [0, 'D'], [0, 'L']]\n",
      "[[0, 'R'], [1, 'R'], [1, 'R'], [1, 'R'], [0, 'L'], [0, 'D'], [0, 'R'], [0, 'D'], [0, 'L'], [0, 'R']]\n",
      "[[0, 'R'], [1, 'R'], [1, 'R'], [1, 'R'], [0, 'L'], [0, 'D'], [0, 'R'], [0, 'D'], [0, 'L'], [0, 'R'], [0, 'R']]\n",
      "[[0, 'R'], [1, 'R'], [1, 'R'], [1, 'R'], [0, 'L'], [0, 'D'], [0, 'R'], [0, 'D'], [0, 'L'], [0, 'R'], [0, 'R'], [0, 'R']]\n",
      "[[0, 'R'], [1, 'R'], [1, 'R'], [1, 'R'], [0, 'L'], [0, 'D'], [0, 'R'], [0, 'D'], [0, 'L'], [0, 'R'], [0, 'R'], [0, 'R'], [0, 'U']]\n",
      "[[0, 'R'], [1, 'R'], [1, 'R'], [1, 'R'], [0, 'L'], [0, 'D'], [0, 'R'], [0, 'D'], [0, 'L'], [0, 'R'], [0, 'R'], [0, 'R'], [0, 'U'], [0, 'U']]\n",
      "[[0, 'R'], [1, 'R'], [1, 'R'], [1, 'R'], [0, 'L'], [0, 'D'], [0, 'R'], [0, 'D'], [0, 'L'], [0, 'R'], [0, 'R'], [0, 'R'], [0, 'D']]\n",
      "[[0, 'R'], [1, 'R'], [1, 'R'], [1, 'R'], [0, 'L'], [0, 'D'], [0, 'R'], [0, 'D'], [0, 'L'], [0, 'R'], [0, 'R'], [0, 'D']]\n",
      "[[0, 'R'], [1, 'R'], [1, 'R'], [1, 'R'], [0, 'L'], [0, 'D'], [0, 'R'], [0, 'D'], [0, 'L'], [0, 'R'], [0, 'U']]\n",
      "[[0, 'R'], [1, 'R'], [1, 'R'], [1, 'R'], [0, 'L'], [0, 'D'], [0, 'R'], [0, 'D'], [0, 'L'], [0, 'R'], [0, 'D']]\n",
      "[[0, 'R'], [1, 'R'], [1, 'R'], [1, 'R'], [0, 'L'], [0, 'D'], [0, 'R'], [0, 'D'], [0, 'L'], [0, 'U']]\n",
      "[[0, 'R'], [1, 'R'], [1, 'R'], [1, 'R'], [0, 'L'], [0, 'D'], [0, 'R'], [0, 'D'], [0, 'L'], [0, 'D']]\n",
      "[[0, 'R'], [1, 'R'], [1, 'R'], [1, 'R'], [0, 'L'], [0, 'D'], [0, 'R'], [0, 'D'], [0, 'R']]\n",
      "[[0, 'R'], [1, 'R'], [1, 'R'], [1, 'R'], [0, 'L'], [0, 'D'], [0, 'R'], [0, 'D'], [0, 'R'], [0, 'R']]\n",
      "[[0, 'R'], [1, 'R'], [1, 'R'], [1, 'R'], [0, 'L'], [0, 'D'], [0, 'R'], [0, 'D'], [0, 'R'], [0, 'R'], [0, 'U']]\n",
      "[[0, 'R'], [1, 'R'], [1, 'R'], [1, 'R'], [0, 'L'], [0, 'D'], [0, 'R'], [0, 'D'], [0, 'R'], [0, 'R'], [0, 'U'], [0, 'U']]\n",
      "[[0, 'R'], [1, 'R'], [1, 'R'], [1, 'R'], [0, 'L'], [0, 'D'], [0, 'R'], [0, 'D'], [0, 'R'], [0, 'R'], [0, 'U'], [0, 'U'], [0, 'L']]\n",
      "[[0, 'R'], [1, 'R'], [1, 'R'], [1, 'R'], [0, 'L'], [0, 'D'], [0, 'R'], [0, 'D'], [0, 'R'], [0, 'R'], [0, 'U'], [0, 'U'], [0, 'L'], [0, 'L']]\n",
      "[[0, 'R'], [1, 'R'], [1, 'R'], [1, 'R'], [0, 'L'], [0, 'D'], [0, 'R'], [0, 'D'], [0, 'R'], [0, 'R'], [0, 'U'], [0, 'U'], [0, 'L'], [0, 'R']]\n",
      "[[0, 'R'], [1, 'R'], [1, 'R'], [1, 'R'], [0, 'L'], [0, 'D'], [0, 'R'], [0, 'D'], [0, 'R'], [0, 'R'], [0, 'D']]\n",
      "[[0, 'R'], [1, 'R'], [1, 'R'], [1, 'R'], [0, 'L'], [0, 'D'], [0, 'R'], [0, 'D'], [0, 'R'], [0, 'D']]\n",
      "[[0, 'R'], [1, 'R'], [1, 'R'], [1, 'R'], [0, 'L'], [0, 'D'], [0, 'R'], [0, 'D'], [0, 'D']]\n",
      "[[0, 'R'], [1, 'R'], [1, 'R'], [1, 'R'], [0, 'L'], [0, 'D'], [0, 'D']]\n",
      "[[0, 'R'], [1, 'R'], [1, 'R'], [1, 'R'], [0, 'R']]\n",
      "[[0, 'R'], [1, 'R'], [1, 'R'], [1, 'R'], [0, 'D']]\n",
      "[[0, 'R'], [1, 'R'], [1, 'R'], [1, 'U']]\n",
      "[[0, 'R'], [1, 'R'], [1, 'R'], [0, 'L']]\n",
      "[[0, 'R'], [1, 'R'], [1, 'R'], [0, 'R']]\n",
      "[[0, 'R'], [1, 'R'], [1, 'R'], [0, 'D']]\n",
      "[[0, 'R'], [1, 'R'], [1, 'U']]\n",
      "[[0, 'R'], [1, 'R'], [0, 'L']]\n",
      "[[0, 'R'], [1, 'R'], [0, 'R']]\n",
      "[[0, 'R'], [1, 'R'], [0, 'D']]\n",
      "[[0, 'R'], [1, 'U']]\n",
      "[[0, 'R'], [1, 'U'], [0, 'R']]\n",
      "[[0, 'R'], [1, 'U'], [0, 'R'], [1, 'R']]\n",
      "[[0, 'R'], [1, 'U'], [0, 'R'], [1, 'R'], [1, 'R']]\n",
      "[[0, 'R'], [1, 'U'], [0, 'R'], [1, 'R'], [1, 'R'], [1, 'R']]\n",
      "[[0, 'R'], [1, 'U'], [0, 'R'], [1, 'R'], [1, 'R'], [1, 'R'], [1, 'U']]\n",
      "[[0, 'R'], [1, 'U'], [0, 'R'], [1, 'R'], [1, 'R'], [1, 'R'], [1, 'U'], [1, 'U']]\n",
      "[[0, 'R'], [1, 'U'], [0, 'R'], [1, 'R'], [1, 'R'], [1, 'R'], [1, 'U'], [1, 'U'], [1, 'L']]\n",
      "[[0, 'R'], [1, 'U'], [0, 'R'], [1, 'R'], [1, 'R'], [1, 'R'], [1, 'U'], [1, 'U'], [0, 'L']]\n",
      "[[0, 'R'], [1, 'U'], [0, 'R'], [1, 'R'], [1, 'R'], [1, 'R'], [1, 'U'], [1, 'U'], [0, 'L'], [1, 'D']]\n",
      "[[0, 'R'], [1, 'U'], [0, 'R'], [1, 'R'], [1, 'R'], [1, 'R'], [1, 'U'], [1, 'U'], [0, 'L'], [1, 'D'], [1, 'D']]\n",
      "[[0, 'R'], [1, 'U'], [0, 'R'], [1, 'R'], [1, 'R'], [1, 'R'], [1, 'U'], [1, 'U'], [0, 'L'], [1, 'D'], [1, 'D'], [1, 'L']]\n",
      "[[0, 'R'], [1, 'U'], [0, 'R'], [1, 'R'], [1, 'R'], [1, 'R'], [1, 'U'], [1, 'U'], [0, 'L'], [1, 'D'], [1, 'D'], [1, 'L'], [1, 'L']]\n",
      "[[0, 'R'], [1, 'U'], [0, 'R'], [1, 'R'], [1, 'R'], [1, 'R'], [1, 'U'], [1, 'U'], [0, 'L'], [1, 'D'], [1, 'D'], [1, 'L'], [1, 'L'], [1, 'L']]\n",
      "[[0, 'R'], [1, 'U'], [0, 'R'], [1, 'R'], [1, 'R'], [1, 'R'], [1, 'U'], [1, 'U'], [0, 'L'], [1, 'D'], [1, 'D'], [1, 'L'], [1, 'L'], [1, 'U']]\n",
      "[[0, 'R'], [1, 'U'], [0, 'R'], [1, 'R'], [1, 'R'], [1, 'R'], [1, 'U'], [1, 'U'], [0, 'L'], [1, 'D'], [1, 'D'], [1, 'L'], [1, 'L'], [1, 'D']]\n",
      "[[0, 'R'], [1, 'U'], [0, 'R'], [1, 'R'], [1, 'R'], [1, 'R'], [1, 'U'], [1, 'U'], [0, 'L'], [1, 'D'], [1, 'D'], [1, 'L'], [1, 'L'], [0, 'L']]\n",
      "[[0, 'R'], [1, 'U'], [0, 'R'], [1, 'R'], [1, 'R'], [1, 'R'], [1, 'U'], [1, 'U'], [0, 'L'], [1, 'D'], [1, 'D'], [1, 'L'], [1, 'L'], [0, 'D']]\n",
      "[[0, 'R'], [1, 'U'], [0, 'R'], [1, 'R'], [1, 'R'], [1, 'R'], [1, 'U'], [1, 'U'], [0, 'L'], [1, 'D'], [1, 'D'], [1, 'L'], [1, 'D']]\n",
      "[[0, 'R'], [1, 'U'], [0, 'R'], [1, 'R'], [1, 'R'], [1, 'R'], [1, 'U'], [1, 'U'], [0, 'L'], [1, 'D'], [1, 'D'], [1, 'L'], [1, 'D'], [1, 'R']]\n",
      "[[0, 'R'], [1, 'U'], [0, 'R'], [1, 'R'], [1, 'R'], [1, 'R'], [1, 'U'], [1, 'U'], [0, 'L'], [1, 'D'], [1, 'D'], [1, 'L'], [1, 'D'], [0, 'L']]\n",
      "[[0, 'R'], [1, 'U'], [0, 'R'], [1, 'R'], [1, 'R'], [1, 'R'], [1, 'U'], [1, 'U'], [0, 'L'], [1, 'D'], [1, 'D'], [1, 'L'], [1, 'D'], [0, 'D']]\n",
      "[[0, 'R'], [1, 'U'], [0, 'R'], [1, 'R'], [1, 'R'], [1, 'R'], [1, 'U'], [1, 'U'], [0, 'L'], [1, 'D'], [1, 'D'], [1, 'L'], [0, 'L']]\n",
      "[[0, 'R'], [1, 'U'], [0, 'R'], [1, 'R'], [1, 'R'], [1, 'R'], [1, 'U'], [1, 'U'], [0, 'L'], [1, 'D'], [1, 'D'], [1, 'L'], [0, 'L'], [1, 'R']]\n",
      "[[0, 'R'], [1, 'U'], [0, 'R'], [1, 'R'], [1, 'R'], [1, 'R'], [1, 'U'], [1, 'U'], [0, 'L'], [1, 'D'], [1, 'D'], [1, 'L'], [0, 'L'], [0, 'D']]\n",
      "[[0, 'R'], [1, 'U'], [0, 'R'], [1, 'R'], [1, 'R'], [1, 'R'], [1, 'U'], [1, 'U'], [0, 'L'], [1, 'D'], [1, 'D'], [1, 'L'], [0, 'D']]\n",
      "[[0, 'R'], [1, 'U'], [0, 'R'], [1, 'R'], [1, 'R'], [1, 'R'], [1, 'U'], [1, 'U'], [0, 'L'], [1, 'D'], [1, 'D'], [1, 'L'], [0, 'D'], [1, 'R']]\n",
      "[[0, 'R'], [1, 'U'], [0, 'R'], [1, 'R'], [1, 'R'], [1, 'R'], [1, 'U'], [1, 'U'], [0, 'L'], [1, 'D'], [1, 'D'], [1, 'L'], [0, 'D'], [0, 'D']]\n",
      "[[0, 'R'], [1, 'U'], [0, 'R'], [1, 'R'], [1, 'R'], [1, 'R'], [1, 'U'], [1, 'U'], [0, 'L'], [1, 'D'], [1, 'D'], [1, 'D']]\n",
      "[[0, 'R'], [1, 'U'], [0, 'R'], [1, 'R'], [1, 'R'], [1, 'R'], [1, 'U'], [1, 'U'], [0, 'L'], [1, 'D'], [1, 'D'], [1, 'D'], [0, 'L']]\n",
      "[[0, 'R'], [1, 'U'], [0, 'R'], [1, 'R'], [1, 'R'], [1, 'R'], [1, 'U'], [1, 'U'], [0, 'L'], [1, 'D'], [1, 'D'], [1, 'D'], [0, 'L'], [0, 'D']]\n",
      "[[0, 'R'], [1, 'U'], [0, 'R'], [1, 'R'], [1, 'R'], [1, 'R'], [1, 'U'], [1, 'U'], [0, 'L'], [1, 'D'], [1, 'D'], [1, 'D'], [0, 'D']]\n",
      "[[0, 'R'], [1, 'U'], [0, 'R'], [1, 'R'], [1, 'R'], [1, 'R'], [1, 'U'], [1, 'U'], [0, 'L'], [1, 'D'], [1, 'D'], [1, 'D'], [0, 'D'], [0, 'D']]\n",
      "[[0, 'R'], [1, 'U'], [0, 'R'], [1, 'R'], [1, 'R'], [1, 'R'], [1, 'U'], [1, 'U'], [0, 'L'], [1, 'D'], [1, 'D'], [0, 'L']]\n",
      "[[0, 'R'], [1, 'U'], [0, 'R'], [1, 'R'], [1, 'R'], [1, 'R'], [1, 'U'], [1, 'U'], [0, 'L'], [1, 'D'], [1, 'D'], [0, 'D']]\n",
      "[[0, 'R'], [1, 'U'], [0, 'R'], [1, 'R'], [1, 'R'], [1, 'R'], [1, 'U'], [1, 'U'], [0, 'L'], [1, 'D'], [0, 'L']]\n",
      "[[0, 'R'], [1, 'U'], [0, 'R'], [1, 'R'], [1, 'R'], [1, 'R'], [1, 'U'], [1, 'U'], [0, 'L'], [1, 'D'], [0, 'D']]\n",
      "[[0, 'R'], [1, 'U'], [0, 'R'], [1, 'R'], [1, 'R'], [1, 'R'], [1, 'U'], [1, 'U'], [0, 'L'], [0, 'L']]\n",
      "[[0, 'R'], [1, 'U'], [0, 'R'], [1, 'R'], [1, 'R'], [1, 'R'], [1, 'U'], [1, 'U'], [0, 'L'], [0, 'D']]\n",
      "[[0, 'R'], [1, 'U'], [0, 'R'], [1, 'R'], [1, 'R'], [1, 'R'], [1, 'U'], [1, 'U'], [0, 'R']]\n",
      "[[0, 'R'], [1, 'U'], [0, 'R'], [1, 'R'], [1, 'R'], [1, 'R'], [1, 'U'], [0, 'L']]\n",
      "[[0, 'R'], [1, 'U'], [0, 'R'], [1, 'R'], [1, 'R'], [1, 'R'], [1, 'U'], [0, 'R']]\n",
      "[[0, 'R'], [1, 'U'], [0, 'R'], [1, 'R'], [1, 'R'], [1, 'R'], [1, 'U'], [0, 'R'], [0, 'D']]\n",
      "[[0, 'R'], [1, 'U'], [0, 'R'], [1, 'R'], [1, 'R'], [1, 'R'], [1, 'D']]\n",
      "[[0, 'R'], [1, 'U'], [0, 'R'], [1, 'R'], [1, 'R'], [1, 'R'], [0, 'L']]\n",
      "[[0, 'R'], [1, 'U'], [0, 'R'], [1, 'R'], [1, 'R'], [1, 'R'], [0, 'R']]\n",
      "[[0, 'R'], [1, 'U'], [0, 'R'], [1, 'R'], [1, 'R'], [1, 'D']]\n",
      "[[0, 'R'], [1, 'U'], [0, 'R'], [1, 'R'], [1, 'R'], [0, 'L']]\n",
      "[[0, 'R'], [1, 'U'], [0, 'R'], [1, 'R'], [1, 'R'], [0, 'R']]\n",
      "[[0, 'R'], [1, 'U'], [0, 'R'], [1, 'R'], [1, 'U']]\n",
      "[[0, 'R'], [1, 'U'], [0, 'R'], [1, 'R'], [1, 'D']]\n",
      "[[0, 'R'], [1, 'U'], [0, 'R'], [1, 'R'], [0, 'L']]\n",
      "[[0, 'R'], [1, 'U'], [0, 'R'], [1, 'R'], [0, 'R']]\n",
      "[[0, 'R'], [1, 'U'], [0, 'R'], [1, 'U']]\n",
      "[[0, 'R'], [1, 'U'], [0, 'R'], [1, 'D']]\n",
      "[[0, 'R'], [1, 'U'], [0, 'R'], [0, 'L']]\n",
      "[[0, 'R'], [1, 'U'], [0, 'R'], [0, 'R']]\n",
      "[[0, 'R'], [0, 'L']]\n",
      "[[0, 'R'], [0, 'R']]\n",
      "[[0, 'R'], [0, 'D']]\n",
      "[[0, 'D']]\n",
      "[[0, 'D'], [0, 'R']]\n",
      "[[0, 'D'], [0, 'R'], [0, 'D']]\n",
      "[[0, 'D'], [0, 'R'], [0, 'D'], [0, 'L']]\n",
      "[[0, 'D'], [0, 'R'], [0, 'D'], [0, 'L'], [0, 'R']]\n",
      "[[0, 'D'], [0, 'R'], [0, 'D'], [0, 'L'], [0, 'R'], [0, 'R']]\n",
      "[[0, 'D'], [0, 'R'], [0, 'D'], [0, 'L'], [0, 'R'], [0, 'R'], [0, 'R']]\n",
      "[[0, 'D'], [0, 'R'], [0, 'D'], [0, 'L'], [0, 'R'], [0, 'R'], [0, 'R'], [0, 'U']]\n",
      "[[0, 'D'], [0, 'R'], [0, 'D'], [0, 'L'], [0, 'R'], [0, 'R'], [0, 'R'], [0, 'U'], [0, 'U']]\n",
      "[[0, 'D'], [0, 'R'], [0, 'D'], [0, 'L'], [0, 'R'], [0, 'R'], [0, 'R'], [0, 'U'], [0, 'U'], [0, 'L']]\n",
      "[[0, 'D'], [0, 'R'], [0, 'D'], [0, 'L'], [0, 'R'], [0, 'R'], [0, 'R'], [0, 'U'], [0, 'U'], [0, 'L'], [0, 'R']]\n",
      "[[0, 'D'], [0, 'R'], [0, 'D'], [0, 'L'], [0, 'R'], [0, 'R'], [0, 'R'], [0, 'U'], [0, 'U'], [0, 'L'], [0, 'R'], [0, 'D']]\n",
      "[[0, 'D'], [0, 'R'], [0, 'D'], [0, 'L'], [0, 'R'], [0, 'R'], [0, 'R'], [0, 'U'], [0, 'U'], [0, 'L'], [0, 'R'], [0, 'D'], [0, 'D']]\n",
      "[[0, 'D'], [0, 'R'], [0, 'D'], [0, 'L'], [0, 'R'], [0, 'R'], [0, 'R'], [0, 'U'], [0, 'U'], [0, 'L'], [0, 'R'], [0, 'D'], [0, 'D'], [0, 'L']]\n",
      "[]\n",
      "[[0, 'R']]\n",
      "[[0, 'D']]\n",
      "[]\n",
      "[[0, 'R']]\n",
      "[[0, 'R'], [1, 'R']]\n",
      "[[0, 'R'], [1, 'U']]\n",
      "[[0, 'R'], [0, 'L']]\n",
      "[[0, 'R'], [0, 'R']]\n",
      "[[0, 'R'], [0, 'D']]\n",
      "[[0, 'D']]\n",
      "[[0, 'D'], [0, 'R']]\n",
      "[[0, 'D'], [0, 'D']]\n",
      "[]\n",
      "[[0, 'R']]\n",
      "[[0, 'R'], [1, 'R']]\n",
      "[[0, 'R'], [1, 'R'], [1, 'R']]\n",
      "[[0, 'R'], [1, 'R'], [1, 'U']]\n",
      "[[0, 'R'], [1, 'R'], [0, 'L']]\n",
      "[[0, 'R'], [1, 'R'], [0, 'R']]\n",
      "[[0, 'R'], [1, 'R'], [0, 'D']]\n",
      "[[0, 'R'], [1, 'U']]\n",
      "[[0, 'R'], [1, 'U'], [1, 'R']]\n",
      "[[0, 'R'], [1, 'U'], [1, 'U']]\n",
      "[[0, 'R'], [1, 'U'], [1, 'D']]\n",
      "[[0, 'R'], [1, 'U'], [0, 'L']]\n",
      "[[0, 'R'], [1, 'U'], [0, 'R']]\n",
      "[[0, 'R'], [1, 'U'], [0, 'D']]\n",
      "[[0, 'R'], [0, 'L']]\n",
      "[[0, 'R'], [0, 'L'], [0, 'D']]\n",
      "[[0, 'R'], [0, 'R']]\n",
      "[[0, 'R'], [0, 'R'], [0, 'L']]\n",
      "[[0, 'R'], [0, 'R'], [0, 'R']]\n",
      "[[0, 'R'], [0, 'D']]\n",
      "[[0, 'R'], [0, 'D'], [0, 'D']]\n",
      "[[0, 'D']]\n",
      "[[0, 'D'], [0, 'R']]\n",
      "[[0, 'D'], [0, 'R'], [0, 'D']]\n",
      "[[0, 'D'], [0, 'D']]\n",
      "[[0, 'D'], [0, 'D'], [0, 'R']]\n",
      "[[0, 'D'], [0, 'D'], [0, 'U']]\n",
      "[[0, 'D'], [0, 'D'], [0, 'D']]\n",
      "[]\n",
      "[[0, 'R']]\n",
      "[[0, 'R'], [1, 'R']]\n",
      "[[0, 'R'], [1, 'R'], [1, 'R']]\n",
      "[[0, 'R'], [1, 'R'], [1, 'R'], [1, 'R']]\n",
      "[[0, 'R'], [1, 'R'], [1, 'R'], [1, 'U']]\n",
      "[[0, 'R'], [1, 'R'], [1, 'R'], [0, 'L']]\n",
      "[[0, 'R'], [1, 'R'], [1, 'R'], [0, 'R']]\n",
      "[[0, 'R'], [1, 'R'], [1, 'R'], [0, 'D']]\n",
      "[[0, 'R'], [1, 'R'], [1, 'U']]\n",
      "[[0, 'R'], [1, 'R'], [1, 'U'], [1, 'L']]\n",
      "[[0, 'R'], [1, 'R'], [1, 'U'], [0, 'L']]\n",
      "[[0, 'R'], [1, 'R'], [1, 'U'], [0, 'R']]\n",
      "[[0, 'R'], [1, 'R'], [1, 'U'], [0, 'D']]\n",
      "[[0, 'R'], [1, 'R'], [0, 'L']]\n",
      "[[0, 'R'], [1, 'R'], [0, 'L'], [1, 'L']]\n",
      "[[0, 'R'], [1, 'R'], [0, 'L'], [0, 'D']]\n",
      "[[0, 'R'], [1, 'R'], [0, 'R']]\n",
      "[[0, 'R'], [1, 'R'], [0, 'R'], [1, 'L']]\n",
      "[[0, 'R'], [1, 'R'], [0, 'R'], [0, 'L']]\n",
      "[[0, 'R'], [1, 'R'], [0, 'R'], [0, 'R']]\n",
      "[[0, 'R'], [1, 'R'], [0, 'D']]\n",
      "[[0, 'R'], [1, 'R'], [0, 'D'], [1, 'L']]\n",
      "[[0, 'R'], [1, 'R'], [0, 'D'], [0, 'D']]\n",
      "[[0, 'R'], [1, 'U']]\n",
      "[[0, 'R'], [1, 'U'], [1, 'R']]\n",
      "[[0, 'R'], [1, 'U'], [1, 'R'], [1, 'R']]\n",
      "[[0, 'R'], [1, 'U'], [1, 'R'], [1, 'U']]\n",
      "[[0, 'R'], [1, 'U'], [1, 'R'], [1, 'D']]\n",
      "[[0, 'R'], [1, 'U'], [1, 'R'], [0, 'L']]\n",
      "[[0, 'R'], [1, 'U'], [1, 'R'], [0, 'R']]\n",
      "[[0, 'R'], [1, 'U'], [1, 'R'], [0, 'D']]\n",
      "[[0, 'R'], [1, 'U'], [1, 'U']]\n",
      "[[0, 'R'], [1, 'U'], [1, 'U'], [1, 'U']]\n",
      "[[0, 'R'], [1, 'U'], [1, 'U'], [0, 'L']]\n",
      "[[0, 'R'], [1, 'U'], [1, 'U'], [0, 'R']]\n",
      "[[0, 'R'], [1, 'U'], [1, 'U'], [0, 'D']]\n",
      "[[0, 'R'], [1, 'U'], [1, 'D']]\n",
      "[[0, 'R'], [1, 'U'], [1, 'D'], [0, 'L']]\n",
      "[[0, 'R'], [1, 'U'], [1, 'D'], [0, 'R']]\n",
      "[[0, 'R'], [1, 'U'], [1, 'D'], [0, 'D']]\n",
      "[[0, 'R'], [1, 'U'], [0, 'L']]\n",
      "[[0, 'R'], [1, 'U'], [0, 'L'], [0, 'D']]\n",
      "[[0, 'R'], [1, 'U'], [0, 'R']]\n",
      "[[0, 'R'], [1, 'U'], [0, 'R'], [0, 'L']]\n",
      "[[0, 'R'], [1, 'U'], [0, 'R'], [0, 'R']]\n",
      "[[0, 'R'], [1, 'U'], [0, 'D']]\n",
      "[[0, 'R'], [1, 'U'], [0, 'D'], [0, 'D']]\n",
      "[[0, 'R'], [0, 'L']]\n",
      "[[0, 'R'], [0, 'L'], [0, 'D']]\n",
      "[[0, 'R'], [0, 'L'], [0, 'D'], [0, 'D']]\n",
      "[[0, 'R'], [0, 'R']]\n",
      "[[0, 'R'], [0, 'R'], [0, 'L']]\n",
      "[[0, 'R'], [0, 'R'], [0, 'L'], [0, 'L']]\n",
      "[[0, 'R'], [0, 'R'], [0, 'L'], [0, 'D']]\n",
      "[[0, 'R'], [0, 'R'], [0, 'R']]\n",
      "[[0, 'R'], [0, 'R'], [0, 'R'], [0, 'D']]\n",
      "[[0, 'R'], [0, 'D']]\n",
      "[[0, 'R'], [0, 'D'], [0, 'D']]\n",
      "[[0, 'R'], [0, 'D'], [0, 'D'], [0, 'R']]\n",
      "[[0, 'R'], [0, 'D'], [0, 'D'], [0, 'D']]\n",
      "[[0, 'D']]\n",
      "[[0, 'D'], [0, 'R']]\n",
      "[[0, 'D'], [0, 'R'], [0, 'D']]\n",
      "[[0, 'D'], [0, 'R'], [0, 'D'], [0, 'L']]\n",
      "[[0, 'D'], [0, 'R'], [0, 'D'], [0, 'R']]\n",
      "[[0, 'D'], [0, 'R'], [0, 'D'], [0, 'D']]\n",
      "[[0, 'D'], [0, 'D']]\n",
      "[[0, 'D'], [0, 'D'], [0, 'R']]\n",
      "[[0, 'D'], [0, 'D'], [0, 'R'], [0, 'R']]\n",
      "[[0, 'D'], [0, 'D'], [0, 'R'], [0, 'U']]\n",
      "[[0, 'D'], [0, 'D'], [0, 'R'], [0, 'D']]\n",
      "[[0, 'D'], [0, 'D'], [0, 'U']]\n",
      "[[0, 'D'], [0, 'D'], [0, 'U'], [0, 'U']]\n",
      "[[0, 'D'], [0, 'D'], [0, 'D']]\n",
      "[]\n",
      "[[0, 'R']]\n",
      "[[0, 'R'], [1, 'R']]\n",
      "[[0, 'R'], [1, 'R'], [1, 'R']]\n",
      "[[0, 'R'], [1, 'R'], [1, 'R'], [1, 'R']]\n",
      "[[0, 'R'], [1, 'R'], [1, 'R'], [1, 'R'], [0, 'L']]\n",
      "[[0, 'R'], [1, 'R'], [1, 'R'], [1, 'R'], [0, 'R']]\n",
      "[[0, 'R'], [1, 'R'], [1, 'R'], [1, 'R'], [0, 'D']]\n",
      "[[0, 'R'], [1, 'R'], [1, 'R'], [1, 'U']]\n",
      "[[0, 'R'], [1, 'R'], [1, 'R'], [0, 'L']]\n",
      "[[0, 'R'], [1, 'R'], [1, 'R'], [0, 'L'], [0, 'D']]\n",
      "[[0, 'R'], [1, 'R'], [1, 'R'], [0, 'R']]\n",
      "[[0, 'R'], [1, 'R'], [1, 'R'], [0, 'R'], [0, 'L']]\n",
      "[[0, 'R'], [1, 'R'], [1, 'R'], [0, 'R'], [0, 'R']]\n",
      "[[0, 'R'], [1, 'R'], [1, 'R'], [0, 'D']]\n",
      "[[0, 'R'], [1, 'R'], [1, 'R'], [0, 'D'], [0, 'D']]\n",
      "[[0, 'R'], [1, 'R'], [1, 'U']]\n",
      "[[0, 'R'], [1, 'R'], [1, 'U'], [1, 'L']]\n",
      "[[0, 'R'], [1, 'R'], [1, 'U'], [1, 'L'], [1, 'R']]\n",
      "[[0, 'R'], [1, 'R'], [1, 'U'], [1, 'L'], [1, 'U']]\n",
      "[[0, 'R'], [1, 'R'], [1, 'U'], [1, 'L'], [1, 'D']]\n",
      "[[0, 'R'], [1, 'R'], [1, 'U'], [1, 'L'], [0, 'L']]\n",
      "[[0, 'R'], [1, 'R'], [1, 'U'], [1, 'L'], [0, 'R']]\n",
      "[[0, 'R'], [1, 'R'], [1, 'U'], [1, 'L'], [0, 'D']]\n",
      "[[0, 'R'], [1, 'R'], [0, 'L']]\n",
      "[[0, 'R'], [1, 'R'], [0, 'L'], [0, 'D']]\n",
      "[[0, 'R'], [1, 'R'], [0, 'L'], [0, 'D'], [1, 'L']]\n",
      "[[0, 'R'], [1, 'R'], [0, 'L'], [0, 'D'], [1, 'U']]\n",
      "[[0, 'R'], [1, 'R'], [0, 'L'], [0, 'D'], [0, 'D']]\n",
      "[[0, 'R'], [1, 'R'], [0, 'R']]\n",
      "[[0, 'R'], [1, 'R'], [0, 'R'], [0, 'L']]\n",
      "[[0, 'R'], [1, 'R'], [0, 'R'], [0, 'L'], [1, 'L']]\n",
      "[[0, 'R'], [1, 'R'], [0, 'R'], [0, 'L'], [1, 'U']]\n",
      "[[0, 'R'], [1, 'R'], [0, 'R'], [0, 'L'], [0, 'L']]\n",
      "[[0, 'R'], [1, 'R'], [0, 'R'], [0, 'L'], [0, 'D']]\n",
      "[[0, 'R'], [1, 'R'], [0, 'R'], [0, 'R']]\n",
      "[[0, 'R'], [1, 'R'], [0, 'R'], [0, 'R'], [1, 'L']]\n",
      "[[0, 'R'], [1, 'R'], [0, 'R'], [0, 'R'], [1, 'U']]\n",
      "[[0, 'R'], [1, 'R'], [0, 'R'], [0, 'R'], [0, 'D']]\n",
      "[[0, 'R'], [1, 'R'], [0, 'D']]\n",
      "[[0, 'R'], [1, 'R'], [0, 'D'], [0, 'D']]\n",
      "[[0, 'R'], [1, 'R'], [0, 'D'], [0, 'D'], [1, 'L']]\n",
      "[[0, 'R'], [1, 'R'], [0, 'D'], [0, 'D'], [1, 'U']]\n",
      "[[0, 'R'], [1, 'R'], [0, 'D'], [0, 'D'], [0, 'R']]\n",
      "[[0, 'R'], [1, 'R'], [0, 'D'], [0, 'D'], [0, 'D']]\n",
      "[[0, 'R'], [1, 'U']]\n",
      "[[0, 'R'], [0, 'L']]\n",
      "[[0, 'R'], [0, 'R']]\n",
      "[[0, 'R'], [0, 'D']]\n",
      "[[0, 'D']]\n",
      "[[0, 'D'], [0, 'R']]\n",
      "[[0, 'D'], [0, 'R'], [0, 'D']]\n",
      "[[0, 'D'], [0, 'R'], [0, 'D'], [0, 'L']]\n",
      "[[0, 'D'], [0, 'R'], [0, 'D'], [0, 'L'], [0, 'R']]\n",
      "[[0, 'D'], [0, 'R'], [0, 'D'], [0, 'L'], [0, 'U']]\n",
      "[[0, 'D'], [0, 'R'], [0, 'D'], [0, 'L'], [0, 'D']]\n",
      "[[0, 'D'], [0, 'R'], [0, 'D'], [0, 'R']]\n",
      "[[0, 'D'], [0, 'R'], [0, 'D'], [0, 'R'], [0, 'R']]\n",
      "[[0, 'D'], [0, 'R'], [0, 'D'], [0, 'R'], [0, 'D']]\n",
      "[[0, 'D'], [0, 'R'], [0, 'D'], [0, 'D']]\n",
      "[[0, 'D'], [0, 'R'], [0, 'D'], [0, 'D'], [0, 'L']]\n",
      "[[0, 'D'], [0, 'D']]\n",
      "[]\n",
      "[[0, 'R']]\n",
      "[[0, 'R'], [1, 'R']]\n",
      "[[0, 'R'], [1, 'R'], [1, 'R']]\n",
      "[[0, 'R'], [1, 'R'], [1, 'R'], [1, 'R']]\n",
      "[[0, 'R'], [1, 'R'], [1, 'R'], [1, 'R'], [0, 'L']]\n",
      "[[0, 'R'], [1, 'R'], [1, 'R'], [1, 'R'], [0, 'L'], [0, 'D']]\n",
      "[[0, 'R'], [1, 'R'], [1, 'R'], [1, 'R'], [0, 'R']]\n",
      "[[0, 'R'], [1, 'R'], [1, 'R'], [1, 'R'], [0, 'R'], [0, 'L']]\n",
      "[[0, 'R'], [1, 'R'], [1, 'R'], [1, 'R'], [0, 'R'], [0, 'R']]\n",
      "[[0, 'R'], [1, 'R'], [1, 'R'], [1, 'R'], [0, 'D']]\n",
      "[[0, 'R'], [1, 'R'], [1, 'R'], [1, 'R'], [0, 'D'], [0, 'D']]\n",
      "[[0, 'R'], [1, 'R'], [1, 'R'], [1, 'U']]\n",
      "[[0, 'R'], [1, 'R'], [1, 'R'], [0, 'L']]\n",
      "[[0, 'R'], [1, 'R'], [1, 'R'], [0, 'R']]\n",
      "[[0, 'R'], [1, 'R'], [1, 'R'], [0, 'D']]\n",
      "[[0, 'R'], [1, 'R'], [1, 'U']]\n",
      "[[0, 'R'], [1, 'R'], [1, 'U'], [1, 'L']]\n",
      "[[0, 'R'], [1, 'R'], [1, 'U'], [1, 'L'], [1, 'R']]\n",
      "[[0, 'R'], [1, 'R'], [1, 'U'], [1, 'L'], [1, 'R'], [1, 'R']]\n",
      "[[0, 'R'], [1, 'R'], [1, 'U'], [1, 'L'], [1, 'R'], [1, 'U']]\n",
      "[[0, 'R'], [1, 'R'], [1, 'U'], [1, 'L'], [1, 'R'], [1, 'D']]\n",
      "[[0, 'R'], [1, 'R'], [1, 'U'], [1, 'L'], [1, 'R'], [0, 'L']]\n",
      "[[0, 'R'], [1, 'R'], [1, 'U'], [1, 'L'], [1, 'R'], [0, 'R']]\n",
      "[[0, 'R'], [1, 'R'], [1, 'U'], [1, 'L'], [1, 'R'], [0, 'D']]\n",
      "[[0, 'R'], [1, 'R'], [1, 'U'], [1, 'L'], [1, 'U']]\n",
      "[[0, 'R'], [1, 'R'], [1, 'U'], [1, 'L'], [1, 'U'], [1, 'U']]\n",
      "[[0, 'R'], [1, 'R'], [1, 'U'], [1, 'L'], [1, 'U'], [0, 'L']]\n",
      "[[0, 'R'], [1, 'R'], [1, 'U'], [1, 'L'], [1, 'U'], [0, 'R']]\n",
      "[[0, 'R'], [1, 'R'], [1, 'U'], [1, 'L'], [1, 'U'], [0, 'D']]\n",
      "[[0, 'R'], [1, 'R'], [1, 'U'], [1, 'L'], [1, 'D']]\n",
      "[[0, 'R'], [1, 'R'], [1, 'U'], [1, 'L'], [1, 'D'], [0, 'L']]\n",
      "[[0, 'R'], [1, 'R'], [1, 'U'], [1, 'L'], [1, 'D'], [0, 'R']]\n",
      "[[0, 'R'], [1, 'R'], [1, 'U'], [1, 'L'], [1, 'D'], [0, 'D']]\n",
      "[[0, 'R'], [1, 'R'], [1, 'U'], [1, 'L'], [0, 'L']]\n",
      "[[0, 'R'], [1, 'R'], [1, 'U'], [1, 'L'], [0, 'L'], [0, 'D']]\n",
      "[[0, 'R'], [1, 'R'], [1, 'U'], [1, 'L'], [0, 'R']]\n",
      "[[0, 'R'], [1, 'R'], [1, 'U'], [1, 'L'], [0, 'R'], [0, 'L']]\n",
      "[[0, 'R'], [1, 'R'], [1, 'U'], [1, 'L'], [0, 'R'], [0, 'R']]\n",
      "[[0, 'R'], [1, 'R'], [1, 'U'], [1, 'L'], [0, 'D']]\n",
      "[[0, 'R'], [1, 'R'], [1, 'U'], [1, 'L'], [0, 'D'], [0, 'D']]\n",
      "[[0, 'R'], [1, 'R'], [0, 'L']]\n",
      "[[0, 'R'], [1, 'R'], [0, 'R']]\n",
      "[[0, 'R'], [1, 'R'], [0, 'D']]\n",
      "[[0, 'R'], [1, 'U']]\n",
      "[[0, 'R'], [0, 'L']]\n",
      "[[0, 'R'], [0, 'R']]\n",
      "[[0, 'R'], [0, 'D']]\n",
      "[[0, 'D']]\n",
      "[[0, 'D'], [0, 'R']]\n",
      "[[0, 'D'], [0, 'R'], [0, 'D']]\n",
      "[[0, 'D'], [0, 'R'], [0, 'D'], [0, 'L']]\n",
      "[[0, 'D'], [0, 'R'], [0, 'D'], [0, 'L'], [0, 'R']]\n",
      "[[0, 'D'], [0, 'R'], [0, 'D'], [0, 'L'], [0, 'R'], [0, 'R']]\n",
      "[[0, 'D'], [0, 'R'], [0, 'D'], [0, 'L'], [0, 'R'], [0, 'U']]\n",
      "[[0, 'D'], [0, 'R'], [0, 'D'], [0, 'L'], [0, 'R'], [0, 'D']]\n",
      "[[0, 'D'], [0, 'R'], [0, 'D'], [0, 'L'], [0, 'U']]\n",
      "[[0, 'D'], [0, 'R'], [0, 'D'], [0, 'L'], [0, 'U'], [0, 'U']]\n",
      "[[0, 'D'], [0, 'R'], [0, 'D'], [0, 'L'], [0, 'D']]\n",
      "[[0, 'D'], [0, 'R'], [0, 'D'], [0, 'R']]\n",
      "[[0, 'D'], [0, 'R'], [0, 'D'], [0, 'R'], [0, 'R']]\n",
      "[[0, 'D'], [0, 'R'], [0, 'D'], [0, 'R'], [0, 'R'], [0, 'U']]\n",
      "[[0, 'D'], [0, 'R'], [0, 'D'], [0, 'R'], [0, 'R'], [0, 'D']]\n",
      "[[0, 'D'], [0, 'R'], [0, 'D'], [0, 'R'], [0, 'D']]\n",
      "[[0, 'D'], [0, 'R'], [0, 'D'], [0, 'D']]\n",
      "[[0, 'D'], [0, 'D']]\n",
      "[]\n",
      "[[0, 'R']]\n",
      "[[0, 'R'], [1, 'R']]\n",
      "[[0, 'R'], [1, 'R'], [1, 'R']]\n",
      "[[0, 'R'], [1, 'R'], [1, 'R'], [1, 'R']]\n",
      "[[0, 'R'], [1, 'R'], [1, 'R'], [1, 'R'], [0, 'L']]\n",
      "[[0, 'R'], [1, 'R'], [1, 'R'], [1, 'R'], [0, 'L'], [0, 'D']]\n",
      "[[0, 'R'], [1, 'R'], [1, 'R'], [1, 'R'], [0, 'L'], [0, 'D'], [0, 'R']]\n",
      "[[0, 'R'], [1, 'R'], [1, 'R'], [1, 'R'], [0, 'L'], [0, 'D'], [0, 'D']]\n",
      "[[0, 'R'], [1, 'R'], [1, 'R'], [1, 'R'], [0, 'R']]\n",
      "[[0, 'R'], [1, 'R'], [1, 'R'], [1, 'R'], [0, 'R'], [0, 'L']]\n",
      "[[0, 'R'], [1, 'R'], [1, 'R'], [1, 'R'], [0, 'R'], [0, 'L'], [0, 'L']]\n",
      "[[0, 'R'], [1, 'R'], [1, 'R'], [1, 'R'], [0, 'R'], [0, 'L'], [0, 'D']]\n",
      "[[0, 'R'], [1, 'R'], [1, 'R'], [1, 'R'], [0, 'R'], [0, 'R']]\n",
      "[[0, 'R'], [1, 'R'], [1, 'R'], [1, 'R'], [0, 'R'], [0, 'R'], [0, 'D']]\n",
      "[[0, 'R'], [1, 'R'], [1, 'R'], [1, 'R'], [0, 'D']]\n",
      "[[0, 'R'], [1, 'R'], [1, 'R'], [1, 'R'], [0, 'D'], [0, 'D']]\n",
      "[[0, 'R'], [1, 'R'], [1, 'R'], [1, 'R'], [0, 'D'], [0, 'D'], [0, 'R']]\n",
      "[[0, 'R'], [1, 'R'], [1, 'R'], [1, 'R'], [0, 'D'], [0, 'D'], [0, 'D']]\n",
      "[[0, 'R'], [1, 'R'], [1, 'R'], [1, 'U']]\n",
      "[[0, 'R'], [1, 'R'], [1, 'R'], [0, 'L']]\n",
      "[[0, 'R'], [1, 'R'], [1, 'R'], [0, 'R']]\n",
      "[[0, 'R'], [1, 'R'], [1, 'R'], [0, 'D']]\n",
      "[[0, 'R'], [1, 'R'], [1, 'U']]\n",
      "[[0, 'R'], [1, 'R'], [0, 'L']]\n",
      "[[0, 'R'], [1, 'R'], [0, 'R']]\n",
      "[[0, 'R'], [1, 'R'], [0, 'D']]\n",
      "[[0, 'R'], [1, 'U']]\n",
      "[[0, 'R'], [1, 'U'], [1, 'R']]\n",
      "[[0, 'R'], [1, 'U'], [1, 'R'], [1, 'R']]\n",
      "[[0, 'R'], [1, 'U'], [1, 'R'], [1, 'R'], [1, 'R']]\n",
      "[[0, 'R'], [1, 'U'], [1, 'R'], [1, 'R'], [1, 'R'], [1, 'U']]\n",
      "[[0, 'R'], [1, 'U'], [1, 'R'], [1, 'R'], [1, 'R'], [1, 'U'], [1, 'U']]\n",
      "[[0, 'R'], [1, 'U'], [1, 'R'], [1, 'R'], [1, 'R'], [1, 'U'], [0, 'L']]\n",
      "[[0, 'R'], [1, 'U'], [1, 'R'], [1, 'R'], [1, 'R'], [1, 'U'], [0, 'R']]\n",
      "[[0, 'R'], [1, 'U'], [1, 'R'], [1, 'R'], [1, 'R'], [1, 'U'], [0, 'D']]\n",
      "[[0, 'R'], [1, 'U'], [1, 'R'], [1, 'R'], [1, 'R'], [1, 'D']]\n",
      "[[0, 'R'], [1, 'U'], [1, 'R'], [1, 'R'], [1, 'R'], [1, 'D'], [0, 'L']]\n",
      "[[0, 'R'], [1, 'U'], [1, 'R'], [1, 'R'], [1, 'R'], [1, 'D'], [0, 'R']]\n",
      "[[0, 'R'], [1, 'U'], [1, 'R'], [1, 'R'], [1, 'R'], [1, 'D'], [0, 'D']]\n",
      "[[0, 'R'], [1, 'U'], [1, 'R'], [1, 'R'], [1, 'R'], [0, 'L']]\n",
      "[[0, 'R'], [1, 'U'], [1, 'R'], [1, 'R'], [1, 'R'], [0, 'L'], [0, 'D']]\n",
      "[[0, 'R'], [1, 'U'], [1, 'R'], [1, 'R'], [1, 'R'], [0, 'R']]\n",
      "[[0, 'R'], [1, 'U'], [1, 'R'], [1, 'R'], [1, 'R'], [0, 'R'], [0, 'L']]\n",
      "[[0, 'R'], [1, 'U'], [1, 'R'], [1, 'R'], [1, 'R'], [0, 'R'], [0, 'R']]\n",
      "[[0, 'R'], [1, 'U'], [1, 'R'], [1, 'R'], [1, 'R'], [0, 'D']]\n",
      "[[0, 'R'], [1, 'U'], [1, 'R'], [1, 'R'], [1, 'R'], [0, 'D'], [0, 'D']]\n",
      "[[0, 'R'], [1, 'U'], [1, 'R'], [1, 'R'], [1, 'D']]\n",
      "[[0, 'R'], [1, 'U'], [1, 'R'], [1, 'R'], [0, 'L']]\n",
      "[[0, 'R'], [1, 'U'], [1, 'R'], [1, 'R'], [0, 'L'], [0, 'D']]\n",
      "[[0, 'R'], [1, 'U'], [1, 'R'], [1, 'R'], [0, 'L'], [0, 'D'], [1, 'L']]\n",
      "[[0, 'R'], [1, 'U'], [1, 'R'], [1, 'R'], [0, 'L'], [0, 'D'], [1, 'D']]\n",
      "[[0, 'R'], [1, 'U'], [1, 'R'], [1, 'R'], [0, 'R']]\n",
      "[[0, 'R'], [1, 'U'], [1, 'R'], [1, 'R'], [0, 'R'], [0, 'L']]\n",
      "[[0, 'R'], [1, 'U'], [1, 'R'], [1, 'R'], [0, 'R'], [0, 'L'], [1, 'L']]\n",
      "[[0, 'R'], [1, 'U'], [1, 'R'], [1, 'R'], [0, 'R'], [0, 'L'], [1, 'D']]\n",
      "[[0, 'R'], [1, 'U'], [1, 'R'], [1, 'R'], [0, 'R'], [0, 'L'], [0, 'L']]\n",
      "[[0, 'R'], [1, 'U'], [1, 'R'], [1, 'R'], [0, 'R'], [0, 'L'], [0, 'D']]\n",
      "[[0, 'R'], [1, 'U'], [1, 'R'], [1, 'R'], [0, 'R'], [0, 'R']]\n",
      "[[0, 'R'], [1, 'U'], [1, 'R'], [1, 'R'], [0, 'R'], [0, 'R'], [1, 'L']]\n",
      "[[0, 'R'], [1, 'U'], [1, 'R'], [1, 'R'], [0, 'R'], [0, 'R'], [1, 'D']]\n",
      "[[0, 'R'], [1, 'U'], [1, 'R'], [1, 'R'], [0, 'R'], [0, 'R'], [0, 'D']]\n",
      "[[0, 'R'], [1, 'U'], [1, 'R'], [1, 'R'], [0, 'D']]\n",
      "[[0, 'R'], [1, 'U'], [1, 'R'], [1, 'R'], [0, 'D'], [0, 'D']]\n",
      "[[0, 'R'], [1, 'U'], [1, 'R'], [1, 'R'], [0, 'D'], [0, 'D'], [1, 'L']]\n",
      "[[0, 'R'], [1, 'U'], [1, 'R'], [1, 'R'], [0, 'D'], [0, 'D'], [1, 'D']]\n",
      "[[0, 'R'], [1, 'U'], [1, 'R'], [1, 'R'], [0, 'D'], [0, 'D'], [0, 'R']]\n",
      "[[0, 'R'], [1, 'U'], [1, 'R'], [1, 'R'], [0, 'D'], [0, 'D'], [0, 'D']]\n",
      "[[0, 'R'], [1, 'U'], [1, 'R'], [1, 'U']]\n",
      "[[0, 'R'], [1, 'U'], [1, 'R'], [1, 'D']]\n",
      "[[0, 'R'], [1, 'U'], [1, 'R'], [0, 'L']]\n",
      "[[0, 'R'], [1, 'U'], [1, 'R'], [0, 'R']]\n",
      "[[0, 'R'], [1, 'U'], [1, 'R'], [0, 'D']]\n",
      "[[0, 'R'], [1, 'U'], [1, 'U']]\n",
      "[[0, 'R'], [1, 'U'], [1, 'D']]\n",
      "[[0, 'R'], [1, 'U'], [0, 'R']]\n",
      "[[0, 'R'], [1, 'U'], [0, 'R'], [0, 'L']]\n",
      "[[0, 'R'], [1, 'U'], [0, 'R'], [0, 'L'], [1, 'U']]\n",
      "[[0, 'R'], [1, 'U'], [0, 'R'], [0, 'L'], [1, 'U'], [1, 'R']]\n",
      "[[0, 'R'], [1, 'U'], [0, 'R'], [0, 'L'], [1, 'U'], [1, 'R'], [1, 'U']]\n",
      "[[0, 'R'], [1, 'U'], [0, 'R'], [0, 'L'], [1, 'U'], [1, 'R'], [0, 'L']]\n",
      "[[0, 'R'], [1, 'U'], [0, 'R'], [0, 'L'], [1, 'U'], [1, 'R'], [0, 'D']]\n",
      "[[0, 'R'], [1, 'U'], [0, 'R'], [0, 'L'], [1, 'U'], [1, 'U']]\n",
      "[[0, 'R'], [1, 'U'], [0, 'R'], [0, 'L'], [1, 'U'], [1, 'U'], [0, 'L']]\n",
      "[[0, 'R'], [1, 'U'], [0, 'R'], [0, 'L'], [1, 'U'], [0, 'L']]\n",
      "[[0, 'R'], [1, 'U'], [0, 'R'], [0, 'L'], [1, 'U'], [0, 'L'], [0, 'D']]\n",
      "[[0, 'R'], [1, 'U'], [0, 'R'], [0, 'L'], [1, 'U'], [0, 'D']]\n",
      "[[0, 'R'], [1, 'U'], [0, 'R'], [0, 'L'], [1, 'D']]\n",
      "[[0, 'R'], [1, 'U'], [0, 'R'], [0, 'L'], [0, 'L']]\n",
      "[[0, 'R'], [1, 'U'], [0, 'R'], [0, 'L'], [0, 'D']]\n",
      "[[0, 'R'], [1, 'U'], [0, 'R'], [0, 'L'], [0, 'D'], [0, 'D']]\n",
      "[[0, 'R'], [1, 'U'], [0, 'R'], [0, 'L'], [0, 'D'], [0, 'D'], [1, 'R']]\n",
      "[[0, 'R'], [1, 'U'], [0, 'R'], [0, 'L'], [0, 'D'], [0, 'D'], [1, 'D']]\n",
      "[[0, 'R'], [1, 'U'], [0, 'R'], [0, 'L'], [0, 'D'], [0, 'D'], [0, 'L']]\n",
      "[[0, 'R'], [1, 'U'], [0, 'R'], [0, 'L'], [0, 'D'], [0, 'D'], [0, 'R']]\n",
      "[[0, 'R'], [1, 'U'], [0, 'R'], [0, 'L'], [0, 'D'], [0, 'D'], [0, 'D']]\n",
      "[[0, 'R'], [1, 'U'], [0, 'R'], [0, 'R']]\n",
      "[[0, 'R'], [1, 'U'], [0, 'R'], [0, 'R'], [1, 'D']]\n",
      "[[0, 'R'], [1, 'U'], [0, 'R'], [0, 'R'], [1, 'D'], [1, 'R']]\n",
      "[[0, 'R'], [1, 'U'], [0, 'R'], [0, 'R'], [1, 'D'], [1, 'R'], [0, 'D']]\n",
      "[[0, 'R'], [1, 'U'], [0, 'R'], [0, 'R'], [1, 'D'], [0, 'D']]\n",
      "[[0, 'R'], [1, 'U'], [0, 'R'], [0, 'R'], [1, 'D'], [0, 'D'], [0, 'D']]\n",
      "[[0, 'R'], [0, 'L']]\n",
      "[[0, 'R'], [0, 'R']]\n",
      "[[0, 'R'], [0, 'D']]\n",
      "[[0, 'D']]\n",
      "[[0, 'D'], [0, 'R']]\n",
      "[[0, 'D'], [0, 'R'], [0, 'D']]\n",
      "[[0, 'D'], [0, 'R'], [0, 'D'], [0, 'L']]\n",
      "[[0, 'D'], [0, 'R'], [0, 'D'], [0, 'L'], [0, 'R']]\n",
      "[[0, 'D'], [0, 'R'], [0, 'D'], [0, 'L'], [0, 'R'], [0, 'R']]\n",
      "[[0, 'D'], [0, 'R'], [0, 'D'], [0, 'L'], [0, 'R'], [0, 'R'], [0, 'R']]\n",
      "[[0, 'D'], [0, 'R'], [0, 'D'], [0, 'L'], [0, 'R'], [0, 'R'], [0, 'D']]\n",
      "[[0, 'D'], [0, 'R'], [0, 'D'], [0, 'L'], [0, 'R'], [0, 'U']]\n",
      "[[0, 'D'], [0, 'R'], [0, 'D'], [0, 'L'], [0, 'R'], [0, 'U'], [0, 'L']]\n",
      "[[0, 'D'], [0, 'R'], [0, 'D'], [0, 'L'], [0, 'R'], [0, 'D']]\n",
      "[[0, 'D'], [0, 'R'], [0, 'D'], [0, 'L'], [0, 'R'], [0, 'D'], [0, 'L']]\n",
      "[[0, 'D'], [0, 'R'], [0, 'D'], [0, 'L'], [0, 'U']]\n",
      "[[0, 'D'], [0, 'R'], [0, 'D'], [0, 'L'], [0, 'U'], [0, 'U']]\n",
      "[[0, 'D'], [0, 'R'], [0, 'D'], [0, 'L'], [0, 'D']]\n",
      "[[0, 'D'], [0, 'R'], [0, 'D'], [0, 'R']]\n",
      "[[0, 'D'], [0, 'R'], [0, 'D'], [0, 'R'], [0, 'R']]\n",
      "[[0, 'D'], [0, 'R'], [0, 'D'], [0, 'R'], [0, 'R'], [0, 'U']]\n",
      "[[0, 'D'], [0, 'R'], [0, 'D'], [0, 'R'], [0, 'R'], [0, 'U'], [0, 'U']]\n",
      "[[0, 'D'], [0, 'R'], [0, 'D'], [0, 'R'], [0, 'R'], [0, 'D']]\n",
      "[[0, 'D'], [0, 'R'], [0, 'D'], [0, 'R'], [0, 'D']]\n",
      "[[0, 'D'], [0, 'R'], [0, 'D'], [0, 'D']]\n",
      "[[0, 'D'], [0, 'D']]\n",
      "[]\n",
      "[[0, 'R']]\n",
      "[[0, 'R'], [1, 'R']]\n",
      "[[0, 'R'], [1, 'R'], [1, 'R']]\n",
      "[[0, 'R'], [1, 'R'], [1, 'R'], [1, 'R']]\n",
      "[[0, 'R'], [1, 'R'], [1, 'R'], [1, 'R'], [0, 'L']]\n",
      "[[0, 'R'], [1, 'R'], [1, 'R'], [1, 'R'], [0, 'L'], [0, 'D']]\n",
      "[[0, 'R'], [1, 'R'], [1, 'R'], [1, 'R'], [0, 'L'], [0, 'D'], [0, 'R']]\n",
      "[[0, 'R'], [1, 'R'], [1, 'R'], [1, 'R'], [0, 'L'], [0, 'D'], [0, 'R'], [0, 'D']]\n",
      "[[0, 'R'], [1, 'R'], [1, 'R'], [1, 'R'], [0, 'L'], [0, 'D'], [0, 'D']]\n",
      "[[0, 'R'], [1, 'R'], [1, 'R'], [1, 'R'], [0, 'L'], [0, 'D'], [0, 'D'], [0, 'R']]\n",
      "[[0, 'R'], [1, 'R'], [1, 'R'], [1, 'R'], [0, 'L'], [0, 'D'], [0, 'D'], [0, 'U']]\n",
      "[[0, 'R'], [1, 'R'], [1, 'R'], [1, 'R'], [0, 'L'], [0, 'D'], [0, 'D'], [0, 'D']]\n",
      "[[0, 'R'], [1, 'R'], [1, 'R'], [1, 'R'], [0, 'R']]\n",
      "[[0, 'R'], [1, 'R'], [1, 'R'], [1, 'R'], [0, 'R'], [0, 'L']]\n",
      "[[0, 'R'], [1, 'R'], [1, 'R'], [1, 'R'], [0, 'R'], [0, 'L'], [0, 'L']]\n",
      "[[0, 'R'], [1, 'R'], [1, 'R'], [1, 'R'], [0, 'R'], [0, 'L'], [0, 'L'], [0, 'D']]\n",
      "[[0, 'R'], [1, 'R'], [1, 'R'], [1, 'R'], [0, 'R'], [0, 'L'], [0, 'D']]\n",
      "[[0, 'R'], [1, 'R'], [1, 'R'], [1, 'R'], [0, 'R'], [0, 'L'], [0, 'D'], [0, 'D']]\n",
      "[[0, 'R'], [1, 'R'], [1, 'R'], [1, 'R'], [0, 'R'], [0, 'R']]\n",
      "[[0, 'R'], [1, 'R'], [1, 'R'], [1, 'R'], [0, 'R'], [0, 'R'], [0, 'D']]\n",
      "[[0, 'R'], [1, 'R'], [1, 'R'], [1, 'R'], [0, 'R'], [0, 'R'], [0, 'D'], [0, 'D']]\n",
      "[[0, 'R'], [1, 'R'], [1, 'R'], [1, 'R'], [0, 'D']]\n",
      "[[0, 'R'], [1, 'R'], [1, 'R'], [1, 'U']]\n",
      "[[0, 'R'], [1, 'R'], [1, 'R'], [0, 'L']]\n",
      "[[0, 'R'], [1, 'R'], [1, 'R'], [0, 'R']]\n",
      "[[0, 'R'], [1, 'R'], [1, 'R'], [0, 'D']]\n",
      "[[0, 'R'], [1, 'R'], [1, 'U']]\n",
      "[[0, 'R'], [1, 'R'], [0, 'L']]\n",
      "[[0, 'R'], [1, 'R'], [0, 'R']]\n",
      "[[0, 'R'], [1, 'R'], [0, 'D']]\n",
      "[[0, 'R'], [1, 'U']]\n",
      "[[0, 'R'], [1, 'U'], [0, 'R']]\n",
      "[[0, 'R'], [1, 'U'], [0, 'R'], [1, 'R']]\n",
      "[[0, 'R'], [1, 'U'], [0, 'R'], [1, 'R'], [1, 'R']]\n",
      "[[0, 'R'], [1, 'U'], [0, 'R'], [1, 'R'], [1, 'R'], [1, 'R']]\n",
      "[[0, 'R'], [1, 'U'], [0, 'R'], [1, 'R'], [1, 'R'], [1, 'R'], [1, 'U']]\n",
      "[[0, 'R'], [1, 'U'], [0, 'R'], [1, 'R'], [1, 'R'], [1, 'R'], [1, 'U'], [1, 'U']]\n",
      "[[0, 'R'], [1, 'U'], [0, 'R'], [1, 'R'], [1, 'R'], [1, 'R'], [1, 'U'], [0, 'L']]\n",
      "[[0, 'R'], [1, 'U'], [0, 'R'], [1, 'R'], [1, 'R'], [1, 'R'], [1, 'U'], [0, 'R']]\n",
      "[[0, 'R'], [1, 'U'], [0, 'R'], [1, 'R'], [1, 'R'], [1, 'R'], [1, 'D']]\n",
      "[[0, 'R'], [1, 'U'], [0, 'R'], [1, 'R'], [1, 'R'], [1, 'R'], [1, 'D'], [0, 'L']]\n",
      "[[0, 'R'], [1, 'U'], [0, 'R'], [1, 'R'], [1, 'R'], [1, 'R'], [1, 'D'], [0, 'R']]\n",
      "[[0, 'R'], [1, 'U'], [0, 'R'], [1, 'R'], [1, 'R'], [1, 'R'], [0, 'L']]\n",
      "[[0, 'R'], [1, 'U'], [0, 'R'], [1, 'R'], [1, 'R'], [1, 'R'], [0, 'L'], [0, 'L']]\n",
      "[[0, 'R'], [1, 'U'], [0, 'R'], [1, 'R'], [1, 'R'], [1, 'R'], [0, 'L'], [0, 'D']]\n",
      "[[0, 'R'], [1, 'U'], [0, 'R'], [1, 'R'], [1, 'R'], [1, 'R'], [0, 'R']]\n",
      "[[0, 'R'], [1, 'U'], [0, 'R'], [1, 'R'], [1, 'R'], [1, 'R'], [0, 'R'], [0, 'D']]\n",
      "[[0, 'R'], [1, 'U'], [0, 'R'], [1, 'R'], [1, 'R'], [1, 'D']]\n",
      "[[0, 'R'], [1, 'U'], [0, 'R'], [1, 'R'], [1, 'R'], [0, 'L']]\n",
      "[[0, 'R'], [1, 'U'], [0, 'R'], [1, 'R'], [1, 'R'], [0, 'L'], [0, 'L']]\n",
      "[[0, 'R'], [1, 'U'], [0, 'R'], [1, 'R'], [1, 'R'], [0, 'L'], [0, 'L'], [1, 'L']]\n",
      "[[0, 'R'], [1, 'U'], [0, 'R'], [1, 'R'], [1, 'R'], [0, 'L'], [0, 'L'], [1, 'D']]\n",
      "[[0, 'R'], [1, 'U'], [0, 'R'], [1, 'R'], [1, 'R'], [0, 'L'], [0, 'L'], [0, 'D']]\n",
      "[[0, 'R'], [1, 'U'], [0, 'R'], [1, 'R'], [1, 'R'], [0, 'L'], [0, 'D']]\n",
      "[[0, 'R'], [1, 'U'], [0, 'R'], [1, 'R'], [1, 'R'], [0, 'L'], [0, 'D'], [1, 'L']]\n",
      "[[0, 'R'], [1, 'U'], [0, 'R'], [1, 'R'], [1, 'R'], [0, 'L'], [0, 'D'], [1, 'D']]\n",
      "[[0, 'R'], [1, 'U'], [0, 'R'], [1, 'R'], [1, 'R'], [0, 'L'], [0, 'D'], [0, 'D']]\n",
      "[[0, 'R'], [1, 'U'], [0, 'R'], [1, 'R'], [1, 'R'], [0, 'R']]\n",
      "[[0, 'R'], [1, 'U'], [0, 'R'], [1, 'R'], [1, 'R'], [0, 'R'], [0, 'D']]\n",
      "[[0, 'R'], [1, 'U'], [0, 'R'], [1, 'R'], [1, 'R'], [0, 'R'], [0, 'D'], [1, 'L']]\n",
      "[[0, 'R'], [1, 'U'], [0, 'R'], [1, 'R'], [1, 'R'], [0, 'R'], [0, 'D'], [1, 'D']]\n",
      "[[0, 'R'], [1, 'U'], [0, 'R'], [1, 'R'], [1, 'R'], [0, 'R'], [0, 'D'], [0, 'D']]\n",
      "[[0, 'R'], [1, 'U'], [0, 'R'], [1, 'R'], [1, 'U']]\n",
      "[[0, 'R'], [1, 'U'], [0, 'R'], [1, 'R'], [1, 'D']]\n",
      "[[0, 'R'], [1, 'U'], [0, 'R'], [1, 'R'], [0, 'L']]\n",
      "[[0, 'R'], [1, 'U'], [0, 'R'], [1, 'R'], [0, 'R']]\n",
      "[[0, 'R'], [1, 'U'], [0, 'R'], [1, 'U']]\n",
      "[[0, 'R'], [1, 'U'], [0, 'R'], [1, 'D']]\n",
      "[[0, 'R'], [1, 'U'], [0, 'R'], [0, 'L']]\n",
      "[[0, 'R'], [1, 'U'], [0, 'R'], [0, 'L'], [0, 'L']]\n",
      "[[0, 'R'], [1, 'U'], [0, 'R'], [0, 'L'], [0, 'L'], [1, 'U']]\n",
      "[[0, 'R'], [1, 'U'], [0, 'R'], [0, 'L'], [0, 'L'], [1, 'U'], [1, 'R']]\n",
      "[[0, 'R'], [1, 'U'], [0, 'R'], [0, 'L'], [0, 'L'], [1, 'U'], [1, 'R'], [0, 'D']]\n",
      "[[0, 'R'], [1, 'U'], [0, 'R'], [0, 'L'], [0, 'L'], [1, 'U'], [1, 'U']]\n",
      "[[0, 'R'], [1, 'U'], [0, 'R'], [0, 'L'], [0, 'L'], [1, 'U'], [0, 'D']]\n",
      "[[0, 'R'], [1, 'U'], [0, 'R'], [0, 'L'], [0, 'L'], [1, 'D']]\n",
      "[[0, 'R'], [1, 'U'], [0, 'R'], [0, 'L'], [0, 'L'], [0, 'D']]\n",
      "[[0, 'R'], [1, 'U'], [0, 'R'], [0, 'L'], [0, 'L'], [0, 'D'], [0, 'R']]\n",
      "[[0, 'R'], [1, 'U'], [0, 'R'], [0, 'L'], [0, 'L'], [0, 'D'], [0, 'R'], [1, 'D']]\n",
      "[[0, 'R'], [1, 'U'], [0, 'R'], [0, 'L'], [0, 'L'], [0, 'D'], [0, 'R'], [0, 'D']]\n",
      "[[0, 'R'], [1, 'U'], [0, 'R'], [0, 'L'], [0, 'L'], [0, 'D'], [0, 'D']]\n",
      "[[0, 'R'], [1, 'U'], [0, 'R'], [0, 'L'], [0, 'D']]\n",
      "[[0, 'R'], [1, 'U'], [0, 'R'], [0, 'R']]\n",
      "[[0, 'R'], [0, 'L']]\n",
      "[[0, 'R'], [0, 'R']]\n",
      "[[0, 'R'], [0, 'D']]\n",
      "[[0, 'D']]\n",
      "[[0, 'D'], [0, 'R']]\n",
      "[[0, 'D'], [0, 'R'], [0, 'D']]\n",
      "[[0, 'D'], [0, 'R'], [0, 'D'], [0, 'L']]\n",
      "[[0, 'D'], [0, 'R'], [0, 'D'], [0, 'L'], [0, 'R']]\n",
      "[[0, 'D'], [0, 'R'], [0, 'D'], [0, 'L'], [0, 'R'], [0, 'R']]\n",
      "[[0, 'D'], [0, 'R'], [0, 'D'], [0, 'L'], [0, 'R'], [0, 'R'], [0, 'R']]\n",
      "[[0, 'D'], [0, 'R'], [0, 'D'], [0, 'L'], [0, 'R'], [0, 'R'], [0, 'R'], [0, 'U']]\n",
      "[[0, 'D'], [0, 'R'], [0, 'D'], [0, 'L'], [0, 'R'], [0, 'R'], [0, 'R'], [0, 'D']]\n",
      "[[0, 'D'], [0, 'R'], [0, 'D'], [0, 'L'], [0, 'R'], [0, 'R'], [0, 'D']]\n",
      "[[0, 'D'], [0, 'R'], [0, 'D'], [0, 'L'], [0, 'R'], [0, 'U']]\n",
      "[[0, 'D'], [0, 'R'], [0, 'D'], [0, 'L'], [0, 'R'], [0, 'D']]\n",
      "[[0, 'D'], [0, 'R'], [0, 'D'], [0, 'L'], [0, 'U']]\n",
      "[[0, 'D'], [0, 'R'], [0, 'D'], [0, 'L'], [0, 'D']]\n",
      "[[0, 'D'], [0, 'R'], [0, 'D'], [0, 'R']]\n",
      "[[0, 'D'], [0, 'R'], [0, 'D'], [0, 'R'], [0, 'R']]\n",
      "[[0, 'D'], [0, 'R'], [0, 'D'], [0, 'R'], [0, 'R'], [0, 'U']]\n",
      "[[0, 'D'], [0, 'R'], [0, 'D'], [0, 'R'], [0, 'R'], [0, 'U'], [0, 'U']]\n",
      "[[0, 'D'], [0, 'R'], [0, 'D'], [0, 'R'], [0, 'R'], [0, 'U'], [0, 'U'], [0, 'L']]\n",
      "[[0, 'D'], [0, 'R'], [0, 'D'], [0, 'R'], [0, 'R'], [0, 'D']]\n",
      "[[0, 'D'], [0, 'R'], [0, 'D'], [0, 'R'], [0, 'D']]\n",
      "[[0, 'D'], [0, 'R'], [0, 'D'], [0, 'D']]\n",
      "[[0, 'D'], [0, 'D']]\n",
      "[]\n",
      "[[0, 'R']]\n",
      "[[0, 'R'], [1, 'R']]\n",
      "[[0, 'R'], [1, 'R'], [1, 'R']]\n",
      "[[0, 'R'], [1, 'R'], [1, 'R'], [1, 'R']]\n",
      "[[0, 'R'], [1, 'R'], [1, 'R'], [1, 'R'], [0, 'L']]\n",
      "[[0, 'R'], [1, 'R'], [1, 'R'], [1, 'R'], [0, 'L'], [0, 'D']]\n",
      "[[0, 'R'], [1, 'R'], [1, 'R'], [1, 'R'], [0, 'L'], [0, 'D'], [0, 'R']]\n",
      "[[0, 'R'], [1, 'R'], [1, 'R'], [1, 'R'], [0, 'L'], [0, 'D'], [0, 'R'], [0, 'D']]\n",
      "[[0, 'R'], [1, 'R'], [1, 'R'], [1, 'R'], [0, 'L'], [0, 'D'], [0, 'R'], [0, 'D'], [0, 'L']]\n",
      "[[0, 'R'], [1, 'R'], [1, 'R'], [1, 'R'], [0, 'L'], [0, 'D'], [0, 'R'], [0, 'D'], [0, 'R']]\n",
      "[[0, 'R'], [1, 'R'], [1, 'R'], [1, 'R'], [0, 'L'], [0, 'D'], [0, 'R'], [0, 'D'], [0, 'D']]\n",
      "[[0, 'R'], [1, 'R'], [1, 'R'], [1, 'R'], [0, 'L'], [0, 'D'], [0, 'D']]\n",
      "[[0, 'R'], [1, 'R'], [1, 'R'], [1, 'R'], [0, 'L'], [0, 'D'], [0, 'D'], [0, 'R']]\n",
      "[[0, 'R'], [1, 'R'], [1, 'R'], [1, 'R'], [0, 'L'], [0, 'D'], [0, 'D'], [0, 'R'], [0, 'R']]\n",
      "[[0, 'R'], [1, 'R'], [1, 'R'], [1, 'R'], [0, 'L'], [0, 'D'], [0, 'D'], [0, 'R'], [0, 'U']]\n",
      "[[0, 'R'], [1, 'R'], [1, 'R'], [1, 'R'], [0, 'L'], [0, 'D'], [0, 'D'], [0, 'R'], [0, 'D']]\n",
      "[[0, 'R'], [1, 'R'], [1, 'R'], [1, 'R'], [0, 'L'], [0, 'D'], [0, 'D'], [0, 'U']]\n",
      "[[0, 'R'], [1, 'R'], [1, 'R'], [1, 'R'], [0, 'L'], [0, 'D'], [0, 'D'], [0, 'U'], [0, 'U']]\n",
      "[[0, 'R'], [1, 'R'], [1, 'R'], [1, 'R'], [0, 'L'], [0, 'D'], [0, 'D'], [0, 'D']]\n",
      "[[0, 'R'], [1, 'R'], [1, 'R'], [1, 'R'], [0, 'R']]\n",
      "[[0, 'R'], [1, 'R'], [1, 'R'], [1, 'R'], [0, 'R'], [0, 'L']]\n",
      "[[0, 'R'], [1, 'R'], [1, 'R'], [1, 'R'], [0, 'R'], [0, 'L'], [0, 'L']]\n",
      "[[0, 'R'], [1, 'R'], [1, 'R'], [1, 'R'], [0, 'R'], [0, 'L'], [0, 'L'], [0, 'D']]\n",
      "[[0, 'R'], [1, 'R'], [1, 'R'], [1, 'R'], [0, 'R'], [0, 'L'], [0, 'L'], [0, 'D'], [0, 'R']]\n",
      "[[0, 'R'], [1, 'R'], [1, 'R'], [1, 'R'], [0, 'R'], [0, 'L'], [0, 'L'], [0, 'D'], [0, 'D']]\n",
      "[[0, 'R'], [1, 'R'], [1, 'R'], [1, 'R'], [0, 'R'], [0, 'L'], [0, 'D']]\n",
      "[[0, 'R'], [1, 'R'], [1, 'R'], [1, 'R'], [0, 'R'], [0, 'L'], [0, 'D'], [0, 'D']]\n",
      "[[0, 'R'], [1, 'R'], [1, 'R'], [1, 'R'], [0, 'R'], [0, 'L'], [0, 'D'], [0, 'D'], [0, 'R']]\n",
      "[[0, 'R'], [1, 'R'], [1, 'R'], [1, 'R'], [0, 'R'], [0, 'L'], [0, 'D'], [0, 'D'], [0, 'D']]\n",
      "[[0, 'R'], [1, 'R'], [1, 'R'], [1, 'R'], [0, 'R'], [0, 'R']]\n",
      "[[0, 'R'], [1, 'R'], [1, 'R'], [1, 'R'], [0, 'R'], [0, 'R'], [0, 'D']]\n",
      "[[0, 'R'], [1, 'R'], [1, 'R'], [1, 'R'], [0, 'R'], [0, 'R'], [0, 'D'], [0, 'D']]\n",
      "[[0, 'R'], [1, 'R'], [1, 'R'], [1, 'R'], [0, 'R'], [0, 'R'], [0, 'D'], [0, 'D'], [0, 'D']]\n",
      "[[0, 'R'], [1, 'R'], [1, 'R'], [1, 'R'], [0, 'D']]\n",
      "[[0, 'R'], [1, 'R'], [1, 'R'], [1, 'U']]\n",
      "[[0, 'R'], [1, 'R'], [1, 'R'], [0, 'L']]\n",
      "[[0, 'R'], [1, 'R'], [1, 'R'], [0, 'R']]\n",
      "[[0, 'R'], [1, 'R'], [1, 'R'], [0, 'D']]\n",
      "[[0, 'R'], [1, 'R'], [1, 'U']]\n",
      "[[0, 'R'], [1, 'R'], [0, 'L']]\n",
      "[[0, 'R'], [1, 'R'], [0, 'R']]\n",
      "[[0, 'R'], [1, 'R'], [0, 'D']]\n",
      "[[0, 'R'], [1, 'U']]\n",
      "[[0, 'R'], [0, 'L']]\n",
      "[[0, 'R'], [0, 'R']]\n",
      "[[0, 'R'], [0, 'D']]\n",
      "[[0, 'D']]\n",
      "[[0, 'D'], [0, 'R']]\n",
      "[[0, 'D'], [0, 'R'], [0, 'D']]\n",
      "[[0, 'D'], [0, 'R'], [0, 'D'], [0, 'L']]\n",
      "[[0, 'D'], [0, 'R'], [0, 'D'], [0, 'L'], [0, 'R']]\n",
      "[[0, 'D'], [0, 'R'], [0, 'D'], [0, 'L'], [0, 'R'], [0, 'R']]\n",
      "[[0, 'D'], [0, 'R'], [0, 'D'], [0, 'L'], [0, 'R'], [0, 'R'], [0, 'R']]\n",
      "[[0, 'D'], [0, 'R'], [0, 'D'], [0, 'L'], [0, 'R'], [0, 'R'], [0, 'R'], [0, 'U']]\n",
      "[[0, 'D'], [0, 'R'], [0, 'D'], [0, 'L'], [0, 'R'], [0, 'R'], [0, 'R'], [0, 'U'], [0, 'U']]\n",
      "[[0, 'D'], [0, 'R'], [0, 'D'], [0, 'L'], [0, 'R'], [0, 'R'], [0, 'R'], [0, 'D']]\n",
      "[[0, 'D'], [0, 'R'], [0, 'D'], [0, 'L'], [0, 'R'], [0, 'R'], [0, 'D']]\n",
      "[[0, 'D'], [0, 'R'], [0, 'D'], [0, 'L'], [0, 'R'], [0, 'U']]\n",
      "[[0, 'D'], [0, 'R'], [0, 'D'], [0, 'L'], [0, 'R'], [0, 'D']]\n",
      "[[0, 'D'], [0, 'R'], [0, 'D'], [0, 'L'], [0, 'U']]\n",
      "[[0, 'D'], [0, 'R'], [0, 'D'], [0, 'L'], [0, 'D']]\n",
      "[[0, 'D'], [0, 'R'], [0, 'D'], [0, 'R']]\n",
      "[[0, 'D'], [0, 'R'], [0, 'D'], [0, 'R'], [0, 'R']]\n",
      "[[0, 'D'], [0, 'R'], [0, 'D'], [0, 'R'], [0, 'R'], [0, 'U']]\n",
      "[[0, 'D'], [0, 'R'], [0, 'D'], [0, 'R'], [0, 'R'], [0, 'U'], [0, 'U']]\n",
      "[[0, 'D'], [0, 'R'], [0, 'D'], [0, 'R'], [0, 'R'], [0, 'U'], [0, 'U'], [0, 'L']]\n",
      "[[0, 'D'], [0, 'R'], [0, 'D'], [0, 'R'], [0, 'R'], [0, 'U'], [0, 'U'], [0, 'L'], [0, 'R']]\n",
      "[[0, 'D'], [0, 'R'], [0, 'D'], [0, 'R'], [0, 'R'], [0, 'D']]\n",
      "[[0, 'D'], [0, 'R'], [0, 'D'], [0, 'R'], [0, 'D']]\n",
      "[[0, 'D'], [0, 'R'], [0, 'D'], [0, 'D']]\n",
      "[[0, 'D'], [0, 'D']]\n",
      "[]\n",
      "[[0, 'R']]\n",
      "[[0, 'R'], [1, 'R']]\n",
      "[[0, 'R'], [1, 'R'], [1, 'R']]\n",
      "[[0, 'R'], [1, 'R'], [1, 'R'], [1, 'R']]\n",
      "[[0, 'R'], [1, 'R'], [1, 'R'], [1, 'R'], [0, 'L']]\n",
      "[[0, 'R'], [1, 'R'], [1, 'R'], [1, 'R'], [0, 'L'], [0, 'D']]\n",
      "[[0, 'R'], [1, 'R'], [1, 'R'], [1, 'R'], [0, 'L'], [0, 'D'], [0, 'R']]\n",
      "[[0, 'R'], [1, 'R'], [1, 'R'], [1, 'R'], [0, 'L'], [0, 'D'], [0, 'R'], [0, 'D']]\n",
      "[[0, 'R'], [1, 'R'], [1, 'R'], [1, 'R'], [0, 'L'], [0, 'D'], [0, 'R'], [0, 'D'], [0, 'L']]\n",
      "[[0, 'R'], [1, 'R'], [1, 'R'], [1, 'R'], [0, 'L'], [0, 'D'], [0, 'R'], [0, 'D'], [0, 'L'], [0, 'R']]\n",
      "[[0, 'R'], [1, 'R'], [1, 'R'], [1, 'R'], [0, 'L'], [0, 'D'], [0, 'R'], [0, 'D'], [0, 'L'], [0, 'U']]\n",
      "[[0, 'R'], [1, 'R'], [1, 'R'], [1, 'R'], [0, 'L'], [0, 'D'], [0, 'R'], [0, 'D'], [0, 'L'], [0, 'D']]\n",
      "[[0, 'R'], [1, 'R'], [1, 'R'], [1, 'R'], [0, 'L'], [0, 'D'], [0, 'R'], [0, 'D'], [0, 'R']]\n",
      "[[0, 'R'], [1, 'R'], [1, 'R'], [1, 'R'], [0, 'L'], [0, 'D'], [0, 'R'], [0, 'D'], [0, 'R'], [0, 'R']]\n",
      "[[0, 'R'], [1, 'R'], [1, 'R'], [1, 'R'], [0, 'L'], [0, 'D'], [0, 'R'], [0, 'D'], [0, 'R'], [0, 'D']]\n",
      "[[0, 'R'], [1, 'R'], [1, 'R'], [1, 'R'], [0, 'L'], [0, 'D'], [0, 'R'], [0, 'D'], [0, 'D']]\n",
      "[[0, 'R'], [1, 'R'], [1, 'R'], [1, 'R'], [0, 'L'], [0, 'D'], [0, 'R'], [0, 'D'], [0, 'D'], [0, 'L']]\n",
      "[[0, 'R'], [1, 'R'], [1, 'R'], [1, 'R'], [0, 'L'], [0, 'D'], [0, 'D']]\n",
      "[[0, 'R'], [1, 'R'], [1, 'R'], [1, 'R'], [0, 'R']]\n",
      "[[0, 'R'], [1, 'R'], [1, 'R'], [1, 'R'], [0, 'R'], [0, 'L']]\n",
      "[[0, 'R'], [1, 'R'], [1, 'R'], [1, 'R'], [0, 'R'], [0, 'L'], [0, 'L']]\n",
      "[[0, 'R'], [1, 'R'], [1, 'R'], [1, 'R'], [0, 'R'], [0, 'L'], [0, 'L'], [0, 'D']]\n",
      "[[0, 'R'], [1, 'R'], [1, 'R'], [1, 'R'], [0, 'R'], [0, 'L'], [0, 'L'], [0, 'D'], [0, 'R']]\n",
      "[[0, 'R'], [1, 'R'], [1, 'R'], [1, 'R'], [0, 'R'], [0, 'L'], [0, 'L'], [0, 'D'], [0, 'R'], [0, 'D']]\n",
      "[[0, 'R'], [1, 'R'], [1, 'R'], [1, 'R'], [0, 'R'], [0, 'L'], [0, 'L'], [0, 'D'], [0, 'D']]\n",
      "[[0, 'R'], [1, 'R'], [1, 'R'], [1, 'R'], [0, 'R'], [0, 'L'], [0, 'L'], [0, 'D'], [0, 'D'], [0, 'R']]\n",
      "[[0, 'R'], [1, 'R'], [1, 'R'], [1, 'R'], [0, 'R'], [0, 'L'], [0, 'L'], [0, 'D'], [0, 'D'], [0, 'U']]\n",
      "[[0, 'R'], [1, 'R'], [1, 'R'], [1, 'R'], [0, 'R'], [0, 'L'], [0, 'L'], [0, 'D'], [0, 'D'], [0, 'D']]\n",
      "[[0, 'R'], [1, 'R'], [1, 'R'], [1, 'R'], [0, 'R'], [0, 'L'], [0, 'D']]\n",
      "[[0, 'R'], [1, 'R'], [1, 'R'], [1, 'R'], [0, 'R'], [0, 'R']]\n",
      "[[0, 'R'], [1, 'R'], [1, 'R'], [1, 'R'], [0, 'R'], [0, 'R'], [0, 'D']]\n",
      "[[0, 'R'], [1, 'R'], [1, 'R'], [1, 'R'], [0, 'R'], [0, 'R'], [0, 'D'], [0, 'D']]\n",
      "[[0, 'R'], [1, 'R'], [1, 'R'], [1, 'R'], [0, 'R'], [0, 'R'], [0, 'D'], [0, 'D'], [0, 'L']]\n",
      "[[0, 'R'], [1, 'R'], [1, 'R'], [1, 'R'], [0, 'R'], [0, 'R'], [0, 'D'], [0, 'D'], [0, 'L'], [0, 'D']]\n",
      "[[0, 'R'], [1, 'R'], [1, 'R'], [1, 'R'], [0, 'R'], [0, 'R'], [0, 'D'], [0, 'D'], [0, 'D']]\n",
      "[[0, 'R'], [1, 'R'], [1, 'R'], [1, 'R'], [0, 'D']]\n",
      "[[0, 'R'], [1, 'R'], [1, 'R'], [1, 'U']]\n",
      "[[0, 'R'], [1, 'R'], [1, 'R'], [0, 'L']]\n",
      "[[0, 'R'], [1, 'R'], [1, 'R'], [0, 'R']]\n",
      "[[0, 'R'], [1, 'R'], [1, 'R'], [0, 'D']]\n",
      "[[0, 'R'], [1, 'R'], [1, 'U']]\n",
      "[[0, 'R'], [1, 'R'], [0, 'L']]\n",
      "[[0, 'R'], [1, 'R'], [0, 'R']]\n",
      "[[0, 'R'], [1, 'R'], [0, 'D']]\n",
      "[[0, 'R'], [1, 'U']]\n",
      "[[0, 'R'], [0, 'L']]\n",
      "[[0, 'R'], [0, 'R']]\n",
      "[[0, 'R'], [0, 'D']]\n",
      "[[0, 'D']]\n",
      "[[0, 'D'], [0, 'R']]\n",
      "[[0, 'D'], [0, 'R'], [0, 'D']]\n",
      "[[0, 'D'], [0, 'R'], [0, 'D'], [0, 'L']]\n",
      "[[0, 'D'], [0, 'R'], [0, 'D'], [0, 'L'], [0, 'R']]\n",
      "[[0, 'D'], [0, 'R'], [0, 'D'], [0, 'L'], [0, 'R'], [0, 'R']]\n",
      "[[0, 'D'], [0, 'R'], [0, 'D'], [0, 'L'], [0, 'R'], [0, 'R'], [0, 'R']]\n",
      "[[0, 'D'], [0, 'R'], [0, 'D'], [0, 'L'], [0, 'R'], [0, 'R'], [0, 'R'], [0, 'U']]\n",
      "[[0, 'D'], [0, 'R'], [0, 'D'], [0, 'L'], [0, 'R'], [0, 'R'], [0, 'R'], [0, 'U'], [0, 'U']]\n",
      "[[0, 'D'], [0, 'R'], [0, 'D'], [0, 'L'], [0, 'R'], [0, 'R'], [0, 'R'], [0, 'U'], [0, 'U'], [0, 'L']]\n",
      "[[0, 'D'], [0, 'R'], [0, 'D'], [0, 'L'], [0, 'R'], [0, 'R'], [0, 'R'], [0, 'D']]\n",
      "[[0, 'D'], [0, 'R'], [0, 'D'], [0, 'L'], [0, 'R'], [0, 'R'], [0, 'D']]\n",
      "[[0, 'D'], [0, 'R'], [0, 'D'], [0, 'L'], [0, 'R'], [0, 'U']]\n",
      "[[0, 'D'], [0, 'R'], [0, 'D'], [0, 'L'], [0, 'R'], [0, 'D']]\n",
      "[[0, 'D'], [0, 'R'], [0, 'D'], [0, 'L'], [0, 'U']]\n",
      "[[0, 'D'], [0, 'R'], [0, 'D'], [0, 'L'], [0, 'D']]\n",
      "[[0, 'D'], [0, 'R'], [0, 'D'], [0, 'R']]\n",
      "[[0, 'D'], [0, 'R'], [0, 'D'], [0, 'R'], [0, 'R']]\n",
      "[[0, 'D'], [0, 'R'], [0, 'D'], [0, 'R'], [0, 'R'], [0, 'U']]\n",
      "[[0, 'D'], [0, 'R'], [0, 'D'], [0, 'R'], [0, 'R'], [0, 'U'], [0, 'U']]\n",
      "[[0, 'D'], [0, 'R'], [0, 'D'], [0, 'R'], [0, 'R'], [0, 'U'], [0, 'U'], [0, 'L']]\n",
      "[[0, 'D'], [0, 'R'], [0, 'D'], [0, 'R'], [0, 'R'], [0, 'U'], [0, 'U'], [0, 'L'], [0, 'R']]\n",
      "[[0, 'D'], [0, 'R'], [0, 'D'], [0, 'R'], [0, 'R'], [0, 'U'], [0, 'U'], [0, 'L'], [0, 'R'], [0, 'D']]\n",
      "[[0, 'D'], [0, 'R'], [0, 'D'], [0, 'R'], [0, 'R'], [0, 'D']]\n",
      "[[0, 'D'], [0, 'R'], [0, 'D'], [0, 'R'], [0, 'D']]\n",
      "[[0, 'D'], [0, 'R'], [0, 'D'], [0, 'D']]\n",
      "[[0, 'D'], [0, 'D']]\n",
      "[]\n",
      "[[0, 'R']]\n",
      "[[0, 'R'], [1, 'R']]\n",
      "[[0, 'R'], [1, 'R'], [1, 'R']]\n",
      "[[0, 'R'], [1, 'R'], [1, 'R'], [1, 'R']]\n",
      "[[0, 'R'], [1, 'R'], [1, 'R'], [1, 'R'], [0, 'L']]\n",
      "[[0, 'R'], [1, 'R'], [1, 'R'], [1, 'R'], [0, 'L'], [0, 'D']]\n",
      "[[0, 'R'], [1, 'R'], [1, 'R'], [1, 'R'], [0, 'L'], [0, 'D'], [0, 'R']]\n",
      "[[0, 'R'], [1, 'R'], [1, 'R'], [1, 'R'], [0, 'L'], [0, 'D'], [0, 'R'], [0, 'D']]\n",
      "[[0, 'R'], [1, 'R'], [1, 'R'], [1, 'R'], [0, 'L'], [0, 'D'], [0, 'R'], [0, 'D'], [0, 'L']]\n",
      "[[0, 'R'], [1, 'R'], [1, 'R'], [1, 'R'], [0, 'L'], [0, 'D'], [0, 'R'], [0, 'D'], [0, 'L'], [0, 'R']]\n",
      "[[0, 'R'], [1, 'R'], [1, 'R'], [1, 'R'], [0, 'L'], [0, 'D'], [0, 'R'], [0, 'D'], [0, 'L'], [0, 'R'], [0, 'R']]\n",
      "[[0, 'R'], [1, 'R'], [1, 'R'], [1, 'R'], [0, 'L'], [0, 'D'], [0, 'R'], [0, 'D'], [0, 'L'], [0, 'R'], [0, 'U']]\n",
      "[[0, 'R'], [1, 'R'], [1, 'R'], [1, 'R'], [0, 'L'], [0, 'D'], [0, 'R'], [0, 'D'], [0, 'L'], [0, 'R'], [0, 'D']]\n",
      "[[0, 'R'], [1, 'R'], [1, 'R'], [1, 'R'], [0, 'L'], [0, 'D'], [0, 'R'], [0, 'D'], [0, 'L'], [0, 'U']]\n",
      "[[0, 'R'], [1, 'R'], [1, 'R'], [1, 'R'], [0, 'L'], [0, 'D'], [0, 'R'], [0, 'D'], [0, 'L'], [0, 'U'], [0, 'U']]\n",
      "[[0, 'R'], [1, 'R'], [1, 'R'], [1, 'R'], [0, 'L'], [0, 'D'], [0, 'R'], [0, 'D'], [0, 'L'], [0, 'D']]\n",
      "[[0, 'R'], [1, 'R'], [1, 'R'], [1, 'R'], [0, 'L'], [0, 'D'], [0, 'R'], [0, 'D'], [0, 'R']]\n",
      "[[0, 'R'], [1, 'R'], [1, 'R'], [1, 'R'], [0, 'L'], [0, 'D'], [0, 'R'], [0, 'D'], [0, 'R'], [0, 'R']]\n",
      "[[0, 'R'], [1, 'R'], [1, 'R'], [1, 'R'], [0, 'L'], [0, 'D'], [0, 'R'], [0, 'D'], [0, 'R'], [0, 'R'], [0, 'U']]\n",
      "[[0, 'R'], [1, 'R'], [1, 'R'], [1, 'R'], [0, 'L'], [0, 'D'], [0, 'R'], [0, 'D'], [0, 'R'], [0, 'R'], [0, 'D']]\n",
      "[[0, 'R'], [1, 'R'], [1, 'R'], [1, 'R'], [0, 'L'], [0, 'D'], [0, 'R'], [0, 'D'], [0, 'R'], [0, 'D']]\n",
      "[[0, 'R'], [1, 'R'], [1, 'R'], [1, 'R'], [0, 'L'], [0, 'D'], [0, 'R'], [0, 'D'], [0, 'D']]\n",
      "[[0, 'R'], [1, 'R'], [1, 'R'], [1, 'R'], [0, 'L'], [0, 'D'], [0, 'D']]\n",
      "[[0, 'R'], [1, 'R'], [1, 'R'], [1, 'R'], [0, 'R']]\n",
      "[[0, 'R'], [1, 'R'], [1, 'R'], [1, 'R'], [0, 'R'], [0, 'L']]\n",
      "[[0, 'R'], [1, 'R'], [1, 'R'], [1, 'R'], [0, 'R'], [0, 'L'], [0, 'L']]\n",
      "[[0, 'R'], [1, 'R'], [1, 'R'], [1, 'R'], [0, 'R'], [0, 'L'], [0, 'L'], [0, 'D']]\n",
      "[[0, 'R'], [1, 'R'], [1, 'R'], [1, 'R'], [0, 'R'], [0, 'L'], [0, 'L'], [0, 'D'], [0, 'R']]\n",
      "[[0, 'R'], [1, 'R'], [1, 'R'], [1, 'R'], [0, 'R'], [0, 'L'], [0, 'L'], [0, 'D'], [0, 'R'], [0, 'D']]\n",
      "[[0, 'R'], [1, 'R'], [1, 'R'], [1, 'R'], [0, 'R'], [0, 'L'], [0, 'L'], [0, 'D'], [0, 'R'], [0, 'D'], [0, 'L']]\n",
      "[[0, 'R'], [1, 'R'], [1, 'R'], [1, 'R'], [0, 'R'], [0, 'L'], [0, 'L'], [0, 'D'], [0, 'R'], [0, 'D'], [0, 'R']]\n",
      "[[0, 'R'], [1, 'R'], [1, 'R'], [1, 'R'], [0, 'R'], [0, 'L'], [0, 'L'], [0, 'D'], [0, 'R'], [0, 'D'], [0, 'D']]\n",
      "[[0, 'R'], [1, 'R'], [1, 'R'], [1, 'R'], [0, 'R'], [0, 'L'], [0, 'L'], [0, 'D'], [0, 'D']]\n",
      "[[0, 'R'], [1, 'R'], [1, 'R'], [1, 'R'], [0, 'R'], [0, 'L'], [0, 'L'], [0, 'D'], [0, 'D'], [0, 'R']]\n",
      "[[0, 'R'], [1, 'R'], [1, 'R'], [1, 'R'], [0, 'R'], [0, 'L'], [0, 'L'], [0, 'D'], [0, 'D'], [0, 'R'], [0, 'R']]\n",
      "[[0, 'R'], [1, 'R'], [1, 'R'], [1, 'R'], [0, 'R'], [0, 'L'], [0, 'L'], [0, 'D'], [0, 'D'], [0, 'R'], [0, 'U']]\n",
      "[[0, 'R'], [1, 'R'], [1, 'R'], [1, 'R'], [0, 'R'], [0, 'L'], [0, 'L'], [0, 'D'], [0, 'D'], [0, 'R'], [0, 'D']]\n",
      "[[0, 'R'], [1, 'R'], [1, 'R'], [1, 'R'], [0, 'R'], [0, 'L'], [0, 'L'], [0, 'D'], [0, 'D'], [0, 'U']]\n",
      "[[0, 'R'], [1, 'R'], [1, 'R'], [1, 'R'], [0, 'R'], [0, 'L'], [0, 'L'], [0, 'D'], [0, 'D'], [0, 'U'], [0, 'U']]\n",
      "[[0, 'R'], [1, 'R'], [1, 'R'], [1, 'R'], [0, 'R'], [0, 'L'], [0, 'L'], [0, 'D'], [0, 'D'], [0, 'D']]\n",
      "[[0, 'R'], [1, 'R'], [1, 'R'], [1, 'R'], [0, 'R'], [0, 'L'], [0, 'D']]\n",
      "[[0, 'R'], [1, 'R'], [1, 'R'], [1, 'R'], [0, 'R'], [0, 'R']]\n",
      "[[0, 'R'], [1, 'R'], [1, 'R'], [1, 'R'], [0, 'R'], [0, 'R'], [0, 'D']]\n",
      "[[0, 'R'], [1, 'R'], [1, 'R'], [1, 'R'], [0, 'R'], [0, 'R'], [0, 'D'], [0, 'D']]\n",
      "[[0, 'R'], [1, 'R'], [1, 'R'], [1, 'R'], [0, 'R'], [0, 'R'], [0, 'D'], [0, 'D'], [0, 'D']]\n",
      "[[0, 'R'], [1, 'R'], [1, 'R'], [1, 'R'], [0, 'D']]\n",
      "[[0, 'R'], [1, 'R'], [1, 'R'], [1, 'U']]\n",
      "[[0, 'R'], [1, 'R'], [1, 'R'], [0, 'L']]\n",
      "[[0, 'R'], [1, 'R'], [1, 'R'], [0, 'R']]\n",
      "[[0, 'R'], [1, 'R'], [1, 'R'], [0, 'D']]\n",
      "[[0, 'R'], [1, 'R'], [1, 'U']]\n",
      "[[0, 'R'], [1, 'R'], [0, 'L']]\n",
      "[[0, 'R'], [1, 'R'], [0, 'R']]\n",
      "[[0, 'R'], [1, 'R'], [0, 'D']]\n",
      "[[0, 'R'], [1, 'U']]\n",
      "[[0, 'R'], [0, 'L']]\n",
      "[[0, 'R'], [0, 'R']]\n",
      "[[0, 'R'], [0, 'D']]\n",
      "[[0, 'D']]\n",
      "[[0, 'D'], [0, 'R']]\n",
      "[[0, 'D'], [0, 'R'], [0, 'D']]\n",
      "[[0, 'D'], [0, 'R'], [0, 'D'], [0, 'L']]\n",
      "[[0, 'D'], [0, 'R'], [0, 'D'], [0, 'L'], [0, 'R']]\n",
      "[[0, 'D'], [0, 'R'], [0, 'D'], [0, 'L'], [0, 'R'], [0, 'R']]\n",
      "[[0, 'D'], [0, 'R'], [0, 'D'], [0, 'L'], [0, 'R'], [0, 'R'], [0, 'R']]\n",
      "[[0, 'D'], [0, 'R'], [0, 'D'], [0, 'L'], [0, 'R'], [0, 'R'], [0, 'R'], [0, 'U']]\n",
      "[[0, 'D'], [0, 'R'], [0, 'D'], [0, 'L'], [0, 'R'], [0, 'R'], [0, 'R'], [0, 'U'], [0, 'U']]\n",
      "[[0, 'D'], [0, 'R'], [0, 'D'], [0, 'L'], [0, 'R'], [0, 'R'], [0, 'R'], [0, 'U'], [0, 'U'], [0, 'L']]\n",
      "[[0, 'D'], [0, 'R'], [0, 'D'], [0, 'L'], [0, 'R'], [0, 'R'], [0, 'R'], [0, 'U'], [0, 'U'], [0, 'L'], [0, 'R']]\n",
      "[[0, 'D'], [0, 'R'], [0, 'D'], [0, 'L'], [0, 'R'], [0, 'R'], [0, 'R'], [0, 'D']]\n",
      "[[0, 'D'], [0, 'R'], [0, 'D'], [0, 'L'], [0, 'R'], [0, 'R'], [0, 'D']]\n",
      "[[0, 'D'], [0, 'R'], [0, 'D'], [0, 'L'], [0, 'R'], [0, 'U']]\n",
      "[[0, 'D'], [0, 'R'], [0, 'D'], [0, 'L'], [0, 'R'], [0, 'D']]\n",
      "[[0, 'D'], [0, 'R'], [0, 'D'], [0, 'L'], [0, 'U']]\n",
      "[[0, 'D'], [0, 'R'], [0, 'D'], [0, 'L'], [0, 'D']]\n",
      "[[0, 'D'], [0, 'R'], [0, 'D'], [0, 'R']]\n",
      "[[0, 'D'], [0, 'R'], [0, 'D'], [0, 'R'], [0, 'R']]\n",
      "[[0, 'D'], [0, 'R'], [0, 'D'], [0, 'R'], [0, 'R'], [0, 'U']]\n",
      "[[0, 'D'], [0, 'R'], [0, 'D'], [0, 'R'], [0, 'R'], [0, 'U'], [0, 'U']]\n",
      "[[0, 'D'], [0, 'R'], [0, 'D'], [0, 'R'], [0, 'R'], [0, 'U'], [0, 'U'], [0, 'L']]\n",
      "[[0, 'D'], [0, 'R'], [0, 'D'], [0, 'R'], [0, 'R'], [0, 'U'], [0, 'U'], [0, 'L'], [0, 'R']]\n",
      "[[0, 'D'], [0, 'R'], [0, 'D'], [0, 'R'], [0, 'R'], [0, 'U'], [0, 'U'], [0, 'L'], [0, 'R'], [0, 'D']]\n",
      "[[0, 'D'], [0, 'R'], [0, 'D'], [0, 'R'], [0, 'R'], [0, 'U'], [0, 'U'], [0, 'L'], [0, 'R'], [0, 'D'], [0, 'D']]\n",
      "[[0, 'D'], [0, 'R'], [0, 'D'], [0, 'R'], [0, 'R'], [0, 'D']]\n",
      "[[0, 'D'], [0, 'R'], [0, 'D'], [0, 'R'], [0, 'D']]\n",
      "[[0, 'D'], [0, 'R'], [0, 'D'], [0, 'D']]\n",
      "[[0, 'D'], [0, 'D']]\n",
      "[]\n",
      "[[0, 'R']]\n",
      "[[0, 'R'], [1, 'R']]\n",
      "[[0, 'R'], [1, 'R'], [1, 'R']]\n",
      "[[0, 'R'], [1, 'R'], [1, 'R'], [1, 'R']]\n",
      "[[0, 'R'], [1, 'R'], [1, 'R'], [1, 'R'], [0, 'L']]\n",
      "[[0, 'R'], [1, 'R'], [1, 'R'], [1, 'R'], [0, 'L'], [0, 'D']]\n",
      "[[0, 'R'], [1, 'R'], [1, 'R'], [1, 'R'], [0, 'L'], [0, 'D'], [0, 'R']]\n",
      "[[0, 'R'], [1, 'R'], [1, 'R'], [1, 'R'], [0, 'L'], [0, 'D'], [0, 'R'], [0, 'D']]\n",
      "[[0, 'R'], [1, 'R'], [1, 'R'], [1, 'R'], [0, 'L'], [0, 'D'], [0, 'R'], [0, 'D'], [0, 'L']]\n",
      "[[0, 'R'], [1, 'R'], [1, 'R'], [1, 'R'], [0, 'L'], [0, 'D'], [0, 'R'], [0, 'D'], [0, 'L'], [0, 'R']]\n",
      "[[0, 'R'], [1, 'R'], [1, 'R'], [1, 'R'], [0, 'L'], [0, 'D'], [0, 'R'], [0, 'D'], [0, 'L'], [0, 'R'], [0, 'R']]\n",
      "[[0, 'R'], [1, 'R'], [1, 'R'], [1, 'R'], [0, 'L'], [0, 'D'], [0, 'R'], [0, 'D'], [0, 'L'], [0, 'R'], [0, 'R'], [0, 'R']]\n",
      "[[0, 'R'], [1, 'R'], [1, 'R'], [1, 'R'], [0, 'L'], [0, 'D'], [0, 'R'], [0, 'D'], [0, 'L'], [0, 'R'], [0, 'R'], [0, 'D']]\n",
      "[[0, 'R'], [1, 'R'], [1, 'R'], [1, 'R'], [0, 'L'], [0, 'D'], [0, 'R'], [0, 'D'], [0, 'L'], [0, 'R'], [0, 'U']]\n",
      "[[0, 'R'], [1, 'R'], [1, 'R'], [1, 'R'], [0, 'L'], [0, 'D'], [0, 'R'], [0, 'D'], [0, 'L'], [0, 'R'], [0, 'U'], [0, 'L']]\n",
      "[[0, 'R'], [1, 'R'], [1, 'R'], [1, 'R'], [0, 'L'], [0, 'D'], [0, 'R'], [0, 'D'], [0, 'L'], [0, 'R'], [0, 'U'], [0, 'U']]\n",
      "[[0, 'R'], [1, 'R'], [1, 'R'], [1, 'R'], [0, 'L'], [0, 'D'], [0, 'R'], [0, 'D'], [0, 'L'], [0, 'R'], [0, 'D']]\n",
      "[[0, 'R'], [1, 'R'], [1, 'R'], [1, 'R'], [0, 'L'], [0, 'D'], [0, 'R'], [0, 'D'], [0, 'L'], [0, 'R'], [0, 'D'], [0, 'L']]\n",
      "[[0, 'R'], [1, 'R'], [1, 'R'], [1, 'R'], [0, 'L'], [0, 'D'], [0, 'R'], [0, 'D'], [0, 'L'], [0, 'U']]\n",
      "[[0, 'R'], [1, 'R'], [1, 'R'], [1, 'R'], [0, 'L'], [0, 'D'], [0, 'R'], [0, 'D'], [0, 'L'], [0, 'U'], [0, 'U']]\n",
      "[[0, 'R'], [1, 'R'], [1, 'R'], [1, 'R'], [0, 'L'], [0, 'D'], [0, 'R'], [0, 'D'], [0, 'L'], [0, 'D']]\n",
      "[[0, 'R'], [1, 'R'], [1, 'R'], [1, 'R'], [0, 'L'], [0, 'D'], [0, 'R'], [0, 'D'], [0, 'R']]\n",
      "[[0, 'R'], [1, 'R'], [1, 'R'], [1, 'R'], [0, 'L'], [0, 'D'], [0, 'R'], [0, 'D'], [0, 'R'], [0, 'R']]\n",
      "[[0, 'R'], [1, 'R'], [1, 'R'], [1, 'R'], [0, 'L'], [0, 'D'], [0, 'R'], [0, 'D'], [0, 'R'], [0, 'R'], [0, 'U']]\n",
      "[[0, 'R'], [1, 'R'], [1, 'R'], [1, 'R'], [0, 'L'], [0, 'D'], [0, 'R'], [0, 'D'], [0, 'R'], [0, 'R'], [0, 'U'], [0, 'U']]\n",
      "[[0, 'R'], [1, 'R'], [1, 'R'], [1, 'R'], [0, 'L'], [0, 'D'], [0, 'R'], [0, 'D'], [0, 'R'], [0, 'R'], [0, 'D']]\n",
      "[[0, 'R'], [1, 'R'], [1, 'R'], [1, 'R'], [0, 'L'], [0, 'D'], [0, 'R'], [0, 'D'], [0, 'R'], [0, 'D']]\n",
      "[[0, 'R'], [1, 'R'], [1, 'R'], [1, 'R'], [0, 'L'], [0, 'D'], [0, 'R'], [0, 'D'], [0, 'D']]\n",
      "[[0, 'R'], [1, 'R'], [1, 'R'], [1, 'R'], [0, 'L'], [0, 'D'], [0, 'D']]\n",
      "[[0, 'R'], [1, 'R'], [1, 'R'], [1, 'R'], [0, 'R']]\n",
      "[[0, 'R'], [1, 'R'], [1, 'R'], [1, 'R'], [0, 'R'], [0, 'L']]\n",
      "[[0, 'R'], [1, 'R'], [1, 'R'], [1, 'R'], [0, 'R'], [0, 'L'], [0, 'L']]\n",
      "[[0, 'R'], [1, 'R'], [1, 'R'], [1, 'R'], [0, 'R'], [0, 'L'], [0, 'L'], [0, 'D']]\n",
      "[[0, 'R'], [1, 'R'], [1, 'R'], [1, 'R'], [0, 'R'], [0, 'L'], [0, 'L'], [0, 'D'], [0, 'R']]\n",
      "[[0, 'R'], [1, 'R'], [1, 'R'], [1, 'R'], [0, 'R'], [0, 'L'], [0, 'L'], [0, 'D'], [0, 'R'], [0, 'D']]\n",
      "[[0, 'R'], [1, 'R'], [1, 'R'], [1, 'R'], [0, 'R'], [0, 'L'], [0, 'L'], [0, 'D'], [0, 'R'], [0, 'D'], [0, 'L']]\n",
      "[[0, 'R'], [1, 'R'], [1, 'R'], [1, 'R'], [0, 'R'], [0, 'L'], [0, 'L'], [0, 'D'], [0, 'R'], [0, 'D'], [0, 'L'], [0, 'R']]\n",
      "[[0, 'R'], [1, 'R'], [1, 'R'], [1, 'R'], [0, 'R'], [0, 'L'], [0, 'L'], [0, 'D'], [0, 'R'], [0, 'D'], [0, 'L'], [0, 'U']]\n",
      "[[0, 'R'], [1, 'R'], [1, 'R'], [1, 'R'], [0, 'R'], [0, 'L'], [0, 'L'], [0, 'D'], [0, 'R'], [0, 'D'], [0, 'L'], [0, 'D']]\n",
      "[[0, 'R'], [1, 'R'], [1, 'R'], [1, 'R'], [0, 'R'], [0, 'L'], [0, 'L'], [0, 'D'], [0, 'R'], [0, 'D'], [0, 'R']]\n",
      "[[0, 'R'], [1, 'R'], [1, 'R'], [1, 'R'], [0, 'R'], [0, 'L'], [0, 'L'], [0, 'D'], [0, 'R'], [0, 'D'], [0, 'R'], [0, 'R']]\n",
      "[[0, 'R'], [1, 'R'], [1, 'R'], [1, 'R'], [0, 'R'], [0, 'L'], [0, 'L'], [0, 'D'], [0, 'R'], [0, 'D'], [0, 'R'], [0, 'D']]\n",
      "[[0, 'R'], [1, 'R'], [1, 'R'], [1, 'R'], [0, 'R'], [0, 'L'], [0, 'L'], [0, 'D'], [0, 'R'], [0, 'D'], [0, 'D']]\n",
      "[[0, 'R'], [1, 'R'], [1, 'R'], [1, 'R'], [0, 'R'], [0, 'L'], [0, 'L'], [0, 'D'], [0, 'R'], [0, 'D'], [0, 'D'], [0, 'L']]\n",
      "[[0, 'R'], [1, 'R'], [1, 'R'], [1, 'R'], [0, 'R'], [0, 'L'], [0, 'L'], [0, 'D'], [0, 'D']]\n",
      "[[0, 'R'], [1, 'R'], [1, 'R'], [1, 'R'], [0, 'R'], [0, 'L'], [0, 'D']]\n",
      "[[0, 'R'], [1, 'R'], [1, 'R'], [1, 'R'], [0, 'R'], [0, 'R']]\n",
      "[[0, 'R'], [1, 'R'], [1, 'R'], [1, 'R'], [0, 'R'], [0, 'R'], [0, 'D']]\n",
      "[[0, 'R'], [1, 'R'], [1, 'R'], [1, 'R'], [0, 'D']]\n",
      "[[0, 'R'], [1, 'R'], [1, 'R'], [1, 'U']]\n",
      "[[0, 'R'], [1, 'R'], [1, 'R'], [0, 'L']]\n",
      "[[0, 'R'], [1, 'R'], [1, 'R'], [0, 'R']]\n",
      "[[0, 'R'], [1, 'R'], [1, 'R'], [0, 'D']]\n",
      "[[0, 'R'], [1, 'R'], [1, 'U']]\n",
      "[[0, 'R'], [1, 'R'], [0, 'L']]\n",
      "[[0, 'R'], [1, 'R'], [0, 'R']]\n",
      "[[0, 'R'], [1, 'R'], [0, 'D']]\n",
      "[[0, 'R'], [1, 'U']]\n",
      "[[0, 'R'], [0, 'L']]\n",
      "[[0, 'R'], [0, 'R']]\n",
      "[[0, 'R'], [0, 'D']]\n",
      "[[0, 'D']]\n",
      "[[0, 'D'], [0, 'R']]\n",
      "[[0, 'D'], [0, 'R'], [0, 'D']]\n",
      "[[0, 'D'], [0, 'R'], [0, 'D'], [0, 'L']]\n",
      "[[0, 'D'], [0, 'R'], [0, 'D'], [0, 'L'], [0, 'R']]\n",
      "[[0, 'D'], [0, 'R'], [0, 'D'], [0, 'L'], [0, 'R'], [0, 'R']]\n",
      "[[0, 'D'], [0, 'R'], [0, 'D'], [0, 'L'], [0, 'R'], [0, 'R'], [0, 'R']]\n",
      "[[0, 'D'], [0, 'R'], [0, 'D'], [0, 'L'], [0, 'R'], [0, 'R'], [0, 'R'], [0, 'U']]\n",
      "[[0, 'D'], [0, 'R'], [0, 'D'], [0, 'L'], [0, 'R'], [0, 'R'], [0, 'R'], [0, 'U'], [0, 'U']]\n",
      "[[0, 'D'], [0, 'R'], [0, 'D'], [0, 'L'], [0, 'R'], [0, 'R'], [0, 'R'], [0, 'U'], [0, 'U'], [0, 'L']]\n",
      "[[0, 'D'], [0, 'R'], [0, 'D'], [0, 'L'], [0, 'R'], [0, 'R'], [0, 'R'], [0, 'U'], [0, 'U'], [0, 'L'], [0, 'R']]\n",
      "[[0, 'D'], [0, 'R'], [0, 'D'], [0, 'L'], [0, 'R'], [0, 'R'], [0, 'R'], [0, 'U'], [0, 'U'], [0, 'L'], [0, 'R'], [0, 'D']]\n",
      "[[0, 'D'], [0, 'R'], [0, 'D'], [0, 'L'], [0, 'R'], [0, 'R'], [0, 'R'], [0, 'D']]\n",
      "[[0, 'D'], [0, 'R'], [0, 'D'], [0, 'L'], [0, 'R'], [0, 'R'], [0, 'D']]\n",
      "[[0, 'D'], [0, 'R'], [0, 'D'], [0, 'L'], [0, 'R'], [0, 'U']]\n",
      "[[0, 'D'], [0, 'R'], [0, 'D'], [0, 'L'], [0, 'R'], [0, 'D']]\n",
      "[[0, 'D'], [0, 'R'], [0, 'D'], [0, 'L'], [0, 'U']]\n",
      "[[0, 'D'], [0, 'R'], [0, 'D'], [0, 'L'], [0, 'D']]\n",
      "[[0, 'D'], [0, 'R'], [0, 'D'], [0, 'R']]\n",
      "[[0, 'D'], [0, 'R'], [0, 'D'], [0, 'R'], [0, 'R']]\n",
      "[[0, 'D'], [0, 'R'], [0, 'D'], [0, 'R'], [0, 'R'], [0, 'U']]\n",
      "[[0, 'D'], [0, 'R'], [0, 'D'], [0, 'R'], [0, 'R'], [0, 'U'], [0, 'U']]\n",
      "[[0, 'D'], [0, 'R'], [0, 'D'], [0, 'R'], [0, 'R'], [0, 'U'], [0, 'U'], [0, 'L']]\n",
      "[[0, 'D'], [0, 'R'], [0, 'D'], [0, 'R'], [0, 'R'], [0, 'U'], [0, 'U'], [0, 'L'], [0, 'R']]\n",
      "[[0, 'D'], [0, 'R'], [0, 'D'], [0, 'R'], [0, 'R'], [0, 'U'], [0, 'U'], [0, 'L'], [0, 'R'], [0, 'D']]\n",
      "[[0, 'D'], [0, 'R'], [0, 'D'], [0, 'R'], [0, 'R'], [0, 'U'], [0, 'U'], [0, 'L'], [0, 'R'], [0, 'D'], [0, 'D']]\n",
      "[[0, 'D'], [0, 'R'], [0, 'D'], [0, 'R'], [0, 'R'], [0, 'U'], [0, 'U'], [0, 'L'], [0, 'R'], [0, 'D'], [0, 'D'], [0, 'L']]\n",
      "[[0, 'D'], [0, 'R'], [0, 'D'], [0, 'R'], [0, 'R'], [0, 'U'], [0, 'U'], [0, 'L'], [0, 'R'], [0, 'D'], [0, 'D'], [0, 'D']]\n",
      "[[0, 'D'], [0, 'R'], [0, 'D'], [0, 'R'], [0, 'R'], [0, 'D']]\n",
      "[[0, 'D'], [0, 'R'], [0, 'D'], [0, 'R'], [0, 'D']]\n",
      "[[0, 'D'], [0, 'R'], [0, 'D'], [0, 'D']]\n",
      "[[0, 'D'], [0, 'D']]\n",
      "[]\n",
      "[[0, 'R']]\n",
      "[[0, 'R'], [1, 'R']]\n",
      "[[0, 'R'], [1, 'R'], [1, 'R']]\n",
      "[[0, 'R'], [1, 'R'], [1, 'R'], [1, 'R']]\n",
      "[[0, 'R'], [1, 'R'], [1, 'R'], [1, 'R'], [0, 'L']]\n",
      "[[0, 'R'], [1, 'R'], [1, 'R'], [1, 'R'], [0, 'L'], [0, 'D']]\n",
      "[[0, 'R'], [1, 'R'], [1, 'R'], [1, 'R'], [0, 'L'], [0, 'D'], [0, 'R']]\n",
      "[[0, 'R'], [1, 'R'], [1, 'R'], [1, 'R'], [0, 'L'], [0, 'D'], [0, 'R'], [0, 'D']]\n",
      "[[0, 'R'], [1, 'R'], [1, 'R'], [1, 'R'], [0, 'L'], [0, 'D'], [0, 'R'], [0, 'D'], [0, 'L']]\n",
      "[[0, 'R'], [1, 'R'], [1, 'R'], [1, 'R'], [0, 'L'], [0, 'D'], [0, 'R'], [0, 'D'], [0, 'L'], [0, 'R']]\n",
      "[[0, 'R'], [1, 'R'], [1, 'R'], [1, 'R'], [0, 'L'], [0, 'D'], [0, 'R'], [0, 'D'], [0, 'L'], [0, 'R'], [0, 'R']]\n",
      "[[0, 'R'], [1, 'R'], [1, 'R'], [1, 'R'], [0, 'L'], [0, 'D'], [0, 'R'], [0, 'D'], [0, 'L'], [0, 'R'], [0, 'R'], [0, 'R']]\n",
      "[[0, 'R'], [1, 'R'], [1, 'R'], [1, 'R'], [0, 'L'], [0, 'D'], [0, 'R'], [0, 'D'], [0, 'L'], [0, 'R'], [0, 'R'], [0, 'R'], [0, 'U']]\n",
      "[[0, 'R'], [1, 'R'], [1, 'R'], [1, 'R'], [0, 'L'], [0, 'D'], [0, 'R'], [0, 'D'], [0, 'L'], [0, 'R'], [0, 'R'], [0, 'R'], [0, 'D']]\n",
      "[[0, 'R'], [1, 'R'], [1, 'R'], [1, 'R'], [0, 'L'], [0, 'D'], [0, 'R'], [0, 'D'], [0, 'L'], [0, 'R'], [0, 'R'], [0, 'D']]\n",
      "[[0, 'R'], [1, 'R'], [1, 'R'], [1, 'R'], [0, 'L'], [0, 'D'], [0, 'R'], [0, 'D'], [0, 'L'], [0, 'R'], [0, 'U']]\n",
      "[[0, 'R'], [1, 'R'], [1, 'R'], [1, 'R'], [0, 'L'], [0, 'D'], [0, 'R'], [0, 'D'], [0, 'L'], [0, 'R'], [0, 'D']]\n",
      "[[0, 'R'], [1, 'R'], [1, 'R'], [1, 'R'], [0, 'L'], [0, 'D'], [0, 'R'], [0, 'D'], [0, 'L'], [0, 'U']]\n",
      "[[0, 'R'], [1, 'R'], [1, 'R'], [1, 'R'], [0, 'L'], [0, 'D'], [0, 'R'], [0, 'D'], [0, 'L'], [0, 'D']]\n",
      "[[0, 'R'], [1, 'R'], [1, 'R'], [1, 'R'], [0, 'L'], [0, 'D'], [0, 'R'], [0, 'D'], [0, 'R']]\n",
      "[[0, 'R'], [1, 'R'], [1, 'R'], [1, 'R'], [0, 'L'], [0, 'D'], [0, 'R'], [0, 'D'], [0, 'R'], [0, 'R']]\n",
      "[[0, 'R'], [1, 'R'], [1, 'R'], [1, 'R'], [0, 'L'], [0, 'D'], [0, 'R'], [0, 'D'], [0, 'R'], [0, 'R'], [0, 'U']]\n",
      "[[0, 'R'], [1, 'R'], [1, 'R'], [1, 'R'], [0, 'L'], [0, 'D'], [0, 'R'], [0, 'D'], [0, 'R'], [0, 'R'], [0, 'U'], [0, 'U']]\n",
      "[[0, 'R'], [1, 'R'], [1, 'R'], [1, 'R'], [0, 'L'], [0, 'D'], [0, 'R'], [0, 'D'], [0, 'R'], [0, 'R'], [0, 'U'], [0, 'U'], [0, 'L']]\n",
      "[[0, 'R'], [1, 'R'], [1, 'R'], [1, 'R'], [0, 'L'], [0, 'D'], [0, 'R'], [0, 'D'], [0, 'R'], [0, 'R'], [0, 'D']]\n",
      "[[0, 'R'], [1, 'R'], [1, 'R'], [1, 'R'], [0, 'L'], [0, 'D'], [0, 'R'], [0, 'D'], [0, 'R'], [0, 'D']]\n",
      "[[0, 'R'], [1, 'R'], [1, 'R'], [1, 'R'], [0, 'L'], [0, 'D'], [0, 'R'], [0, 'D'], [0, 'D']]\n",
      "[[0, 'R'], [1, 'R'], [1, 'R'], [1, 'R'], [0, 'L'], [0, 'D'], [0, 'D']]\n",
      "[[0, 'R'], [1, 'R'], [1, 'R'], [1, 'R'], [0, 'R']]\n",
      "[[0, 'R'], [1, 'R'], [1, 'R'], [1, 'R'], [0, 'R'], [0, 'L']]\n",
      "[[0, 'R'], [1, 'R'], [1, 'R'], [1, 'R'], [0, 'R'], [0, 'L'], [0, 'L']]\n",
      "[[0, 'R'], [1, 'R'], [1, 'R'], [1, 'R'], [0, 'R'], [0, 'L'], [0, 'L'], [0, 'D']]\n",
      "[[0, 'R'], [1, 'R'], [1, 'R'], [1, 'R'], [0, 'R'], [0, 'L'], [0, 'L'], [0, 'D'], [0, 'R']]\n",
      "[[0, 'R'], [1, 'R'], [1, 'R'], [1, 'R'], [0, 'R'], [0, 'L'], [0, 'L'], [0, 'D'], [0, 'R'], [0, 'D']]\n",
      "[[0, 'R'], [1, 'R'], [1, 'R'], [1, 'R'], [0, 'R'], [0, 'L'], [0, 'L'], [0, 'D'], [0, 'R'], [0, 'D'], [0, 'L']]\n",
      "[[0, 'R'], [1, 'R'], [1, 'R'], [1, 'R'], [0, 'R'], [0, 'L'], [0, 'L'], [0, 'D'], [0, 'R'], [0, 'D'], [0, 'L'], [0, 'R']]\n",
      "[[0, 'R'], [1, 'R'], [1, 'R'], [1, 'R'], [0, 'R'], [0, 'L'], [0, 'L'], [0, 'D'], [0, 'R'], [0, 'D'], [0, 'L'], [0, 'R'], [0, 'R']]\n",
      "[[0, 'R'], [1, 'R'], [1, 'R'], [1, 'R'], [0, 'R'], [0, 'L'], [0, 'L'], [0, 'D'], [0, 'R'], [0, 'D'], [0, 'L'], [0, 'R'], [0, 'U']]\n",
      "[[0, 'R'], [1, 'R'], [1, 'R'], [1, 'R'], [0, 'R'], [0, 'L'], [0, 'L'], [0, 'D'], [0, 'R'], [0, 'D'], [0, 'L'], [0, 'R'], [0, 'D']]\n",
      "[[0, 'R'], [1, 'R'], [1, 'R'], [1, 'R'], [0, 'R'], [0, 'L'], [0, 'L'], [0, 'D'], [0, 'R'], [0, 'D'], [0, 'L'], [0, 'U']]\n",
      "[[0, 'R'], [1, 'R'], [1, 'R'], [1, 'R'], [0, 'R'], [0, 'L'], [0, 'L'], [0, 'D'], [0, 'R'], [0, 'D'], [0, 'L'], [0, 'U'], [0, 'U']]\n",
      "[[0, 'R'], [1, 'R'], [1, 'R'], [1, 'R'], [0, 'R'], [0, 'L'], [0, 'L'], [0, 'D'], [0, 'R'], [0, 'D'], [0, 'L'], [0, 'D']]\n",
      "[[0, 'R'], [1, 'R'], [1, 'R'], [1, 'R'], [0, 'R'], [0, 'L'], [0, 'L'], [0, 'D'], [0, 'R'], [0, 'D'], [0, 'R']]\n",
      "[[0, 'R'], [1, 'R'], [1, 'R'], [1, 'R'], [0, 'R'], [0, 'L'], [0, 'L'], [0, 'D'], [0, 'R'], [0, 'D'], [0, 'R'], [0, 'R']]\n",
      "[[0, 'R'], [1, 'R'], [1, 'R'], [1, 'R'], [0, 'R'], [0, 'L'], [0, 'L'], [0, 'D'], [0, 'R'], [0, 'D'], [0, 'R'], [0, 'R'], [0, 'U']]\n",
      "[[0, 'R'], [1, 'R'], [1, 'R'], [1, 'R'], [0, 'R'], [0, 'L'], [0, 'L'], [0, 'D'], [0, 'R'], [0, 'D'], [0, 'R'], [0, 'R'], [0, 'D']]\n",
      "[[0, 'R'], [1, 'R'], [1, 'R'], [1, 'R'], [0, 'R'], [0, 'L'], [0, 'L'], [0, 'D'], [0, 'R'], [0, 'D'], [0, 'R'], [0, 'D']]\n",
      "[[0, 'R'], [1, 'R'], [1, 'R'], [1, 'R'], [0, 'R'], [0, 'L'], [0, 'L'], [0, 'D'], [0, 'R'], [0, 'D'], [0, 'D']]\n",
      "[[0, 'R'], [1, 'R'], [1, 'R'], [1, 'R'], [0, 'R'], [0, 'L'], [0, 'L'], [0, 'D'], [0, 'D']]\n",
      "[[0, 'R'], [1, 'R'], [1, 'R'], [1, 'R'], [0, 'R'], [0, 'L'], [0, 'D']]\n",
      "[[0, 'R'], [1, 'R'], [1, 'R'], [1, 'R'], [0, 'R'], [0, 'R']]\n",
      "[[0, 'R'], [1, 'R'], [1, 'R'], [1, 'R'], [0, 'D']]\n",
      "[[0, 'R'], [1, 'R'], [1, 'R'], [1, 'U']]\n",
      "[[0, 'R'], [1, 'R'], [1, 'R'], [0, 'L']]\n",
      "[[0, 'R'], [1, 'R'], [1, 'R'], [0, 'R']]\n",
      "[[0, 'R'], [1, 'R'], [1, 'R'], [0, 'D']]\n",
      "[[0, 'R'], [1, 'R'], [1, 'U']]\n",
      "[[0, 'R'], [1, 'R'], [0, 'L']]\n",
      "[[0, 'R'], [1, 'R'], [0, 'R']]\n",
      "[[0, 'R'], [1, 'R'], [0, 'D']]\n",
      "[[0, 'R'], [1, 'U']]\n",
      "[[0, 'R'], [0, 'L']]\n",
      "[[0, 'R'], [0, 'R']]\n",
      "[[0, 'R'], [0, 'D']]\n",
      "[[0, 'D']]\n",
      "[[0, 'D'], [0, 'R']]\n",
      "[[0, 'D'], [0, 'R'], [0, 'D']]\n",
      "[[0, 'D'], [0, 'R'], [0, 'D'], [0, 'L']]\n",
      "[[0, 'D'], [0, 'R'], [0, 'D'], [0, 'L'], [0, 'R']]\n",
      "[[0, 'D'], [0, 'R'], [0, 'D'], [0, 'L'], [0, 'R'], [0, 'R']]\n",
      "[[0, 'D'], [0, 'R'], [0, 'D'], [0, 'L'], [0, 'R'], [0, 'R'], [0, 'R']]\n",
      "[[0, 'D'], [0, 'R'], [0, 'D'], [0, 'L'], [0, 'R'], [0, 'R'], [0, 'R'], [0, 'U']]\n",
      "[[0, 'D'], [0, 'R'], [0, 'D'], [0, 'L'], [0, 'R'], [0, 'R'], [0, 'R'], [0, 'U'], [0, 'U']]\n",
      "[[0, 'D'], [0, 'R'], [0, 'D'], [0, 'L'], [0, 'R'], [0, 'R'], [0, 'R'], [0, 'U'], [0, 'U'], [0, 'L']]\n",
      "[[0, 'D'], [0, 'R'], [0, 'D'], [0, 'L'], [0, 'R'], [0, 'R'], [0, 'R'], [0, 'U'], [0, 'U'], [0, 'L'], [0, 'R']]\n",
      "[[0, 'D'], [0, 'R'], [0, 'D'], [0, 'L'], [0, 'R'], [0, 'R'], [0, 'R'], [0, 'U'], [0, 'U'], [0, 'L'], [0, 'R'], [0, 'D']]\n",
      "[[0, 'D'], [0, 'R'], [0, 'D'], [0, 'L'], [0, 'R'], [0, 'R'], [0, 'R'], [0, 'U'], [0, 'U'], [0, 'L'], [0, 'R'], [0, 'D'], [0, 'D']]\n",
      "[[0, 'D'], [0, 'R'], [0, 'D'], [0, 'L'], [0, 'R'], [0, 'R'], [0, 'R'], [0, 'D']]\n",
      "[[0, 'D'], [0, 'R'], [0, 'D'], [0, 'L'], [0, 'R'], [0, 'R'], [0, 'D']]\n",
      "[[0, 'D'], [0, 'R'], [0, 'D'], [0, 'L'], [0, 'R'], [0, 'U']]\n",
      "[[0, 'D'], [0, 'R'], [0, 'D'], [0, 'L'], [0, 'R'], [0, 'D']]\n",
      "[[0, 'D'], [0, 'R'], [0, 'D'], [0, 'L'], [0, 'U']]\n",
      "[[0, 'D'], [0, 'R'], [0, 'D'], [0, 'L'], [0, 'D']]\n",
      "[[0, 'D'], [0, 'R'], [0, 'D'], [0, 'R']]\n",
      "[[0, 'D'], [0, 'R'], [0, 'D'], [0, 'R'], [0, 'R']]\n",
      "[[0, 'D'], [0, 'R'], [0, 'D'], [0, 'R'], [0, 'R'], [0, 'U']]\n",
      "[[0, 'D'], [0, 'R'], [0, 'D'], [0, 'R'], [0, 'R'], [0, 'U'], [0, 'U']]\n",
      "[[0, 'D'], [0, 'R'], [0, 'D'], [0, 'R'], [0, 'R'], [0, 'U'], [0, 'U'], [0, 'L']]\n",
      "[[0, 'D'], [0, 'R'], [0, 'D'], [0, 'R'], [0, 'R'], [0, 'U'], [0, 'U'], [0, 'L'], [0, 'R']]\n",
      "[[0, 'D'], [0, 'R'], [0, 'D'], [0, 'R'], [0, 'R'], [0, 'U'], [0, 'U'], [0, 'L'], [0, 'R'], [0, 'D']]\n",
      "[[0, 'D'], [0, 'R'], [0, 'D'], [0, 'R'], [0, 'R'], [0, 'U'], [0, 'U'], [0, 'L'], [0, 'R'], [0, 'D'], [0, 'D']]\n",
      "[[0, 'D'], [0, 'R'], [0, 'D'], [0, 'R'], [0, 'R'], [0, 'U'], [0, 'U'], [0, 'L'], [0, 'R'], [0, 'D'], [0, 'D'], [0, 'L']]\n",
      "[[0, 'D'], [0, 'R'], [0, 'D'], [0, 'R'], [0, 'R'], [0, 'U'], [0, 'U'], [0, 'L'], [0, 'R'], [0, 'D'], [0, 'D'], [0, 'L'], [0, 'L']]\n",
      "[[0, 'D'], [0, 'R'], [0, 'D'], [0, 'R'], [0, 'R'], [0, 'U'], [0, 'U'], [0, 'L'], [0, 'R'], [0, 'D'], [0, 'D'], [0, 'L'], [0, 'D']]\n",
      "[[0, 'D'], [0, 'R'], [0, 'D'], [0, 'R'], [0, 'R'], [0, 'U'], [0, 'U'], [0, 'L'], [0, 'R'], [0, 'D'], [0, 'D'], [0, 'D']]\n",
      "[[0, 'D'], [0, 'R'], [0, 'D'], [0, 'R'], [0, 'R'], [0, 'D']]\n",
      "[[0, 'D'], [0, 'R'], [0, 'D'], [0, 'R'], [0, 'D']]\n",
      "[[0, 'D'], [0, 'R'], [0, 'D'], [0, 'D']]\n",
      "[[0, 'D'], [0, 'D']]\n"
     ]
    }
   ],
   "source": [
    "for e in all_expanded:\n",
    "    print(e.path)"
   ]
  },
  {
   "cell_type": "markdown",
   "id": "0e00c916",
   "metadata": {},
   "source": [
    "## Test 2"
   ]
  },
  {
   "cell_type": "code",
   "execution_count": 624,
   "id": "9dc51a03",
   "metadata": {},
   "outputs": [
    {
     "name": "stdout",
     "output_type": "stream",
     "text": [
      "answer found\n",
      "path cost = 15\n",
      "[[1, 'U'], [1, 'R'], [1, 'L'], [1, 'U'], [0, 'R'], [1, 'D'], [1, 'R'], [1, 'R'], [1, 'R'], [1, 'D'], [0, 'R'], [0, 'D'], [0, 'D'], [0, 'R'], [0, 'D']]\n"
     ]
    }
   ],
   "source": [
    "first_time = time.time() \n",
    "answer = None\n",
    "all_expanded = []\n",
    "limit = 1\n",
    "\n",
    "while answer == None:\n",
    "    lifo = Lifo()\n",
    "    all_expanded.extend(expanded)\n",
    "    expanded = []\n",
    "    lifo.put(Node(maps[1], Cs[1], Ks[1], [], 0, [[0, 0, 0]], len(maps[1]), len(maps[1][0])))\n",
    "    while not lifo.empty():\n",
    "        curr_node = lifo.get()\n",
    "        answer = curr_node.dexpand(lifo, expanded, limit)\n",
    "        if answer != None:\n",
    "            print(\"answer found\")\n",
    "            print(\"path cost =\", answer.path_cost)\n",
    "            print(answer.path)\n",
    "            break\n",
    "    limit += 1\n",
    "last_time = time.time()"
   ]
  },
  {
   "cell_type": "code",
   "execution_count": 625,
   "id": "63c4365c",
   "metadata": {},
   "outputs": [],
   "source": [
    "bfs_time = last_time - first_time"
   ]
  },
  {
   "cell_type": "code",
   "execution_count": 626,
   "id": "c834135f",
   "metadata": {},
   "outputs": [
    {
     "data": {
      "text/plain": [
       "5.894128084182739"
      ]
     },
     "execution_count": 626,
     "metadata": {},
     "output_type": "execute_result"
    }
   ],
   "source": [
    "bfs_time"
   ]
  },
  {
   "cell_type": "code",
   "execution_count": 627,
   "id": "a2b2f3b6",
   "metadata": {},
   "outputs": [
    {
     "data": {
      "text/plain": [
       "10021"
      ]
     },
     "execution_count": 627,
     "metadata": {},
     "output_type": "execute_result"
    }
   ],
   "source": [
    "len(all_expanded)"
   ]
  },
  {
   "cell_type": "code",
   "execution_count": null,
   "id": "6f42925b",
   "metadata": {},
   "outputs": [],
   "source": []
  },
  {
   "cell_type": "markdown",
   "id": "75fd6923",
   "metadata": {},
   "source": [
    "## Test 3"
   ]
  },
  {
   "cell_type": "code",
   "execution_count": 569,
   "id": "fa3c206c",
   "metadata": {},
   "outputs": [
    {
     "ename": "KeyboardInterrupt",
     "evalue": "",
     "output_type": "error",
     "traceback": [
      "\u001b[0;31m---------------------------------------------------------------------------\u001b[0m",
      "\u001b[0;31mKeyboardInterrupt\u001b[0m                         Traceback (most recent call last)",
      "\u001b[0;32m/tmp/ipykernel_4863/288922213.py\u001b[0m in \u001b[0;36m<module>\u001b[0;34m\u001b[0m\n\u001b[1;32m      9\u001b[0m     \u001b[0;32mwhile\u001b[0m \u001b[0;32mnot\u001b[0m \u001b[0mlifo\u001b[0m\u001b[0;34m.\u001b[0m\u001b[0mempty\u001b[0m\u001b[0;34m(\u001b[0m\u001b[0;34m)\u001b[0m\u001b[0;34m:\u001b[0m\u001b[0;34m\u001b[0m\u001b[0;34m\u001b[0m\u001b[0m\n\u001b[1;32m     10\u001b[0m         \u001b[0mcurr_node\u001b[0m \u001b[0;34m=\u001b[0m \u001b[0mlifo\u001b[0m\u001b[0;34m.\u001b[0m\u001b[0mget\u001b[0m\u001b[0;34m(\u001b[0m\u001b[0;34m)\u001b[0m\u001b[0;34m\u001b[0m\u001b[0;34m\u001b[0m\u001b[0m\n\u001b[0;32m---> 11\u001b[0;31m         \u001b[0manswer\u001b[0m \u001b[0;34m=\u001b[0m \u001b[0mcurr_node\u001b[0m\u001b[0;34m.\u001b[0m\u001b[0mdexpand\u001b[0m\u001b[0;34m(\u001b[0m\u001b[0mlifo\u001b[0m\u001b[0;34m,\u001b[0m \u001b[0mexpanded\u001b[0m\u001b[0;34m,\u001b[0m \u001b[0mlimit\u001b[0m\u001b[0;34m)\u001b[0m\u001b[0;34m\u001b[0m\u001b[0;34m\u001b[0m\u001b[0m\n\u001b[0m\u001b[1;32m     12\u001b[0m         \u001b[0;32mif\u001b[0m \u001b[0manswer\u001b[0m \u001b[0;34m!=\u001b[0m \u001b[0;32mNone\u001b[0m\u001b[0;34m:\u001b[0m\u001b[0;34m\u001b[0m\u001b[0;34m\u001b[0m\u001b[0m\n\u001b[1;32m     13\u001b[0m             \u001b[0mprint\u001b[0m\u001b[0;34m(\u001b[0m\u001b[0;34m\"answer found\"\u001b[0m\u001b[0;34m)\u001b[0m\u001b[0;34m\u001b[0m\u001b[0;34m\u001b[0m\u001b[0m\n",
      "\u001b[0;32m/tmp/ipykernel_4863/2742847802.py\u001b[0m in \u001b[0;36mdexpand\u001b[0;34m(self, queue, expanded, limit)\u001b[0m\n\u001b[1;32m    206\u001b[0m                     \u001b[0mtemp_path\u001b[0m\u001b[0;34m.\u001b[0m\u001b[0mappend\u001b[0m\u001b[0;34m(\u001b[0m\u001b[0;34m[\u001b[0m\u001b[0mdr\u001b[0m\u001b[0;34m[\u001b[0m\u001b[0;36m0\u001b[0m\u001b[0;34m]\u001b[0m\u001b[0;34m,\u001b[0m \u001b[0;34m\"U\"\u001b[0m\u001b[0;34m]\u001b[0m\u001b[0;34m)\u001b[0m\u001b[0;34m\u001b[0m\u001b[0;34m\u001b[0m\u001b[0m\n\u001b[1;32m    207\u001b[0m                     \u001b[0mtemp_node\u001b[0m \u001b[0;34m=\u001b[0m \u001b[0mNode\u001b[0m\u001b[0;34m(\u001b[0m\u001b[0mself\u001b[0m\u001b[0;34m.\u001b[0m\u001b[0mmap\u001b[0m\u001b[0;34m,\u001b[0m \u001b[0mtemp_Cs\u001b[0m\u001b[0;34m,\u001b[0m \u001b[0mtemp_Ks\u001b[0m\u001b[0;34m,\u001b[0m \u001b[0mtemp_path\u001b[0m\u001b[0;34m,\u001b[0m \u001b[0mself\u001b[0m\u001b[0;34m.\u001b[0m\u001b[0mpath_cost\u001b[0m\u001b[0;34m+\u001b[0m\u001b[0;36m1\u001b[0m\u001b[0;34m,\u001b[0m \u001b[0mtemp_drs\u001b[0m\u001b[0;34m,\u001b[0m \u001b[0mself\u001b[0m\u001b[0;34m.\u001b[0m\u001b[0mm\u001b[0m\u001b[0;34m,\u001b[0m \u001b[0mself\u001b[0m\u001b[0;34m.\u001b[0m\u001b[0mn\u001b[0m\u001b[0;34m)\u001b[0m\u001b[0;34m\u001b[0m\u001b[0;34m\u001b[0m\u001b[0m\n\u001b[0;32m--> 208\u001b[0;31m                     \u001b[0;32mif\u001b[0m \u001b[0;32mnot\u001b[0m \u001b[0mis_in_list\u001b[0m\u001b[0;34m(\u001b[0m\u001b[0mtemp_node\u001b[0m\u001b[0;34m,\u001b[0m \u001b[0mexpanded\u001b[0m\u001b[0;34m)\u001b[0m\u001b[0;34m:\u001b[0m\u001b[0;34m\u001b[0m\u001b[0;34m\u001b[0m\u001b[0m\n\u001b[0m\u001b[1;32m    209\u001b[0m                         \u001b[0;32mif\u001b[0m \u001b[0mlimit\u001b[0m \u001b[0;34m!=\u001b[0m \u001b[0;32mNone\u001b[0m\u001b[0;34m:\u001b[0m\u001b[0;34m\u001b[0m\u001b[0;34m\u001b[0m\u001b[0m\n\u001b[1;32m    210\u001b[0m                             \u001b[0mqueue\u001b[0m\u001b[0;34m.\u001b[0m\u001b[0mput\u001b[0m\u001b[0;34m(\u001b[0m\u001b[0mtemp_node\u001b[0m\u001b[0;34m)\u001b[0m\u001b[0;34m\u001b[0m\u001b[0;34m\u001b[0m\u001b[0m\n",
      "\u001b[0;32m/tmp/ipykernel_4863/2734212859.py\u001b[0m in \u001b[0;36mis_in_list\u001b[0;34m(node, ls)\u001b[0m\n\u001b[1;32m      6\u001b[0m     \u001b[0;31m##############\u001b[0m\u001b[0;34m\u001b[0m\u001b[0;34m\u001b[0m\u001b[0;34m\u001b[0m\u001b[0m\n\u001b[1;32m      7\u001b[0m     \u001b[0;32mfor\u001b[0m \u001b[0mnd\u001b[0m \u001b[0;32min\u001b[0m \u001b[0mls\u001b[0m\u001b[0;34m:\u001b[0m\u001b[0;34m\u001b[0m\u001b[0;34m\u001b[0m\u001b[0m\n\u001b[0;32m----> 8\u001b[0;31m         \u001b[0;32mif\u001b[0m \u001b[0mnd\u001b[0m\u001b[0;34m.\u001b[0m\u001b[0mis_same\u001b[0m\u001b[0;34m(\u001b[0m\u001b[0mnode\u001b[0m\u001b[0;34m)\u001b[0m\u001b[0;34m:\u001b[0m\u001b[0;34m\u001b[0m\u001b[0;34m\u001b[0m\u001b[0m\n\u001b[0m\u001b[1;32m      9\u001b[0m             \u001b[0;32mreturn\u001b[0m \u001b[0;32mTrue\u001b[0m\u001b[0;34m\u001b[0m\u001b[0;34m\u001b[0m\u001b[0m\n\u001b[1;32m     10\u001b[0m     \u001b[0;32mreturn\u001b[0m \u001b[0;32mFalse\u001b[0m\u001b[0;34m\u001b[0m\u001b[0;34m\u001b[0m\u001b[0m\n",
      "\u001b[0;31mKeyboardInterrupt\u001b[0m: "
     ]
    }
   ],
   "source": [
    "first_time = time.time() \n",
    "answer = None\n",
    "all_expanded = []\n",
    "limit = 1\n",
    "\n",
    "while answer == None:\n",
    "    lifo = Lifo()\n",
    "    all_expanded.extend(expanded)\n",
    "    expanded = []\n",
    "    lifo.put(Node(maps[2], Cs[2], Ks[2], [], 0, [[0, 0, 0]], len(maps[2]), len(maps[2][0])))\n",
    "    while not lifo.empty():\n",
    "        curr_node = lifo.get()\n",
    "        answer = curr_node.dexpand(lifo, expanded, limit)\n",
    "        if answer != None:\n",
    "            print(\"answer found\")\n",
    "            print(\"path cost =\", answer.path_cost)\n",
    "            print(answer.path)\n",
    "            break\n",
    "    limit += 1\n",
    "last_time = time.time()"
   ]
  },
  {
   "cell_type": "code",
   "execution_count": null,
   "id": "4a1a938b",
   "metadata": {},
   "outputs": [],
   "source": [
    "bfs_time = last_time - first_time"
   ]
  },
  {
   "cell_type": "code",
   "execution_count": null,
   "id": "c344b921",
   "metadata": {},
   "outputs": [],
   "source": [
    "bfs_time"
   ]
  },
  {
   "cell_type": "code",
   "execution_count": null,
   "id": "aeb031ec",
   "metadata": {},
   "outputs": [],
   "source": [
    "len(all_expanded)"
   ]
  },
  {
   "cell_type": "code",
   "execution_count": null,
   "id": "a493dbfa",
   "metadata": {},
   "outputs": [],
   "source": []
  },
  {
   "cell_type": "markdown",
   "id": "34cca8a7",
   "metadata": {},
   "source": [
    "## Implementation with A* with consistent heuristic"
   ]
  },
  {
   "cell_type": "markdown",
   "id": "92c137c8",
   "metadata": {},
   "source": [
    "### این الگوریتم کامل .......... و همواره جواب بهینه را .............. ولی از نظر تعداد استیت ها و زمان اجرا بهینه نیست "
   ]
  },
  {
   "cell_type": "code",
   "execution_count": 39,
   "id": "ada71928",
   "metadata": {},
   "outputs": [],
   "source": [
    "maps_copy = deepcopy(maps)"
   ]
  },
  {
   "cell_type": "code",
   "execution_count": null,
   "id": "22d9577d",
   "metadata": {},
   "outputs": [],
   "source": []
  },
  {
   "cell_type": "code",
   "execution_count": null,
   "id": "3f8d7d84",
   "metadata": {},
   "outputs": [],
   "source": []
  },
  {
   "cell_type": "code",
   "execution_count": null,
   "id": "c9b9a80e",
   "metadata": {},
   "outputs": [],
   "source": []
  },
  {
   "cell_type": "code",
   "execution_count": null,
   "id": "b7452aba",
   "metadata": {},
   "outputs": [],
   "source": []
  },
  {
   "cell_type": "code",
   "execution_count": null,
   "id": "e6ed3109",
   "metadata": {},
   "outputs": [],
   "source": []
  },
  {
   "cell_type": "code",
   "execution_count": null,
   "id": "5cce693d",
   "metadata": {},
   "outputs": [],
   "source": []
  },
  {
   "cell_type": "code",
   "execution_count": null,
   "id": "f4c9d1e1",
   "metadata": {},
   "outputs": [],
   "source": []
  },
  {
   "cell_type": "code",
   "execution_count": null,
   "id": "5b5977c5",
   "metadata": {},
   "outputs": [],
   "source": []
  },
  {
   "cell_type": "code",
   "execution_count": null,
   "id": "fda38474",
   "metadata": {},
   "outputs": [],
   "source": []
  },
  {
   "cell_type": "markdown",
   "id": "ac0823ea",
   "metadata": {},
   "source": [
    "## Implementation with weighted A* with Alfa = 1.3 "
   ]
  },
  {
   "cell_type": "markdown",
   "id": "6b3aa65b",
   "metadata": {},
   "source": [
    "### این الگوریتم کامل .......... و همواره جواب بهینه را .............. ولی از نظر تعداد استیت ها و زمان اجرا بهینه نیست "
   ]
  },
  {
   "cell_type": "code",
   "execution_count": null,
   "id": "f92bd18c",
   "metadata": {},
   "outputs": [],
   "source": []
  },
  {
   "cell_type": "code",
   "execution_count": null,
   "id": "e72589ce",
   "metadata": {},
   "outputs": [],
   "source": []
  },
  {
   "cell_type": "code",
   "execution_count": 40,
   "id": "779b6360",
   "metadata": {},
   "outputs": [],
   "source": [
    "maps_copy = deepcopy(maps)"
   ]
  },
  {
   "cell_type": "code",
   "execution_count": null,
   "id": "c8b34328",
   "metadata": {},
   "outputs": [],
   "source": []
  },
  {
   "cell_type": "code",
   "execution_count": null,
   "id": "039d94cb",
   "metadata": {},
   "outputs": [],
   "source": []
  },
  {
   "cell_type": "code",
   "execution_count": null,
   "id": "b96af661",
   "metadata": {},
   "outputs": [],
   "source": []
  },
  {
   "cell_type": "code",
   "execution_count": null,
   "id": "354c556d",
   "metadata": {},
   "outputs": [],
   "source": []
  },
  {
   "cell_type": "code",
   "execution_count": null,
   "id": "6fb54af8",
   "metadata": {},
   "outputs": [],
   "source": []
  },
  {
   "cell_type": "code",
   "execution_count": null,
   "id": "90d04746",
   "metadata": {},
   "outputs": [],
   "source": []
  },
  {
   "cell_type": "code",
   "execution_count": null,
   "id": "50c5cc99",
   "metadata": {},
   "outputs": [],
   "source": []
  },
  {
   "cell_type": "code",
   "execution_count": null,
   "id": "3ed43c36",
   "metadata": {},
   "outputs": [],
   "source": []
  },
  {
   "cell_type": "markdown",
   "id": "73dbbf22",
   "metadata": {},
   "source": [
    "## Implementation with weighted A* with Alfa = 1.5"
   ]
  },
  {
   "cell_type": "markdown",
   "id": "2c8da4a7",
   "metadata": {},
   "source": [
    "### این الگوریتم کامل .......... و همواره جواب بهینه را .............. ولی از نظر تعداد استیت ها و زمان اجرا بهینه نیست "
   ]
  },
  {
   "cell_type": "code",
   "execution_count": null,
   "id": "4c7f9ca4",
   "metadata": {},
   "outputs": [],
   "source": []
  },
  {
   "cell_type": "code",
   "execution_count": null,
   "id": "6d9804cb",
   "metadata": {},
   "outputs": [],
   "source": []
  },
  {
   "cell_type": "code",
   "execution_count": 41,
   "id": "44bd7f5c",
   "metadata": {},
   "outputs": [],
   "source": [
    "maps_copy = deepcopy(maps)"
   ]
  },
  {
   "cell_type": "code",
   "execution_count": null,
   "id": "8f46bad4",
   "metadata": {},
   "outputs": [],
   "source": []
  },
  {
   "cell_type": "code",
   "execution_count": null,
   "id": "e8402ce5",
   "metadata": {},
   "outputs": [],
   "source": []
  },
  {
   "cell_type": "code",
   "execution_count": null,
   "id": "b68ed89c",
   "metadata": {},
   "outputs": [],
   "source": []
  },
  {
   "cell_type": "code",
   "execution_count": null,
   "id": "216df105",
   "metadata": {},
   "outputs": [],
   "source": []
  },
  {
   "cell_type": "code",
   "execution_count": null,
   "id": "6adfda7c",
   "metadata": {},
   "outputs": [],
   "source": []
  },
  {
   "cell_type": "code",
   "execution_count": null,
   "id": "44eaead0",
   "metadata": {},
   "outputs": [],
   "source": []
  }
 ],
 "metadata": {
  "kernelspec": {
   "display_name": "Python 3 (ipykernel)",
   "language": "python",
   "name": "python3"
  },
  "language_info": {
   "codemirror_mode": {
    "name": "ipython",
    "version": 3
   },
   "file_extension": ".py",
   "mimetype": "text/x-python",
   "name": "python",
   "nbconvert_exporter": "python",
   "pygments_lexer": "ipython3",
   "version": "3.8.10"
  }
 },
 "nbformat": 4,
 "nbformat_minor": 5
}
