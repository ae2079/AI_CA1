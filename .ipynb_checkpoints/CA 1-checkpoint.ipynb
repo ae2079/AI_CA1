{
 "cells": [
  {
   "cell_type": "markdown",
   "id": "327ee7f9",
   "metadata": {},
   "source": [
    "## پروژه اول درس هوش مصنوعی با موضوع الگوریتم های جستجوی آگاهانه و ناآگاهانه"
   ]
  },
  {
   "cell_type": "markdown",
   "id": "a95b7a71",
   "metadata": {},
   "source": [
    "## در این پروژه سعی میکنیم با استفاده از الگوریتم های زیر مساله ی یافتن راهی برای جمع آوری معجون ها از معبدی با شکل شطرنجی را حل کنیم"
   ]
  },
  {
   "cell_type": "markdown",
   "id": "5f5b2c66",
   "metadata": {},
   "source": [
    "## BFS , IDS & A*"
   ]
  },
  {
   "cell_type": "markdown",
   "id": "eac434f3",
   "metadata": {},
   "source": [
    "# Imports"
   ]
  },
  {
   "cell_type": "code",
   "execution_count": 35,
   "id": "55c1d15a",
   "metadata": {},
   "outputs": [],
   "source": [
    "##import numpy as np\n",
    "import time"
   ]
  },
  {
   "cell_type": "markdown",
   "id": "623354c1",
   "metadata": {},
   "source": [
    "# Body"
   ]
  },
  {
   "cell_type": "markdown",
   "id": "67e7a77e",
   "metadata": {},
   "source": [
    "## Load tests data"
   ]
  },
  {
   "cell_type": "code",
   "execution_count": 33,
   "id": "dd5a19e2",
   "metadata": {},
   "outputs": [],
   "source": [
    "tests = []\n",
    "file = open(\"test1.in\")\n",
    "tests.append(file.readlines())\n",
    "file.close()\n",
    "file = open(\"test2.in\")\n",
    "tests.append(file.readlines())\n",
    "file.close()\n",
    "file = open(\"test3.in\")\n",
    "tests.append(file.readlines())\n",
    "file.close()"
   ]
  },
  {
   "cell_type": "markdown",
   "id": "a6d5745a",
   "metadata": {},
   "source": [
    "#### داده های تست ها را از فایل هایی که در پوشه پروژه قرار دارند برای تست برنامه لود می کنیم\n",
    "#### با توجه به تست های موجود فرض می شود که تعداد سطر ها و ستون ها اعداد تک رقمی می باشند "
   ]
  },
  {
   "cell_type": "markdown",
   "id": "dfb3485d",
   "metadata": {},
   "source": [
    "## Create tests maps"
   ]
  },
  {
   "cell_type": "code",
   "execution_count": 48,
   "id": "74d83095",
   "metadata": {},
   "outputs": [],
   "source": [
    "maps = []\n",
    "#C = []\n",
    "#K = []\n",
    "for test in tests:\n",
    "    num_of_row = int(test[0][0])\n",
    "    num_of_col = int(test[0][2])\n",
    "    temp_row = ['e'] * num_of_col\n",
    "    curr_map = [temp_row] * num_of_row\n",
    "    #maps.append(temp_map)\n",
    "    curr_c = int(test[1][0])\n",
    "    #C.append(curr_c)\n",
    "    curr_k = int(test[1][2])\n",
    "    #K.append(curr_k)\n",
    "    print(\"c = \", curr_c)\n",
    "    print(\"k = \", curr_k)\n",
    "    for i in range(0, curr_c):\n",
    "        curr_map[int(test[2+i][0])][int(test[2+i][2])] = 'c'\n",
    "    for i in range(0, curr_k):\n",
    "        curr_map[int(test[2+curr_c+i][0])][int(test[2+curr_c+i][2])] = 'k'\n",
    "    maps.append(curr_map)\n"
   ]
  },
  {
   "cell_type": "code",
   "execution_count": 49,
   "id": "c40264c9",
   "metadata": {},
   "outputs": [
    {
     "data": {
      "text/plain": [
       "[[['c', 'k', 'c', 'e'],\n",
       "  ['c', 'k', 'c', 'e'],\n",
       "  ['c', 'k', 'c', 'e'],\n",
       "  ['c', 'k', 'c', 'e']],\n",
       " [['k', 'k', 'c', 'e'],\n",
       "  ['k', 'k', 'c', 'e'],\n",
       "  ['k', 'k', 'c', 'e'],\n",
       "  ['k', 'k', 'c', 'e']],\n",
       " [['e', 'c', 'k', 'c', 'e', 'c'],\n",
       "  ['e', 'c', 'k', 'c', 'e', 'c'],\n",
       "  ['e', 'c', 'k', 'c', 'e', 'c'],\n",
       "  ['e', 'c', 'k', 'c', 'e', 'c'],\n",
       "  ['e', 'c', 'k', 'c', 'e', 'c'],\n",
       "  ['e', 'c', 'k', 'c', 'e', 'c']]]"
      ]
     },
     "execution_count": 49,
     "metadata": {},
     "output_type": "execute_result"
    }
   ],
   "source": [
    "maps"
   ]
  },
  {
   "cell_type": "code",
   "execution_count": null,
   "id": "8b0c674a",
   "metadata": {},
   "outputs": [],
   "source": []
  },
  {
   "cell_type": "code",
   "execution_count": null,
   "id": "9ddac3eb",
   "metadata": {},
   "outputs": [],
   "source": []
  },
  {
   "cell_type": "code",
   "execution_count": null,
   "id": "6f136c5a",
   "metadata": {},
   "outputs": [],
   "source": []
  },
  {
   "cell_type": "markdown",
   "id": "9f228917",
   "metadata": {},
   "source": [
    "## Implementation with BFS"
   ]
  },
  {
   "cell_type": "code",
   "execution_count": null,
   "id": "3d35494a",
   "metadata": {},
   "outputs": [],
   "source": []
  },
  {
   "cell_type": "code",
   "execution_count": null,
   "id": "2ba860d9",
   "metadata": {},
   "outputs": [],
   "source": []
  },
  {
   "cell_type": "code",
   "execution_count": null,
   "id": "e8df35a7",
   "metadata": {},
   "outputs": [],
   "source": []
  },
  {
   "cell_type": "code",
   "execution_count": null,
   "id": "6abf707d",
   "metadata": {},
   "outputs": [],
   "source": []
  },
  {
   "cell_type": "code",
   "execution_count": null,
   "id": "475e7831",
   "metadata": {},
   "outputs": [],
   "source": []
  },
  {
   "cell_type": "code",
   "execution_count": null,
   "id": "6a44520f",
   "metadata": {},
   "outputs": [],
   "source": []
  },
  {
   "cell_type": "code",
   "execution_count": null,
   "id": "a7c344c9",
   "metadata": {},
   "outputs": [],
   "source": []
  },
  {
   "cell_type": "code",
   "execution_count": null,
   "id": "458553ed",
   "metadata": {},
   "outputs": [],
   "source": []
  },
  {
   "cell_type": "markdown",
   "id": "d3a94bae",
   "metadata": {},
   "source": [
    "## Implementation with IDS"
   ]
  },
  {
   "cell_type": "code",
   "execution_count": null,
   "id": "82553c55",
   "metadata": {},
   "outputs": [],
   "source": []
  },
  {
   "cell_type": "code",
   "execution_count": null,
   "id": "3ef3078c",
   "metadata": {},
   "outputs": [],
   "source": []
  },
  {
   "cell_type": "code",
   "execution_count": null,
   "id": "ec5afe9e",
   "metadata": {},
   "outputs": [],
   "source": []
  },
  {
   "cell_type": "code",
   "execution_count": null,
   "id": "da292f5e",
   "metadata": {},
   "outputs": [],
   "source": []
  },
  {
   "cell_type": "code",
   "execution_count": null,
   "id": "2e55c7e2",
   "metadata": {},
   "outputs": [],
   "source": []
  },
  {
   "cell_type": "code",
   "execution_count": null,
   "id": "cf5e8d15",
   "metadata": {},
   "outputs": [],
   "source": []
  },
  {
   "cell_type": "code",
   "execution_count": null,
   "id": "23257633",
   "metadata": {},
   "outputs": [],
   "source": []
  },
  {
   "cell_type": "code",
   "execution_count": null,
   "id": "3ca77def",
   "metadata": {},
   "outputs": [],
   "source": []
  },
  {
   "cell_type": "markdown",
   "id": "e8ca4dc0",
   "metadata": {},
   "source": [
    "## Implementation with A* with consistent heuristic"
   ]
  },
  {
   "cell_type": "code",
   "execution_count": null,
   "id": "7eda01d7",
   "metadata": {},
   "outputs": [],
   "source": []
  },
  {
   "cell_type": "code",
   "execution_count": null,
   "id": "d03c40ec",
   "metadata": {},
   "outputs": [],
   "source": []
  },
  {
   "cell_type": "code",
   "execution_count": null,
   "id": "cefceb6e",
   "metadata": {},
   "outputs": [],
   "source": []
  },
  {
   "cell_type": "code",
   "execution_count": null,
   "id": "2e976330",
   "metadata": {},
   "outputs": [],
   "source": []
  },
  {
   "cell_type": "code",
   "execution_count": null,
   "id": "06bf9bd9",
   "metadata": {},
   "outputs": [],
   "source": []
  },
  {
   "cell_type": "code",
   "execution_count": null,
   "id": "9fd83f3c",
   "metadata": {},
   "outputs": [],
   "source": []
  },
  {
   "cell_type": "code",
   "execution_count": null,
   "id": "304dfa58",
   "metadata": {},
   "outputs": [],
   "source": []
  },
  {
   "cell_type": "code",
   "execution_count": null,
   "id": "541d50d1",
   "metadata": {},
   "outputs": [],
   "source": []
  },
  {
   "cell_type": "code",
   "execution_count": null,
   "id": "9d3ed460",
   "metadata": {},
   "outputs": [],
   "source": []
  },
  {
   "cell_type": "code",
   "execution_count": null,
   "id": "8c80802f",
   "metadata": {},
   "outputs": [],
   "source": []
  },
  {
   "cell_type": "markdown",
   "id": "726bcef7",
   "metadata": {},
   "source": [
    "## Implementation with weighted A* with Alfa = 1.3 "
   ]
  },
  {
   "cell_type": "code",
   "execution_count": null,
   "id": "645ba4a1",
   "metadata": {},
   "outputs": [],
   "source": []
  },
  {
   "cell_type": "code",
   "execution_count": null,
   "id": "211d9111",
   "metadata": {},
   "outputs": [],
   "source": []
  },
  {
   "cell_type": "code",
   "execution_count": null,
   "id": "2c0b17a6",
   "metadata": {},
   "outputs": [],
   "source": []
  },
  {
   "cell_type": "code",
   "execution_count": null,
   "id": "6b3cac43",
   "metadata": {},
   "outputs": [],
   "source": []
  },
  {
   "cell_type": "code",
   "execution_count": null,
   "id": "3a47f145",
   "metadata": {},
   "outputs": [],
   "source": []
  },
  {
   "cell_type": "code",
   "execution_count": null,
   "id": "ac38957a",
   "metadata": {},
   "outputs": [],
   "source": []
  },
  {
   "cell_type": "code",
   "execution_count": null,
   "id": "53cec8f7",
   "metadata": {},
   "outputs": [],
   "source": []
  },
  {
   "cell_type": "code",
   "execution_count": null,
   "id": "90d451eb",
   "metadata": {},
   "outputs": [],
   "source": []
  },
  {
   "cell_type": "code",
   "execution_count": null,
   "id": "980452ae",
   "metadata": {},
   "outputs": [],
   "source": []
  },
  {
   "cell_type": "markdown",
   "id": "aec98ac1",
   "metadata": {},
   "source": [
    "## Implementation with weighted A* with Alfa = 1.5"
   ]
  },
  {
   "cell_type": "code",
   "execution_count": null,
   "id": "6b397ba3",
   "metadata": {},
   "outputs": [],
   "source": []
  }
 ],
 "metadata": {
  "kernelspec": {
   "display_name": "Python 3 (ipykernel)",
   "language": "python",
   "name": "python3"
  },
  "language_info": {
   "codemirror_mode": {
    "name": "ipython",
    "version": 3
   },
   "file_extension": ".py",
   "mimetype": "text/x-python",
   "name": "python",
   "nbconvert_exporter": "python",
   "pygments_lexer": "ipython3",
   "version": "3.8.10"
  }
 },
 "nbformat": 4,
 "nbformat_minor": 5
}
